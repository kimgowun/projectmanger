{
  "cells": [
    {
      "cell_type": "markdown",
      "metadata": {
        "id": "view-in-github",
        "colab_type": "text"
      },
      "source": [
        "<a href=\"https://colab.research.google.com/github/kimgowun/projectmanger/blob/main/1_02.ipynb\" target=\"_parent\"><img src=\"https://colab.research.google.com/assets/colab-badge.svg\" alt=\"Open In Colab\"/></a>"
      ]
    },
    {
      "cell_type": "markdown",
      "id": "8daf7079",
      "metadata": {
        "id": "8daf7079"
      },
      "source": [
        "# 파이썬 기초 다지기"
      ]
    },
    {
      "cell_type": "code",
      "source": [],
      "metadata": {
        "id": "llRo2yuN7k7Q"
      },
      "id": "llRo2yuN7k7Q",
      "execution_count": null,
      "outputs": []
    },
    {
      "cell_type": "markdown",
      "id": "3f3da3bd",
      "metadata": {
        "id": "3f3da3bd"
      },
      "source": [
        "## 2 - 파이썬 자료형과 데이터 표현\n",
        "파이썬의 다양한 데이터 타입과 다양한 연산자, 문자열"
      ]
    },
    {
      "cell_type": "markdown",
      "id": "0c52a67e",
      "metadata": {
        "id": "0c52a67e"
      },
      "source": [
        "----------------------------------"
      ]
    },
    {
      "cell_type": "markdown",
      "id": "1ff36611",
      "metadata": {
        "id": "1ff36611"
      },
      "source": [
        "## 2-1.파이썬 자료형(Data Type)"
      ]
    },
    {
      "cell_type": "markdown",
      "id": "278fb39c",
      "metadata": {
        "id": "278fb39c"
      },
      "source": [
        "### 수학 연산하기"
      ]
    },
    {
      "cell_type": "code",
      "execution_count": null,
      "id": "7ea3146f",
      "metadata": {
        "id": "7ea3146f"
      },
      "outputs": [],
      "source": [
        "print(a+b)\n",
        "print(a-b)\n",
        "print(a*b)\n",
        "print(a/b)\n",
        "\n",
        "\n"
      ]
    },
    {
      "cell_type": "markdown",
      "id": "105f773c",
      "metadata": {
        "id": "105f773c"
      },
      "source": [
        "### [실습문제]\n",
        "- 문제1: 10 + 3 x 4 결과 출력\n",
        "- 문제2: 아이폰 15대를 가지고 있다. 아이폰의 가격이 130만원 일 때 총 금액은?\n",
        "- 문제3: 주어진 자연수가 홀수인지 짝수인지 판별하는 방법은?\n",
        "- 문제4: 2x2x2x5x5x5x5x3x3x3x3을 제곱형태로 나타낸 후 그 결과 출력하기"
      ]
    },
    {
      "cell_type": "code",
      "execution_count": null,
      "id": "7a853d89",
      "metadata": {
        "colab": {
          "base_uri": "https://localhost:8080/",
          "height": 271
        },
        "id": "7a853d89",
        "outputId": "64741a47-c9bb-4c43-a5e3-1a8be3680612"
      },
      "outputs": [
        {
          "output_type": "stream",
          "name": "stdout",
          "text": [
            "10+3*4= 22\n"
          ]
        },
        {
          "output_type": "error",
          "ename": "NameError",
          "evalue": "ignored",
          "traceback": [
            "\u001b[0;31m---------------------------------------------------------------------------\u001b[0m",
            "\u001b[0;31mNameError\u001b[0m                                 Traceback (most recent call last)",
            "\u001b[0;32m<ipython-input-33-03696a138898>\u001b[0m in \u001b[0;36m<cell line: 5>\u001b[0;34m()\u001b[0m\n\u001b[1;32m      3\u001b[0m \u001b[0mimphone\u001b[0m \u001b[0;34m=\u001b[0m \u001b[0;36m15\u001b[0m\u001b[0;34m\u001b[0m\u001b[0;34m\u001b[0m\u001b[0m\n\u001b[1;32m      4\u001b[0m \u001b[0mprice\u001b[0m \u001b[0;34m=\u001b[0m \u001b[0;36m13000000\u001b[0m\u001b[0;34m\u001b[0m\u001b[0;34m\u001b[0m\u001b[0m\n\u001b[0;32m----> 5\u001b[0;31m \u001b[0mprint\u001b[0m\u001b[0;34m(\u001b[0m\u001b[0;34m'%d*%d=%d'\u001b[0m\u001b[0;34m%\u001b[0m\u001b[0;34m(\u001b[0m\u001b[0miphone\u001b[0m\u001b[0;34m,\u001b[0m\u001b[0mprice\u001b[0m\u001b[0;34m,\u001b[0m\u001b[0miphone\u001b[0m \u001b[0;34m*\u001b[0m \u001b[0mprice\u001b[0m\u001b[0;34m)\u001b[0m\u001b[0;34m)\u001b[0m\u001b[0;34m\u001b[0m\u001b[0;34m\u001b[0m\u001b[0m\n\u001b[0m\u001b[1;32m      6\u001b[0m \u001b[0;34m\u001b[0m\u001b[0m\n\u001b[1;32m      7\u001b[0m \u001b[0;34m\u001b[0m\u001b[0m\n",
            "\u001b[0;31mNameError\u001b[0m: name 'iphone' is not defined"
          ]
        }
      ],
      "source": [
        "print('10+3*4=', 10+3*4)\n",
        "\n",
        "iphone = 15\n",
        "price = 13000000\n",
        "print('%d %d=%d'%(iphone,price,iphone * price))\n",
        "print(f'{iphone}* {price}'={iphone * price}')\n",
        "\n",
        "\n",
        "\n",
        "\n"
      ]
    },
    {
      "cell_type": "markdown",
      "id": "65487a5c",
      "metadata": {
        "id": "65487a5c"
      },
      "source": [
        "### 변수\n",
        "데이터를 저장할 수 있는 공간\n",
        "\n",
        "**변수 사용 시 주의사항**\n",
        "- 첫 글자는 영문, 혹은 _(언더바)로 시작할 것 (한글도 가능)\n",
        "- 영문자, 숫자, _(언더바)만으로 구성할 것 (공백문자 불가)\n",
        "- 대문자, 소문자 구분해서 사용할 것\n",
        "- 예약어는 피할 것"
      ]
    },
    {
      "cell_type": "code",
      "execution_count": null,
      "id": "c86ab944",
      "metadata": {
        "id": "c86ab944"
      },
      "outputs": [],
      "source": []
    },
    {
      "cell_type": "markdown",
      "id": "6b43e39d",
      "metadata": {
        "id": "6b43e39d"
      },
      "source": [
        "### 파이썬 자료형"
      ]
    },
    {
      "cell_type": "code",
      "execution_count": null,
      "id": "bdcd0ef1",
      "metadata": {
        "colab": {
          "base_uri": "https://localhost:8080/"
        },
        "id": "bdcd0ef1",
        "outputId": "aa25c6bc-89e9-47b3-d4cf-85f9197132b9"
      },
      "outputs": [
        {
          "output_type": "stream",
          "name": "stdout",
          "text": [
            "데이터 123의 자료형: <class 'int'>\n",
            "데이터 123의 자료형: <class 'str'>\n",
            "데이터 [123]의 자료형: <class 'list'>\n",
            "데이터 (123,)의 자료형: <class 'tuple'>\n",
            "데이터 {'key': 123}의 자료형: <class 'dict'>\n",
            "데이터 {123}의 자료형: <class 'set'>\n",
            "데이터 True의 자료형: <class 'bool'>\n"
          ]
        }
      ],
      "source": [
        "d1 = 123\n",
        "d2 = '123'\n",
        "d3 = [123]\n",
        "d4 = (123,)\n",
        "d5 = {'key':123}\n",
        "d6 = {123}\n",
        "d7 = True\n",
        "\n",
        "print(f'데이터 {d1}의 자료형: {type(d1)}')\n",
        "print(f'데이터 {d2}의 자료형: {type(d2)}')\n",
        "print(f'데이터 {d3}의 자료형: {type(d3)}')\n",
        "print(f'데이터 {d4}의 자료형: {type(d4)}')\n",
        "print(f'데이터 {d5}의 자료형: {type(d5)}')\n",
        "print(f'데이터 {d6}의 자료형: {type(d6)}')\n",
        "print(f'데이터 {d7}의 자료형: {type(d7)}')"
      ]
    },
    {
      "cell_type": "markdown",
      "id": "7cda86df",
      "metadata": {
        "id": "7cda86df"
      },
      "source": [
        "### 표준 입력과 출력\n",
        "- 키보드로부터 입력을 받는 함수( input() )을 표준 입력함수라 한다.\n",
        "- 화면에 출력하는 함수( print() )를 표준 출력함수라 한다.\n",
        "\n",
        "파일 텍스트 파일 read, readline, readlines\n",
        "int 숫자 데이터를 정수형으로 만들기 위해서 사용하는 함수\n",
        "float 숫자 데이터를 실수형으로 만들기 위해서 사용하는 함수"
      ]
    },
    {
      "cell_type": "code",
      "execution_count": null,
      "id": "00ff5c37",
      "metadata": {
        "colab": {
          "base_uri": "https://localhost:8080/"
        },
        "id": "00ff5c37",
        "outputId": "ceaf01db-b95c-4755-b504-72da1e6b4589"
      },
      "outputs": [
        {
          "output_type": "stream",
          "name": "stdout",
          "text": [
            "숫자를 입력하세요: 20\n",
            "변수 a의 값: ['l', 'o', 'v', 'e'], <class 'list'>\n"
          ]
        }
      ],
      "source": [
        "# 표준 입력(키보드로부터 데이터를 입력 받는 것)\n",
        "a = input('숫자를 입력하세요: ')\n",
        "# a = float(a)\n",
        "a = list('love')\n",
        "\n",
        "# 표준 출력\n",
        "print(f'변수 a의 값: {a}, {type(a)}')\n"
      ]
    },
    {
      "cell_type": "markdown",
      "id": "18bc822a",
      "metadata": {
        "id": "18bc822a"
      },
      "source": [
        "#### 문자열 데이터를 숫자(정수)로 변환하기\n",
        "\n",
        "문자열 %s, %d, %f"
      ]
    },
    {
      "cell_type": "code",
      "execution_count": null,
      "id": "aaf9890f",
      "metadata": {
        "colab": {
          "base_uri": "https://localhost:8080/"
        },
        "id": "aaf9890f",
        "outputId": "eb71fd89-5964-4e8b-a9b5-8219a4ee05d9"
      },
      "outputs": [
        {
          "output_type": "stream",
          "name": "stdout",
          "text": [
            "변수 a에 기억된 값은\n"
          ]
        }
      ],
      "source": [
        "# 문자열 데이터를 숫자(정수)로 변환하기\n",
        "print('변수 a에 기억된 값은')"
      ]
    },
    {
      "cell_type": "markdown",
      "id": "c0436ecb",
      "metadata": {
        "id": "c0436ecb"
      },
      "source": [
        "#### 다양한 변수 출력 방법"
      ]
    },
    {
      "cell_type": "code",
      "execution_count": null,
      "id": "7d2e160d",
      "metadata": {
        "scrolled": true,
        "id": "7d2e160d"
      },
      "outputs": [],
      "source": [
        "a = input('키보드로 숫자를 입력해 주세요 ')\n",
        "\n"
      ]
    },
    {
      "cell_type": "markdown",
      "id": "7ea5c22e",
      "metadata": {
        "id": "7ea5c22e"
      },
      "source": [
        "### [실습문제] : 계산기 프로그램 만들기\n",
        "정수 2개를 키보드로 각각 입력 받아 아래와 같이 덧셈, 뺄셈, 곱셈, 몫, 나머지를\n",
        "\n",
        "\n",
        "출력하는 프로그램을 만들어 보세요.\n"
      ]
    },
    {
      "cell_type": "code",
      "execution_count": null,
      "id": "fa128ef7",
      "metadata": {
        "colab": {
          "base_uri": "https://localhost:8080/",
          "height": 146
        },
        "id": "fa128ef7",
        "outputId": "64096fa9-5be5-409a-a990-447de8d2185e"
      },
      "outputs": [
        {
          "output_type": "error",
          "ename": "SyntaxError",
          "evalue": "ignored",
          "traceback": [
            "\u001b[0;36m  File \u001b[0;32m\"<ipython-input-50-531383dc7285>\"\u001b[0;36m, line \u001b[0;32m8\u001b[0m\n\u001b[0;31m    print('나눗셈:{num1} / {num2} = (num1, num2, num1+num2))\u001b[0m\n\u001b[0m          ^\u001b[0m\n\u001b[0;31mSyntaxError\u001b[0m\u001b[0;31m:\u001b[0m unterminated string literal (detected at line 8)\n"
          ]
        }
      ],
      "source": [
        "\n",
        "num1= int( input('첫번째 숫자: '))\n",
        "num2= int( input('두번째 숫자:'))\n",
        "print('-' * 50)\n",
        " # *: 문자열 반복\n",
        "print('덧셈: {num1}+{num2}={num1}+{num2}')\n",
        "print('뺄셈: {num1}-{num2}={num1}-{num2}')\n",
        "print('곱셈: {num1}*{num2}={num1}*{num2}')\n",
        "print('나눗셈:{num1} / {num2} = (num1, num2, num1+num2))\n",
        "\n",
        "\n"
      ]
    },
    {
      "cell_type": "markdown",
      "id": "ca1816b6",
      "metadata": {
        "id": "ca1816b6"
      },
      "source": [
        "- f'string' 함수를 이용해 출력하기"
      ]
    },
    {
      "cell_type": "code",
      "execution_count": null,
      "id": "8b486e15",
      "metadata": {
        "id": "8b486e15"
      },
      "outputs": [],
      "source": [
        "\n",
        "\n"
      ]
    },
    {
      "cell_type": "markdown",
      "id": "157b41ef",
      "metadata": {
        "id": "157b41ef"
      },
      "source": [
        "### [실습문제] : 시간 계산 프로그램\n",
        "속력과 거리를 입력 받아 시간을 계산하여 출력하는 프로그램을 만드세요!\n",
        "- 시간 = 거리 / 속력"
      ]
    },
    {
      "cell_type": "code",
      "execution_count": null,
      "id": "93102e01",
      "metadata": {
        "colab": {
          "base_uri": "https://localhost:8080/"
        },
        "id": "93102e01",
        "outputId": "c100294c-8886-4d98-a65b-b90c3b01ee3c"
      },
      "outputs": [
        {
          "output_type": "stream",
          "name": "stdout",
          "text": [
            "속력를 입력해 주세요(km/h) : 100\n",
            "거리를 입력해 주세요(km) : 325\n",
            "걸린 시간은 3.25=325.0 km /100.0 km/h\n",
            "--------------------------------------------------\n",
            "속력: 100.0 km/h\n",
            "거리: 325.0 km\n",
            "시간: 3.25h\n"
          ]
        }
      ],
      "source": [
        "velocity = float(input('속력를 입력해 주세요(km/h) : '))\n",
        "distance = float(input('거리를 입력해 주세요(km) : '))\n",
        "time = eval(f'{distance}/{velocity}')\n",
        "print(f'걸린 시간은 {time}={distance} km /{velocity} km/h')\n",
        "print('-'*50)\n",
        "print(f'속력: {velocity} km/h')\n",
        "print(f'거리: {distance} km')\n",
        "print(f'시간: {distance/velocity}h')\n",
        "\n",
        "\n",
        "\n",
        "\n"
      ]
    },
    {
      "cell_type": "markdown",
      "id": "89f48168",
      "metadata": {
        "id": "89f48168"
      },
      "source": [
        "- eval()함수 사용하여 문자열을 계산할 수 있다"
      ]
    },
    {
      "cell_type": "code",
      "execution_count": null,
      "id": "39dab77c",
      "metadata": {
        "colab": {
          "base_uri": "https://localhost:8080/"
        },
        "id": "39dab77c",
        "outputId": "014c9b9f-e040-47db-d322-6393075b55b5"
      },
      "outputs": [
        {
          "output_type": "execute_result",
          "data": {
            "text/plain": [
              "70.0"
            ]
          },
          "metadata": {},
          "execution_count": 55
        }
      ],
      "source": [
        "# eval()함수 사용\n",
        "eval('10+40*3/2')\n"
      ]
    },
    {
      "cell_type": "markdown",
      "id": "85b8c542",
      "metadata": {
        "id": "85b8c542"
      },
      "source": [
        "### 내장 수학 함수\n",
        "- 파이썬 내장 함수 https://docs.python.org/ko/3.10/library/functions.html"
      ]
    },
    {
      "cell_type": "code",
      "execution_count": null,
      "id": "2bfba8be",
      "metadata": {
        "scrolled": true,
        "colab": {
          "base_uri": "https://localhost:8080/"
        },
        "id": "2bfba8be",
        "outputId": "accfc46e-653b-4d89-d113-cd8f05d29e14"
      },
      "outputs": [
        {
          "output_type": "stream",
          "name": "stdout",
          "text": [
            "원주율: 3.141592653589793\n",
            "절대값: 3.14\n",
            "반올림: -3\n",
            "올림  : -3\n",
            "내림  : -4\n",
            "제곱  : 256.0\n",
            "제곱근: 2.0\n",
            "로그  : 2.302585092994046\n"
          ]
        }
      ],
      "source": [
        "import math\n",
        "a = -3.14\n",
        "print(f'원주율: {math.pi }')\n",
        "print(f'절대값: {abs(a) }')\n",
        "print(f'반올림: {round(a) }')\n",
        "print(f'올림  : {math.ceil(a)}')\n",
        "print(f'내림  : {math.floor(a) }')\n",
        "print(f'제곱  : {math.pow(2, 8) }')\n",
        "print(f'제곱근: {math.sqrt(4) }')\n",
        "print(f'로그  : {math.log(10) }')"
      ]
    },
    {
      "cell_type": "markdown",
      "id": "c8147e87",
      "metadata": {
        "id": "c8147e87"
      },
      "source": [
        "### [실습문제]: 수학 함수 사용하여 계산하기\n",
        "- 문제1: 반지름이 4인 원의 넓이 출력\n",
        "- 문제2: 3.14 곱하기 2 나누기 7의 값을 반올림하여 계산 결과 출력\n",
        "- 문제3: 원주율을 3.14로 만들어서 반지름이 4인 원의 둘레의 길이 출력"
      ]
    },
    {
      "cell_type": "code",
      "execution_count": null,
      "id": "45ed86c9",
      "metadata": {
        "colab": {
          "base_uri": "https://localhost:8080/"
        },
        "id": "45ed86c9",
        "outputId": "bc2f5757-b19a-4bfa-d8d4-eba24fec1ada"
      },
      "outputs": [
        {
          "output_type": "stream",
          "name": "stdout",
          "text": [
            "원주율: 3.141592653589793\n",
            "절대값: 4\n",
            "반올림: 4\n",
            "올림  : 4\n",
            "내림  : 4\n",
            "제곱  : 256.0\n",
            "제곱근: 2.0\n",
            "로그  : 2.302585092994046\n",
            "반지름이 4인 원의 넓이: 50.26548245743669\n",
            "1\n",
            "25.12\n"
          ]
        }
      ],
      "source": [
        "from math import pi\n",
        "from math import radians\n",
        "from math import radians\n",
        "import math\n",
        "a = 4\n",
        "print(f'원주율: {math.pi }')\n",
        "print(f'절대값: {abs(a) }')\n",
        "print(f'반올림: {round(a) }')\n",
        "print(f'올림  : {math.ceil(a)}')\n",
        "print(f'내림  : {math.floor(a) }')\n",
        "print(f'제곱  : {math.pow(2, 8) }')\n",
        "print(f'제곱근: {math.sqrt(4) }')\n",
        "print(f'로그  : {math.log(10) }')\n",
        "\n",
        "print(f'반지름이 4인 원의 넓이: {math.pi * 4**2}')\n",
        "print(round(3.14*2/7))\n",
        "print(2 * 3.14 * 4)\n",
        "\n",
        "\n"
      ]
    },
    {
      "cell_type": "markdown",
      "id": "32f4b4ce",
      "metadata": {
        "id": "32f4b4ce"
      },
      "source": [
        "---------------------------"
      ]
    },
    {
      "cell_type": "markdown",
      "id": "12be6789",
      "metadata": {
        "id": "12be6789"
      },
      "source": [
        "## 2-2.문자와 문자열"
      ]
    },
    {
      "cell_type": "markdown",
      "id": "90255097",
      "metadata": {
        "id": "90255097"
      },
      "source": [
        "#### 문자와 문자열 변환"
      ]
    },
    {
      "cell_type": "code",
      "execution_count": null,
      "id": "a52f17d8",
      "metadata": {
        "id": "a52f17d8",
        "colab": {
          "base_uri": "https://localhost:8080/"
        },
        "outputId": "df7f0322-9938-4bcf-e183-4d9fb0c638d4"
      },
      "outputs": [
        {
          "output_type": "stream",
          "name": "stdout",
          "text": [
            "65\n",
            "97\n",
            "33\n",
            "44032\n"
          ]
        }
      ],
      "source": [
        "# 문자 --> 숫자(정수) 로 변환 : ord() 함수 사용\n",
        "print( ord('A') )\n",
        "print( ord('a') )\n",
        "print( ord('!') )\n",
        "print( ord('가') )"
      ]
    },
    {
      "cell_type": "code",
      "execution_count": null,
      "id": "88bbb733",
      "metadata": {
        "id": "88bbb733",
        "colab": {
          "base_uri": "https://localhost:8080/"
        },
        "outputId": "37e8c025-5143-4377-99ab-75ad9c249359"
      },
      "outputs": [
        {
          "output_type": "stream",
          "name": "stdout",
          "text": [
            "A\n",
            "B\n",
            "a\n",
            "b\n",
            "가\n",
            "각\n"
          ]
        }
      ],
      "source": [
        "# 숫자(정수) --> 문자 로 변환 : chr() 함수 사용\n",
        "print( chr(65) )\n",
        "print( chr(66) )\n",
        "print( chr(97) )\n",
        "print( chr(98) )\n",
        "print( chr(44032) )\n",
        "print( chr(44033) )"
      ]
    },
    {
      "cell_type": "code",
      "execution_count": null,
      "id": "1cbfb609",
      "metadata": {
        "id": "1cbfb609",
        "colab": {
          "base_uri": "https://localhost:8080/"
        },
        "outputId": "fad05fe3-f926-4f74-9263-81e7b874450e"
      },
      "outputs": [
        {
          "output_type": "stream",
          "name": "stdout",
          "text": [
            "0b1101001100001100,0b1100011101110100,0b1100001101101100,"
          ]
        }
      ],
      "source": [
        "# 문자 --> 숫자 --> 이진수 로 변환\n",
        "for c in '파이썬':\n",
        "    숫자변환 = ord(c)              # unicode\n",
        "    이진수변환 = bin(숫자변환)     # 16진수 binarycode\n",
        "    print( 이진수변환, end = ',')  # 한 줄로 표현하기"
      ]
    },
    {
      "cell_type": "code",
      "execution_count": null,
      "id": "d9577a3f",
      "metadata": {
        "id": "d9577a3f",
        "colab": {
          "base_uri": "https://localhost:8080/"
        },
        "outputId": "88d698dc-dbf8-4fc8-f265-8824b3dcdb23"
      },
      "outputs": [
        {
          "output_type": "stream",
          "name": "stdout",
          "text": [
            "1101001100001100 1100011101110100 1100001101101100 "
          ]
        }
      ],
      "source": [
        "for c in '파이썬':\n",
        "    # 이진수에서 앞'0b'를 없애기 위해 format() 함수 사용할 수 있다.\n",
        "    print( format(ord(c), 'b'), end = ' ')  # 한 줄로 표현하기"
      ]
    },
    {
      "cell_type": "markdown",
      "id": "c87a0c03",
      "metadata": {
        "id": "c87a0c03"
      },
      "source": [
        "### 문자열 따옴표로 지정"
      ]
    },
    {
      "cell_type": "code",
      "source": [],
      "metadata": {
        "id": "jIFqCYAmArcz"
      },
      "id": "jIFqCYAmArcz",
      "execution_count": null,
      "outputs": []
    },
    {
      "cell_type": "markdown",
      "id": "e343167b",
      "metadata": {
        "id": "e343167b"
      },
      "source": [
        "#### 큰 따옴표  or 작은 따옴표로 지정한다"
      ]
    },
    {
      "cell_type": "code",
      "execution_count": null,
      "id": "fae54804",
      "metadata": {
        "id": "fae54804",
        "colab": {
          "base_uri": "https://localhost:8080/"
        },
        "outputId": "bf105c8d-e6c9-4779-a40c-90d288277e26"
      },
      "outputs": [
        {
          "output_type": "stream",
          "name": "stdout",
          "text": [
            "Hello\n",
            "Hello\n",
            "Hello 'world\n",
            "Hello \"world\n",
            " \"Yes, I can!\" \n",
            " \"Yes, I can!\" \n"
          ]
        }
      ],
      "source": [
        "print('Hello')\n",
        "print(\"Hello\")\n",
        "print(\"Hello 'world\")\n",
        "print('Hello \"world')\n",
        "print(' \"Yes, I can!\" ')\n",
        "print(' \\\"Yes, I can!\\\" ')"
      ]
    },
    {
      "cell_type": "markdown",
      "id": "66f9d31e",
      "metadata": {
        "id": "66f9d31e"
      },
      "source": [
        "#### 따옴표 세 개 사용 : 여러 줄로 표현할 때"
      ]
    },
    {
      "cell_type": "code",
      "execution_count": null,
      "id": "48fe4ca0",
      "metadata": {
        "id": "48fe4ca0",
        "colab": {
          "base_uri": "https://localhost:8080/"
        },
        "outputId": "593cb2f2-b9b8-410c-bb89-d69385641745"
      },
      "outputs": [
        {
          "output_type": "stream",
          "name": "stdout",
          "text": [
            "박씨가 소리질렀다.\n",
            "도둑이야!\n"
          ]
        }
      ],
      "source": [
        "a = '''박씨가 소리질렀다.\n",
        "도둑이야!'''\n",
        "print(a)"
      ]
    },
    {
      "cell_type": "code",
      "execution_count": null,
      "id": "b32c2a51",
      "metadata": {
        "scrolled": true,
        "id": "b32c2a51",
        "colab": {
          "base_uri": "https://localhost:8080/"
        },
        "outputId": "2815f936-f132-40de-e584-03b1c2a92eb4"
      },
      "outputs": [
        {
          "output_type": "stream",
          "name": "stdout",
          "text": [
            "OOO카페 메뉴판\n",
            "- 아메리카노:  3000원\n",
            "- 카페라테:     4000원\n",
            "- 카페모카:     5000원\n"
          ]
        }
      ],
      "source": [
        "a = '''OOO카페 메뉴판\n",
        "- 아메리카노:  3000원\n",
        "- 카페라테:     4000원\n",
        "- 카페모카:     5000원'''\n",
        "print(a)"
      ]
    },
    {
      "cell_type": "markdown",
      "id": "fb8a7c56",
      "metadata": {
        "id": "fb8a7c56"
      },
      "source": [
        "### [실습] 주문받아 출력하기"
      ]
    },
    {
      "cell_type": "code",
      "execution_count": null,
      "id": "3a4d57f5",
      "metadata": {
        "id": "3a4d57f5",
        "colab": {
          "base_uri": "https://localhost:8080/",
          "height": 565
        },
        "outputId": "008135b4-9916-4338-e8e4-34d5261a00e6"
      },
      "outputs": [
        {
          "output_type": "stream",
          "name": "stdout",
          "text": [
            "카페주문 프로그램입니다.\n",
            "--------------------------------------------------\n",
            "OOO카페 메뉴판\n",
            "- 아메리카노:  3000원\n",
            "- 카페라테:     4000원\n",
            "- 카페모카:     5000원\n",
            "--------------------------------------------------\n"
          ]
        },
        {
          "output_type": "error",
          "ename": "KeyboardInterrupt",
          "evalue": "ignored",
          "traceback": [
            "\u001b[0;31m---------------------------------------------------------------------------\u001b[0m",
            "\u001b[0;31mKeyboardInterrupt\u001b[0m                         Traceback (most recent call last)",
            "\u001b[0;32m<ipython-input-20-06bce9cb7741>\u001b[0m in \u001b[0;36m<cell line: 6>\u001b[0;34m()\u001b[0m\n\u001b[1;32m      4\u001b[0m \u001b[0mprint\u001b[0m\u001b[0;34m(\u001b[0m\u001b[0mmenu\u001b[0m\u001b[0;34m)\u001b[0m\u001b[0;34m\u001b[0m\u001b[0;34m\u001b[0m\u001b[0m\n\u001b[1;32m      5\u001b[0m \u001b[0mprint\u001b[0m\u001b[0;34m(\u001b[0m\u001b[0;34m'-'\u001b[0m \u001b[0;34m*\u001b[0m \u001b[0;36m50\u001b[0m\u001b[0;34m)\u001b[0m\u001b[0;34m\u001b[0m\u001b[0;34m\u001b[0m\u001b[0m\n\u001b[0;32m----> 6\u001b[0;31m \u001b[0mcoffee\u001b[0m \u001b[0;34m=\u001b[0m \u001b[0minput\u001b[0m\u001b[0;34m(\u001b[0m\u001b[0;34m'주문하실 음료를 입력하세요: '\u001b[0m\u001b[0;34m)\u001b[0m\u001b[0;34m\u001b[0m\u001b[0;34m\u001b[0m\u001b[0m\n\u001b[0m\u001b[1;32m      7\u001b[0m \u001b[0mprint\u001b[0m\u001b[0;34m(\u001b[0m\u001b[0;34mf'주문하신 음료{coffee}가 나왔습니다. 맛있게 드세요.'\u001b[0m\u001b[0;34m)\u001b[0m\u001b[0;34m\u001b[0m\u001b[0;34m\u001b[0m\u001b[0m\n\u001b[1;32m      8\u001b[0m \u001b[0;34m\u001b[0m\u001b[0m\n",
            "\u001b[0;32m/usr/local/lib/python3.10/dist-packages/ipykernel/kernelbase.py\u001b[0m in \u001b[0;36mraw_input\u001b[0;34m(self, prompt)\u001b[0m\n\u001b[1;32m    849\u001b[0m                 \u001b[0;34m\"raw_input was called, but this frontend does not support input requests.\"\u001b[0m\u001b[0;34m\u001b[0m\u001b[0;34m\u001b[0m\u001b[0m\n\u001b[1;32m    850\u001b[0m             )\n\u001b[0;32m--> 851\u001b[0;31m         return self._input_request(str(prompt),\n\u001b[0m\u001b[1;32m    852\u001b[0m             \u001b[0mself\u001b[0m\u001b[0;34m.\u001b[0m\u001b[0m_parent_ident\u001b[0m\u001b[0;34m,\u001b[0m\u001b[0;34m\u001b[0m\u001b[0;34m\u001b[0m\u001b[0m\n\u001b[1;32m    853\u001b[0m             \u001b[0mself\u001b[0m\u001b[0;34m.\u001b[0m\u001b[0m_parent_header\u001b[0m\u001b[0;34m,\u001b[0m\u001b[0;34m\u001b[0m\u001b[0;34m\u001b[0m\u001b[0m\n",
            "\u001b[0;32m/usr/local/lib/python3.10/dist-packages/ipykernel/kernelbase.py\u001b[0m in \u001b[0;36m_input_request\u001b[0;34m(self, prompt, ident, parent, password)\u001b[0m\n\u001b[1;32m    893\u001b[0m             \u001b[0;32mexcept\u001b[0m \u001b[0mKeyboardInterrupt\u001b[0m\u001b[0;34m:\u001b[0m\u001b[0;34m\u001b[0m\u001b[0;34m\u001b[0m\u001b[0m\n\u001b[1;32m    894\u001b[0m                 \u001b[0;31m# re-raise KeyboardInterrupt, to truncate traceback\u001b[0m\u001b[0;34m\u001b[0m\u001b[0;34m\u001b[0m\u001b[0m\n\u001b[0;32m--> 895\u001b[0;31m                 \u001b[0;32mraise\u001b[0m \u001b[0mKeyboardInterrupt\u001b[0m\u001b[0;34m(\u001b[0m\u001b[0;34m\"Interrupted by user\"\u001b[0m\u001b[0;34m)\u001b[0m \u001b[0;32mfrom\u001b[0m \u001b[0;32mNone\u001b[0m\u001b[0;34m\u001b[0m\u001b[0;34m\u001b[0m\u001b[0m\n\u001b[0m\u001b[1;32m    896\u001b[0m             \u001b[0;32mexcept\u001b[0m \u001b[0mException\u001b[0m \u001b[0;32mas\u001b[0m \u001b[0me\u001b[0m\u001b[0;34m:\u001b[0m\u001b[0;34m\u001b[0m\u001b[0;34m\u001b[0m\u001b[0m\n\u001b[1;32m    897\u001b[0m                 \u001b[0mself\u001b[0m\u001b[0;34m.\u001b[0m\u001b[0mlog\u001b[0m\u001b[0;34m.\u001b[0m\u001b[0mwarning\u001b[0m\u001b[0;34m(\u001b[0m\u001b[0;34m\"Invalid Message:\"\u001b[0m\u001b[0;34m,\u001b[0m \u001b[0mexc_info\u001b[0m\u001b[0;34m=\u001b[0m\u001b[0;32mTrue\u001b[0m\u001b[0;34m)\u001b[0m\u001b[0;34m\u001b[0m\u001b[0;34m\u001b[0m\u001b[0m\n",
            "\u001b[0;31mKeyboardInterrupt\u001b[0m: Interrupted by user"
          ]
        }
      ],
      "source": [
        "# 주문받아 출력하기\n",
        "print('카페주문 프로그램입니다.')\n",
        "print('-' * 50)\n",
        "print(menu)\n",
        "print('-' * 50)\n",
        "coffee = input('주문하실 음료를 입력하세요: ')\n",
        "print(f'주문하신 음료{coffee}가 나왔습니다. 맛있게 드세요.')\n",
        "\n"
      ]
    },
    {
      "cell_type": "markdown",
      "id": "38c40628",
      "metadata": {
        "id": "38c40628"
      },
      "source": [
        "### 문자열 연산\n",
        "- (+): 문자열 연결하기"
      ]
    },
    {
      "cell_type": "code",
      "execution_count": null,
      "id": "6af90aaf",
      "metadata": {
        "id": "6af90aaf",
        "colab": {
          "base_uri": "https://localhost:8080/"
        },
        "outputId": "fe49b300-5bb7-4bf9-bc8a-ee3e638930eb"
      },
      "outputs": [
        {
          "output_type": "stream",
          "name": "stdout",
          "text": [
            "Helloworld\n",
            "안녕하세요   곱디고운님\n",
            "77\n",
            "곱디고운님곱디고운님곱디고운님\n",
            "안녕하세요!안녕하세요!안녕하세요!안녕하세요!안녕하세요!안녕하세요!안녕하세요!안녕하세요!안녕하세요!안녕하세요!안녕하세요!안녕하세요!안녕하세요!안녕하세요!안녕하세요!안녕하세요!안녕하세요!안녕하세요!안녕하세요!안녕하세요!안녕하세요!안녕하세요!안녕하세요!안녕하세요!안녕하세요!안녕하세요!안녕하세요!안녕하세요!안녕하세요!안녕하세요!\n"
          ]
        }
      ],
      "source": [
        "print('Hello'+'world')\n",
        "print('안녕하세요 ',' 곱디고운님')\n",
        "print('7'+'7')\n",
        "print('곱디고운님' *3)\n",
        "print('안녕하세요!'*30)\n"
      ]
    },
    {
      "cell_type": "markdown",
      "id": "a27ee4d1",
      "metadata": {
        "id": "a27ee4d1"
      },
      "source": [
        "- (*) : 반복의 의미"
      ]
    },
    {
      "cell_type": "code",
      "execution_count": null,
      "id": "229965c2",
      "metadata": {
        "id": "229965c2"
      },
      "outputs": [],
      "source": [
        "\n"
      ]
    },
    {
      "cell_type": "markdown",
      "id": "2d2a3e0e",
      "metadata": {
        "id": "2d2a3e0e"
      },
      "source": [
        "### [실습문제] 문자열 출력하기\n",
        "- 문제1: 화면에   Mary’s cosmetics   출력\n",
        "- 문제2: 화면에  박씨가 소리질렀다. “도둑이야!”.  출력\n",
        "- 문제3: 다음 코드 실행시켜서 \\t와 \\n의 역할 확인하기 <br>\n",
        "print(\"안녕하세요.\\n오늘\\t날씨가\\t\\t좋습니다.\")    "
      ]
    },
    {
      "cell_type": "code",
      "execution_count": null,
      "id": "36f87e66",
      "metadata": {
        "id": "36f87e66",
        "colab": {
          "base_uri": "https://localhost:8080/"
        },
        "outputId": "762e2098-a1e1-4ee1-d9a7-3f6bd20b7889"
      },
      "outputs": [
        {
          "output_type": "stream",
          "name": "stdout",
          "text": [
            "Mary's cosmetics\n",
            "화면에 박씨가 소리질렀다. \"도둑이야!\" \n",
            "안녕하세요.\n",
            "오늘\t날씨가\t\t좋습니다.\n"
          ]
        }
      ],
      "source": [
        "print('Mary\\'s cosmetics')\n",
        "print('화면에 박씨가 소리질렀다. \"도둑이야!\" ')\n",
        "print(\"안녕하세요.\\n오늘\\t날씨가\\t\\t좋습니다.\")"
      ]
    },
    {
      "cell_type": "code",
      "source": [
        "기사 = '''송고시간2023-08-18 07:30 요약beta 공유 댓글 글자크기조정 인쇄\n",
        "■ 이재명 13시간 넘게 조사…\"검찰, 사실과 사건 꿰맞춰\"\n",
        "더불어민주당 이재명 대표가 '백현동 개발사업 특혜 의혹' 피의자 신분으로 검찰에 출석해 13시간 넘게 조사를 받고 귀가했다. 이 대표는 18일 오전 0시1분께 조사를 마치고 서울중앙지검 청사를 나와 \"객관적 사실에 의하면 전혀 문제가 될 수 없는 사안인데 (검찰이) 목표를 정해놓고 사실과 사건을 꿰맞춰 간다는 생각을 버릴 수 없었다\"고 밝혔다. 그러면서 \"용도 변경을 조건으로 땅을 팔았으면서 용도 변경 전 가격으로 계약한 한국식품연구원이나 이를 승인한 국토부가 진짜 배임죄란 얘기를 해드렸다\"고 말했다.'''\n",
        "기사. count ('출석')\n",
        "print(기사.count('오늘')) # 기사 '오늘' 단어의 개수)\n",
        "print(기사.find('대표')) # '오늘'단어의 기사)"
      ],
      "metadata": {
        "colab": {
          "base_uri": "https://localhost:8080/"
        },
        "id": "vMBT77NlJ9KH",
        "outputId": "7825c787-208e-4fb3-92f5-3f4a461ee56c"
      },
      "id": "vMBT77NlJ9KH",
      "execution_count": null,
      "outputs": [
        {
          "output_type": "stream",
          "name": "stdout",
          "text": [
            "0\n",
            "89\n"
          ]
        }
      ]
    },
    {
      "cell_type": "markdown",
      "id": "13245f26",
      "metadata": {
        "id": "13245f26"
      },
      "source": [
        "-------------------"
      ]
    },
    {
      "cell_type": "markdown",
      "source": [
        "### [실습문제] 파일명과 확장자 분리하기"
      ],
      "metadata": {
        "id": "3r9lv9ZoPuBO"
      },
      "id": "3r9lv9ZoPuBO"
    },
    {
      "cell_type": "code",
      "source": [
        "#split()\n",
        "fname  = input('파일을 입력하세요: ')\n",
        "print(f'입력한 파일: {fname}')\n",
        "a= fname.split('.')\n",
        "print(f'파일명: {a[0]}, 확장자: {a[1]}')\n",
        "print(a)"
      ],
      "metadata": {
        "colab": {
          "base_uri": "https://localhost:8080/",
          "height": 279
        },
        "id": "Su1WNwuNPNxW",
        "outputId": "efefcace-9da9-45eb-80cf-e964f76479d8"
      },
      "id": "Su1WNwuNPNxW",
      "execution_count": null,
      "outputs": [
        {
          "output_type": "stream",
          "name": "stdout",
          "text": [
            "파일을 입력하세요: test\n",
            "입력한 파일: test\n"
          ]
        },
        {
          "output_type": "error",
          "ename": "IndexError",
          "evalue": "ignored",
          "traceback": [
            "\u001b[0;31m---------------------------------------------------------------------------\u001b[0m",
            "\u001b[0;31mIndexError\u001b[0m                                Traceback (most recent call last)",
            "\u001b[0;32m<ipython-input-42-1f6b69b74cf9>\u001b[0m in \u001b[0;36m<cell line: 4>\u001b[0;34m()\u001b[0m\n\u001b[1;32m      2\u001b[0m \u001b[0mprint\u001b[0m\u001b[0;34m(\u001b[0m\u001b[0;34mf'입력한 파일: {fname}'\u001b[0m\u001b[0;34m)\u001b[0m\u001b[0;34m\u001b[0m\u001b[0;34m\u001b[0m\u001b[0m\n\u001b[1;32m      3\u001b[0m \u001b[0ma\u001b[0m\u001b[0;34m=\u001b[0m \u001b[0mfname\u001b[0m\u001b[0;34m.\u001b[0m\u001b[0msplit\u001b[0m\u001b[0;34m(\u001b[0m\u001b[0;34m'.'\u001b[0m\u001b[0;34m)\u001b[0m\u001b[0;34m\u001b[0m\u001b[0;34m\u001b[0m\u001b[0m\n\u001b[0;32m----> 4\u001b[0;31m \u001b[0mprint\u001b[0m\u001b[0;34m(\u001b[0m\u001b[0;34mf'파일명: {a[0]}, 확장자: {a[1]}'\u001b[0m\u001b[0;34m)\u001b[0m\u001b[0;34m\u001b[0m\u001b[0;34m\u001b[0m\u001b[0m\n\u001b[0m\u001b[1;32m      5\u001b[0m \u001b[0mprint\u001b[0m\u001b[0;34m(\u001b[0m\u001b[0ma\u001b[0m\u001b[0;34m)\u001b[0m\u001b[0;34m\u001b[0m\u001b[0;34m\u001b[0m\u001b[0m\n",
            "\u001b[0;31mIndexError\u001b[0m: list index out of range"
          ]
        }
      ]
    },
    {
      "cell_type": "markdown",
      "source": [],
      "metadata": {
        "id": "s7ucyUJvQ6rE"
      },
      "id": "s7ucyUJvQ6rE"
    },
    {
      "cell_type": "code",
      "source": [
        "# split() 함수로 파일명과 확장자 분리하기\n",
        "fname = input('파일을 입력하세요: ')\n",
        "print(f'입력한 파일: {fname}')\n",
        "\n",
        "a = fname.split('.')\n",
        "print(f'파일명: {a[0]}, 확장자: {a[1]}')"
      ],
      "metadata": {
        "colab": {
          "base_uri": "https://localhost:8080/",
          "height": 261
        },
        "id": "IcPgkBTFQ6-X",
        "outputId": "03383d0d-3e25-483e-c8b6-c0fdd8044cd9"
      },
      "id": "IcPgkBTFQ6-X",
      "execution_count": null,
      "outputs": [
        {
          "output_type": "stream",
          "name": "stdout",
          "text": [
            "파일을 입력하세요: tset\n",
            "입력한 파일: tset\n"
          ]
        },
        {
          "output_type": "error",
          "ename": "IndexError",
          "evalue": "ignored",
          "traceback": [
            "\u001b[0;31m---------------------------------------------------------------------------\u001b[0m",
            "\u001b[0;31mIndexError\u001b[0m                                Traceback (most recent call last)",
            "\u001b[0;32m<ipython-input-43-36dddd4e6641>\u001b[0m in \u001b[0;36m<cell line: 6>\u001b[0;34m()\u001b[0m\n\u001b[1;32m      4\u001b[0m \u001b[0;34m\u001b[0m\u001b[0m\n\u001b[1;32m      5\u001b[0m \u001b[0ma\u001b[0m \u001b[0;34m=\u001b[0m \u001b[0mfname\u001b[0m\u001b[0;34m.\u001b[0m\u001b[0msplit\u001b[0m\u001b[0;34m(\u001b[0m\u001b[0;34m'.'\u001b[0m\u001b[0;34m)\u001b[0m\u001b[0;34m\u001b[0m\u001b[0;34m\u001b[0m\u001b[0m\n\u001b[0;32m----> 6\u001b[0;31m \u001b[0mprint\u001b[0m\u001b[0;34m(\u001b[0m\u001b[0;34mf'파일명: {a[0]}, 확장자: {a[1]}'\u001b[0m\u001b[0;34m)\u001b[0m\u001b[0;34m\u001b[0m\u001b[0;34m\u001b[0m\u001b[0m\n\u001b[0m",
            "\u001b[0;31mIndexError\u001b[0m: list index out of range"
          ]
        }
      ]
    },
    {
      "cell_type": "markdown",
      "id": "020d1cc5",
      "metadata": {
        "id": "020d1cc5"
      },
      "source": [
        "## 2-3.문자열 인덱싱과 슬라이싱"
      ]
    },
    {
      "cell_type": "code",
      "execution_count": null,
      "id": "9c875a9b",
      "metadata": {
        "id": "9c875a9b"
      },
      "outputs": [],
      "source": [
        "a = '우리는 민족중흥의 역사적 사명을 띠고 이 땅에 태어났다.'\n",
        "print( )"
      ]
    },
    {
      "cell_type": "code",
      "execution_count": null,
      "id": "e50df3b3",
      "metadata": {
        "id": "e50df3b3"
      },
      "outputs": [],
      "source": [
        "fruits = 'orange'\n",
        "print( )\n"
      ]
    },
    {
      "cell_type": "markdown",
      "id": "1aecf2d0",
      "metadata": {
        "id": "1aecf2d0"
      },
      "source": [
        "---------------------------"
      ]
    },
    {
      "cell_type": "markdown",
      "id": "0f48d7cf",
      "metadata": {
        "id": "0f48d7cf"
      },
      "source": [
        "## 2-4.변수 활용"
      ]
    },
    {
      "cell_type": "markdown",
      "id": "d26c5d6e",
      "metadata": {
        "id": "d26c5d6e"
      },
      "source": [
        "### [실습문제]: 지불할 음식 총 가격 계산하기\n",
        "- 음식가격:  4,450 원\n",
        "- 세금: 6.75%\n",
        "- 팁: 15%\n",
        "1. meal 변수를 선언하고 값을 4450으로 지정하세요.\n",
        "2. tax 변수를 생성하고 값으로 6.75%를 소수점 형태로 지정하세요.\n",
        "3. tip 변수를 생성하고 값으로 15%를 소수점 형태로 지정하세요.\n",
        "4. meal의 변수값에 세금을 곱해 meal 변수에 지정하세요.\n",
        "5. 음식값에 tip을 더해 total 변수에 지정하세요.\n",
        "6. total 변수 값을 출력하세요."
      ]
    },
    {
      "cell_type": "code",
      "execution_count": null,
      "id": "933828b3",
      "metadata": {
        "id": "933828b3",
        "colab": {
          "base_uri": "https://localhost:8080/"
        },
        "outputId": "289c0f44-c63e-4d6d-ea0c-106ae17a73d8"
      },
      "outputs": [
        {
          "output_type": "stream",
          "name": "stdout",
          "text": [
            "내가 지불해야 할 총 금액: 5462.93\n",
            "순수 세금: 5462.93125\n"
          ]
        }
      ],
      "source": [
        "meal = 4450    # 1.음식가격\n",
        "tax = 0.0675   # 2.세금\n",
        "tip = 0.15     # 3.팁\n",
        "# 음식가격\n",
        "meal = meal+ (meal*tax)\n",
        "total = meal+ (meal * tip)\n",
        "print(f'내가 지불해야 할 총 금액: {round(total, 2)}')\n",
        "print(f'순수 세금: {total}')\n"
      ]
    },
    {
      "cell_type": "markdown",
      "id": "a4fa74c9",
      "metadata": {
        "id": "a4fa74c9"
      },
      "source": [
        "### [실습문제]: 섭씨온도를 화씨온도로 변환하기\n",
        "- 섭씨 온도 (Celsius): 1 atm에서의 물의 어는점을 0도, 끓는점을 100도로 정한 온도 체계. (°C)\n",
        "\n",
        "\n",
        "- 화씨 온도 (Fahrenheit): 물이 어는 온도는 32도, 물이 끓는 온도는 212도. 180등분. (°F)\n",
        "- 섭씨온도(℃) = (5 / 9) × (℉ - 32)  # Celsius\n",
        "- 화씨온도(℉) = (9 / 5) × ℃ + 32    # Fahrenheit"
      ]
    },
    {
      "cell_type": "code",
      "execution_count": null,
      "id": "d65f3301",
      "metadata": {
        "scrolled": true,
        "id": "d65f3301",
        "colab": {
          "base_uri": "https://localhost:8080/"
        },
        "outputId": "14262e1e-cb74-48d5-a8f5-9f81dacf6a31"
      },
      "outputs": [
        {
          "output_type": "stream",
          "name": "stdout",
          "text": [
            "온도를 입력해 주세요(화씨): 35\n",
            "화씨 온도 35.0℃를 섭씨 온도로 변환하면 95.0℉!\n"
          ]
        }
      ],
      "source": [
        "# c_temp = input()   #키보드로부터 입력을 받는 함수: input()\n",
        "# c_temp = int(c_temp)  # 정수로 변환: int()\n",
        "# print(c_temp, type(c_temp) )\n",
        "\n",
        "c_temp = float(input('온도를 입력해 주세요(화씨): '))\n",
        "f_temp = (9 / 5) * c_temp + 32\n",
        "print(f'화씨 온도 {c_temp}℃를 섭씨 온도로 변환하면 {f_temp}℉!')\n"
      ]
    },
    {
      "cell_type": "markdown",
      "id": "a57cbf87",
      "metadata": {
        "id": "a57cbf87"
      },
      "source": [
        "-------"
      ]
    },
    {
      "cell_type": "markdown",
      "id": "f0265f78",
      "metadata": {
        "id": "f0265f78"
      },
      "source": [
        "## 2-5.연산자"
      ]
    },
    {
      "cell_type": "markdown",
      "id": "bff8051d",
      "metadata": {
        "id": "bff8051d"
      },
      "source": [
        "### [실습문제]: 동전 교환 프로그램 만들기"
      ]
    },
    {
      "cell_type": "code",
      "execution_count": null,
      "id": "105db988",
      "metadata": {
        "id": "105db988",
        "colab": {
          "base_uri": "https://localhost:8080/",
          "height": 148
        },
        "outputId": "b31e791a-7a4c-4848-b3ce-9253e81345dd"
      },
      "outputs": [
        {
          "output_type": "error",
          "ename": "SyntaxError",
          "evalue": "ignored",
          "traceback": [
            "\u001b[0;36m  File \u001b[0;32m\"<ipython-input-53-241252cad729>\"\u001b[0;36m, line \u001b[0;32m5\u001b[0m\n\u001b[0;31m    print(f\"500원짜리 ==> {  }개\" )\u001b[0m\n\u001b[0m                              ^\u001b[0m\n\u001b[0;31mSyntaxError\u001b[0m\u001b[0;31m:\u001b[0m f-string: empty expression not allowed\n"
          ]
        }
      ],
      "source": [
        "# 키보드로부터 금액 입력 받기\n",
        "print('---동전교환기 프로그램을 작동합니다.---')\n",
        "money = int( input('금액을 입력하세요: '))\n",
        "print('동전으로 교환하겠습니다.---------')\n",
        "print(f\"500원짜리 ==> {  }개\" )\n",
        "print(f\"50원짜리 ==> { }개\")\n",
        "print(f\"10원짜리 ==> { }개\")\n",
        "print(f\"1원짜리 ==> { }개\")\n",
        "\n",
        "\n",
        "      # 키보드로부터 금액 입력 받기\n",
        "print('---동전교환기 프로그램을 작동합니다.---')\n",
        "money = int( input('금액을 입력하세요: '))\n",
        "print('동전으로 교환하겠습니다.---------')\n",
        "\n",
        "print(f\"500원짜리 ==> {money // 500}개\")\n",
        "money %= 500 #money = money%500\n",
        "print(f\"100원짜리 ==> {money // 100}개\")\n",
        "money = money % 100\n",
        "print(f\"50원짜리 ==> {money // 50}개\")\n",
        "money = money % 50\n",
        "print(f\"10원짜리 ==> {money // 10}개\")\n",
        "money = money % 10\n",
        "print(f\"잔돈 ==> {money}원\")"
      ]
    },
    {
      "cell_type": "markdown",
      "id": "f359d4a1",
      "metadata": {
        "id": "f359d4a1"
      },
      "source": [
        "-----------------------------------------"
      ]
    },
    {
      "cell_type": "markdown",
      "id": "d8c018ca",
      "metadata": {
        "id": "d8c018ca"
      },
      "source": [
        "## 2-6.리스트(List)\n",
        "- 리스트는 여러 개의 데이터 값을 하나의 변수에 담을 수 있는 데이터 구조\n",
        "- 리스트는 순서(인덱스)가 있고 데이터를 수정, 삭제, 추가 가능하다.\n",
        "- 대괄호로 표현되고 내부 원소는 ,(쉼표)로 구분됨"
      ]
    },
    {
      "cell_type": "markdown",
      "id": "693f2484",
      "metadata": {
        "id": "693f2484"
      },
      "source": [
        "### 리스트 생성"
      ]
    },
    {
      "cell_type": "code",
      "execution_count": null,
      "id": "a1b79606",
      "metadata": {
        "id": "a1b79606"
      },
      "outputs": [],
      "source": [
        "a = list()\n",
        "a = []\n",
        "a = [1,2,3]\n",
        "a = ['I', 'Love', 'Python']\n",
        "b = [1,2, '사랑해요', 'Python']\n",
        "b = ['a', '1', 1, [2,3], -4]\n",
        "a = [1,2,['a','b',['사랑해', '파이썬']], 3]"
      ]
    },
    {
      "cell_type": "code",
      "execution_count": null,
      "id": "df23f6cf",
      "metadata": {
        "id": "df23f6cf",
        "colab": {
          "base_uri": "https://localhost:8080/"
        },
        "outputId": "99a1e6ac-397b-40b6-ae96-ba544a9e6623"
      },
      "outputs": [
        {
          "output_type": "stream",
          "name": "stdout",
          "text": [
            "[1, 2, ['a', 'b', ['사랑해', '파이썬']], 3]\n",
            "['a', '1', 1, [2, 3], -4]\n"
          ]
        }
      ],
      "source": [
        "print(a)\n",
        "print(b)"
      ]
    },
    {
      "cell_type": "code",
      "source": [
        "# 문자열을 리스트로 만들기\n",
        "a = 'python'\n",
        "list(a)\n",
        "기사 = '''오늘 남부지방과 제주도는 대체로 흐린 가운데 비가 내리겠습니다.\n",
        "예상 강수량은 영남 해안 지역이 30에서 80mm, 많은 곳은 100mm 이상이고, 그 밖의 남부지방과 제주도는 10에서 60mm입니다.\n",
        "비가 오는 동안 천둥·번개가 치고, 한 시간에 30mm가 넘는 강한 비가 쏟아지는 곳이 있겠습니다.\n",
        "남부지방과 제주도의 비는 내일 오전까지 계속되는 곳이 있겠습니다.\n",
        "오늘 중부지방은 가끔 구름이 많이 끼는 가운데 오후에 5에서 30mm의 소나기가 오는 곳이 있겠습니다.\n",
        "낮 최고기온은 서울 33도 등 전국이 26도에서 34도로 어제와 비슷하거나 조금 더 높겠습니다.\n",
        "바다의 물결은 남해 먼바다와 제주도 해상에서 최고 2.5m로 비교적 높게 일겠습니다.\n",
        "동해안과 경남 남해안에는 높은 너울이 밀려오는 곳이 있겠고, 동해상에는 짙은 안개가 끼는 곳이 있겠습니다.\n",
        "'''\n",
        "기사.split(' ')\n",
        "기사 = 기사.replace('남부지방','중부지방')\n",
        "print(기사)\n",
        "result = 기사.split(' ')\n",
        "print(f'리스트의 개수(길이):{len(result)}')\n",
        "print(result)"
      ],
      "metadata": {
        "colab": {
          "base_uri": "https://localhost:8080/"
        },
        "id": "hFCOEdz9grzF",
        "outputId": "146e7f14-f7b8-4941-940a-37f93e1924cf"
      },
      "id": "hFCOEdz9grzF",
      "execution_count": null,
      "outputs": [
        {
          "output_type": "stream",
          "name": "stdout",
          "text": [
            "오늘 중부지방과 제주도는 대체로 흐린 가운데 비가 내리겠습니다.\n",
            "예상 강수량은 영남 해안 지역이 30에서 80mm, 많은 곳은 100mm 이상이고, 그 밖의 중부지방과 제주도는 10에서 60mm입니다.\n",
            "비가 오는 동안 천둥·번개가 치고, 한 시간에 30mm가 넘는 강한 비가 쏟아지는 곳이 있겠습니다.\n",
            "중부지방과 제주도의 비는 내일 오전까지 계속되는 곳이 있겠습니다.\n",
            "오늘 중부지방은 가끔 구름이 많이 끼는 가운데 오후에 5에서 30mm의 소나기가 오는 곳이 있겠습니다.\n",
            "낮 최고기온은 서울 33도 등 전국이 26도에서 34도로 어제와 비슷하거나 조금 더 높겠습니다.\n",
            "바다의 물결은 남해 먼바다와 제주도 해상에서 최고 2.5m로 비교적 높게 일겠습니다.\n",
            "동해안과 경남 남해안에는 높은 너울이 밀려오는 곳이 있겠고, 동해상에는 짙은 안개가 끼는 곳이 있겠습니다.\n",
            "\n",
            "리스트의 개수(길이):92\n",
            "['오늘', '중부지방과', '제주도는', '대체로', '흐린', '가운데', '비가', '내리겠습니다.\\n예상', '강수량은', '영남', '해안', '지역이', '30에서', '80mm,', '많은', '곳은', '100mm', '이상이고,', '그', '밖의', '중부지방과', '제주도는', '10에서', '60mm입니다.\\n비가', '오는', '동안', '천둥·번개가', '치고,', '한', '시간에', '30mm가', '넘는', '강한', '비가', '쏟아지는', '곳이', '있겠습니다.\\n중부지방과', '제주도의', '비는', '내일', '오전까지', '계속되는', '곳이', '있겠습니다.\\n오늘', '중부지방은', '가끔', '구름이', '많이', '끼는', '가운데', '오후에', '5에서', '30mm의', '소나기가', '오는', '곳이', '있겠습니다.\\n낮', '최고기온은', '서울', '33도', '등', '전국이', '26도에서', '34도로', '어제와', '비슷하거나', '조금', '더', '높겠습니다.\\n바다의', '물결은', '남해', '먼바다와', '제주도', '해상에서', '최고', '2.5m로', '비교적', '높게', '일겠습니다.\\n동해안과', '경남', '남해안에는', '높은', '너울이', '밀려오는', '곳이', '있겠고,', '동해상에는', '짙은', '안개가', '끼는', '곳이', '있겠습니다.\\n']\n"
          ]
        }
      ]
    },
    {
      "cell_type": "code",
      "source": [
        "기사 = '''오늘 남부지방과 제주도는 대체로 흐린 가운데 비가 내리겠습니다.\n",
        "예상 강수량은 영남 해안 지역이 30에서 80mm, 많은 곳은 100mm 이상이고, 그 밖의 남부지방과 제주도는 10에서 60mm입니다.\n",
        "비가 오는 동안 천둥·번개가 치고, 한 시간에 30mm가 넘는 강한 비가 쏟아지는 곳이 있겠습니다.\n",
        "남부지방과 제주도의 비는 내일 오전까지 계속되는 곳이 있겠습니다.\n",
        "오늘 중부지방은 가끔 구름이 많이 끼는 가운데 오후에 5에서 30mm의 소나기가 오는 곳이 있겠습니다.\n",
        "낮 최고기온은 서울 33도 등 전국이 26도에서 34도로 어제와 비슷하거나 조금 더 높겠습니다.\n",
        "바다의 물결은 남해 먼바다와 제주도 해상에서 최고 2.5m로 비교적 높게 일겠습니다.\n",
        "동해안과 경남 남해안에는 높은 너울이 밀려오는 곳이 있겠고, 동해상에는 짙은 안개가 끼는 곳이 있겠습니다.\n",
        "'''\n",
        "기사 = 기사.replace('남부지방', '중부지방')  # 단어 다른 단어로 대체\n",
        "print(기사)\n",
        "\n",
        "result = 기사.split(' ') # ' '로 분리해서 리스트로 반환\n",
        "print(f'리스트의 요소 개수(길이): {len(result)} ')\n",
        "print(result)"
      ],
      "metadata": {
        "colab": {
          "base_uri": "https://localhost:8080/"
        },
        "id": "_ol-INnsiWwG",
        "outputId": "74b081e7-2eda-4552-c3bd-f865649fa0f1"
      },
      "id": "_ol-INnsiWwG",
      "execution_count": null,
      "outputs": [
        {
          "output_type": "stream",
          "name": "stdout",
          "text": [
            "오늘 중부지방과 제주도는 대체로 흐린 가운데 비가 내리겠습니다.\n",
            "예상 강수량은 영남 해안 지역이 30에서 80mm, 많은 곳은 100mm 이상이고, 그 밖의 중부지방과 제주도는 10에서 60mm입니다.\n",
            "비가 오는 동안 천둥·번개가 치고, 한 시간에 30mm가 넘는 강한 비가 쏟아지는 곳이 있겠습니다.\n",
            "중부지방과 제주도의 비는 내일 오전까지 계속되는 곳이 있겠습니다.\n",
            "오늘 중부지방은 가끔 구름이 많이 끼는 가운데 오후에 5에서 30mm의 소나기가 오는 곳이 있겠습니다.\n",
            "낮 최고기온은 서울 33도 등 전국이 26도에서 34도로 어제와 비슷하거나 조금 더 높겠습니다.\n",
            "바다의 물결은 남해 먼바다와 제주도 해상에서 최고 2.5m로 비교적 높게 일겠습니다.\n",
            "동해안과 경남 남해안에는 높은 너울이 밀려오는 곳이 있겠고, 동해상에는 짙은 안개가 끼는 곳이 있겠습니다.\n",
            "\n",
            "리스트의 요소 개수(길이): 92 \n",
            "['오늘', '중부지방과', '제주도는', '대체로', '흐린', '가운데', '비가', '내리겠습니다.\\n예상', '강수량은', '영남', '해안', '지역이', '30에서', '80mm,', '많은', '곳은', '100mm', '이상이고,', '그', '밖의', '중부지방과', '제주도는', '10에서', '60mm입니다.\\n비가', '오는', '동안', '천둥·번개가', '치고,', '한', '시간에', '30mm가', '넘는', '강한', '비가', '쏟아지는', '곳이', '있겠습니다.\\n중부지방과', '제주도의', '비는', '내일', '오전까지', '계속되는', '곳이', '있겠습니다.\\n오늘', '중부지방은', '가끔', '구름이', '많이', '끼는', '가운데', '오후에', '5에서', '30mm의', '소나기가', '오는', '곳이', '있겠습니다.\\n낮', '최고기온은', '서울', '33도', '등', '전국이', '26도에서', '34도로', '어제와', '비슷하거나', '조금', '더', '높겠습니다.\\n바다의', '물결은', '남해', '먼바다와', '제주도', '해상에서', '최고', '2.5m로', '비교적', '높게', '일겠습니다.\\n동해안과', '경남', '남해안에는', '높은', '너울이', '밀려오는', '곳이', '있겠고,', '동해상에는', '짙은', '안개가', '끼는', '곳이', '있겠습니다.\\n']\n"
          ]
        }
      ]
    },
    {
      "cell_type": "code",
      "source": [
        "print(list(range(10)))"
      ],
      "metadata": {
        "colab": {
          "base_uri": "https://localhost:8080/"
        },
        "id": "eEH_BWslgDEt",
        "outputId": "340a2a40-764c-41bc-a312-f67ff7e1c79c"
      },
      "id": "eEH_BWslgDEt",
      "execution_count": null,
      "outputs": [
        {
          "output_type": "stream",
          "name": "stdout",
          "text": [
            "[0, 1, 2, 3, 4, 5, 6, 7, 8, 9]\n"
          ]
        }
      ]
    },
    {
      "cell_type": "markdown",
      "id": "7eef7d7c",
      "metadata": {
        "id": "7eef7d7c"
      },
      "source": [
        "### 리스트 전체 삭제"
      ]
    },
    {
      "cell_type": "code",
      "execution_count": null,
      "id": "52a5a894",
      "metadata": {
        "id": "52a5a894",
        "colab": {
          "base_uri": "https://localhost:8080/",
          "height": 242
        },
        "outputId": "67cf8e2f-ce77-4d69-87c9-0702f403da80"
      },
      "outputs": [
        {
          "output_type": "stream",
          "name": "stdout",
          "text": [
            "[1, 2, 3, 4, 5]\n"
          ]
        },
        {
          "output_type": "error",
          "ename": "NameError",
          "evalue": "ignored",
          "traceback": [
            "\u001b[0;31m---------------------------------------------------------------------------\u001b[0m",
            "\u001b[0;31mNameError\u001b[0m                                 Traceback (most recent call last)",
            "\u001b[0;32m<ipython-input-72-9e5e6602093d>\u001b[0m in \u001b[0;36m<cell line: 7>\u001b[0;34m()\u001b[0m\n\u001b[1;32m      5\u001b[0m \u001b[0;34m\u001b[0m\u001b[0m\n\u001b[1;32m      6\u001b[0m \u001b[0mprint\u001b[0m\u001b[0;34m(\u001b[0m\u001b[0ma\u001b[0m\u001b[0;34m)\u001b[0m\u001b[0;34m\u001b[0m\u001b[0;34m\u001b[0m\u001b[0m\n\u001b[0;32m----> 7\u001b[0;31m \u001b[0mprint\u001b[0m\u001b[0;34m(\u001b[0m\u001b[0mb\u001b[0m\u001b[0;34m)\u001b[0m\u001b[0;34m\u001b[0m\u001b[0;34m\u001b[0m\u001b[0m\n\u001b[0m",
            "\u001b[0;31mNameError\u001b[0m: name 'b' is not defined"
          ]
        }
      ],
      "source": [
        "a = [1,2,3,4,5]\n",
        "b = [6,7,8,9,10]\n",
        "\n",
        "del(b)\n",
        "\n",
        "print(a)\n",
        "print(b)"
      ]
    },
    {
      "cell_type": "markdown",
      "id": "b3ab38e4",
      "metadata": {
        "id": "b3ab38e4"
      },
      "source": [
        "### 리스트 요소에 접근"
      ]
    },
    {
      "cell_type": "code",
      "execution_count": null,
      "id": "d36d5b62",
      "metadata": {
        "scrolled": true,
        "id": "d36d5b62",
        "colab": {
          "base_uri": "https://localhost:8080/"
        },
        "outputId": "2e78c7cb-0f84-435e-fd27-f36cf6b40d29"
      },
      "outputs": [
        {
          "output_type": "stream",
          "name": "stdout",
          "text": [
            "green\n",
            "['blue', 'black']\n",
            "black\n"
          ]
        }
      ],
      "source": [
        "colors = ['red', 'green', ['blue', 'black'], 'white','yellow']\n",
        "print( colors[1] )\n",
        "print( colors[2] )\n",
        "print( colors[2][1] )\n",
        "# '파이썬'을 출력하려면?\n"
      ]
    },
    {
      "cell_type": "markdown",
      "id": "b7811d5d",
      "metadata": {
        "id": "b7811d5d"
      },
      "source": [
        "### 리스트 요소 추가 / 변경"
      ]
    },
    {
      "cell_type": "code",
      "execution_count": null,
      "id": "010220d8",
      "metadata": {
        "id": "010220d8",
        "colab": {
          "base_uri": "https://localhost:8080/"
        },
        "outputId": "e65ca5f9-59ef-4fc4-d26a-e11f7c556728"
      },
      "outputs": [
        {
          "output_type": "stream",
          "name": "stdout",
          "text": [
            "['red', 'green', ['blue', 'black'], 'white', 'yellow']\n",
            "['red', 'green', ['blue', 'black'], 'white', 'yellow', 'pink']\n",
            "['red', 'mint', 'green', ['blue', 'black'], 'white', 'yellow', 'pink']\n",
            "['red', 'mint', 'green', ['blue', 'darkblue', 'black'], 'white', 'yellow', 'pink']\n",
            "['red', 'mint', 'green', ['blue', 'darkblue', 'black'], 'white', 'yellow', 'pink', ['r', 'g', 'b']]\n"
          ]
        }
      ],
      "source": [
        "colors = ['red', 'green', ['blue', 'black'], 'white','yellow']\n",
        "print(colors)\n",
        "colors.append('pink')     # 리스트 맨 끝에 추가\n",
        "print(colors)\n",
        "colors.insert(1, 'mint')  # 리스트명.insert(인덱스위치, 값)\n",
        "print(colors)\n",
        "colors[3].insert(1,'darkblue')\n",
        "print(colors)\n",
        "colors.append(['r','g','b']) #맨뒤에 넣는것\n",
        "print(colors)"
      ]
    },
    {
      "cell_type": "markdown",
      "id": "5a5820d1",
      "metadata": {
        "id": "5a5820d1"
      },
      "source": [
        "### 리스트 요소 삭제"
      ]
    },
    {
      "cell_type": "code",
      "execution_count": null,
      "id": "e4c76b68",
      "metadata": {
        "id": "e4c76b68",
        "colab": {
          "base_uri": "https://localhost:8080/",
          "height": 317
        },
        "outputId": "39eca716-9516-492b-ae59-30882762e81a"
      },
      "outputs": [
        {
          "output_type": "stream",
          "name": "stdout",
          "text": [
            "['red', 'mint', 'green', ['blue', 'darkblue', 'black']]\n",
            "['red', 'mint', 'green']\n",
            "['red', 'mint', 'green']\n"
          ]
        },
        {
          "output_type": "error",
          "ename": "IndexError",
          "evalue": "ignored",
          "traceback": [
            "\u001b[0;31m---------------------------------------------------------------------------\u001b[0m",
            "\u001b[0;31mIndexError\u001b[0m                                Traceback (most recent call last)",
            "\u001b[0;32m<ipython-input-97-0f2e9cc89252>\u001b[0m in \u001b[0;36m<cell line: 7>\u001b[0;34m()\u001b[0m\n\u001b[1;32m      5\u001b[0m \u001b[0mprint\u001b[0m\u001b[0;34m(\u001b[0m\u001b[0mcolors\u001b[0m\u001b[0;34m)\u001b[0m\u001b[0;34m\u001b[0m\u001b[0;34m\u001b[0m\u001b[0m\n\u001b[1;32m      6\u001b[0m \u001b[0;34m\u001b[0m\u001b[0m\n\u001b[0;32m----> 7\u001b[0;31m \u001b[0;32mdel\u001b[0m \u001b[0mcolors\u001b[0m\u001b[0;34m[\u001b[0m\u001b[0;36m3\u001b[0m\u001b[0;34m]\u001b[0m\u001b[0;34m\u001b[0m\u001b[0;34m\u001b[0m\u001b[0m\n\u001b[0m\u001b[1;32m      8\u001b[0m \u001b[0mprint\u001b[0m\u001b[0;34m(\u001b[0m\u001b[0mcolors\u001b[0m\u001b[0;34m)\u001b[0m\u001b[0;34m\u001b[0m\u001b[0;34m\u001b[0m\u001b[0m\n\u001b[1;32m      9\u001b[0m \u001b[0;34m\u001b[0m\u001b[0m\n",
            "\u001b[0;31mIndexError\u001b[0m: list assignment index out of range"
          ]
        }
      ],
      "source": [
        "print(colors)\n",
        "colors.pop()     # 리스트 맨 끝 요소 삭제\n",
        "print(colors)\n",
        "\n",
        "print(colors)\n",
        "\n",
        "del colors[3]\n",
        "print(colors)\n",
        "colors. remove('ㅣ') #특정한 값 제거\n",
        "\n",
        "\n",
        "for _ in range(-1,-5,-1):\n",
        "    colors.pop\n",
        "    print(colors)"
      ]
    },
    {
      "cell_type": "code",
      "source": [
        "# 임의의수 생성\n",
        "import random\n",
        "numbers = list()\n",
        "numbers = []\n",
        "\n",
        "numbers.append (random.randint(1, 100))\n",
        "numbers.append (random.randint(1, 100))\n",
        "numbers.append (random.randint(1, 100))\n",
        "numbers.append (random.randint(1, 100))\n",
        "numbers.append (random.randint(1, 100))\n",
        "print(numbers)\n",
        "print(f'정렬 전: {numbers}')\n",
        "\n",
        "numbers.sort()\n",
        "print(f' 정렬후: {numbers}')\n",
        "\n",
        "numbers.reverse()"
      ],
      "metadata": {
        "colab": {
          "base_uri": "https://localhost:8080/"
        },
        "id": "FPWzctUKr2EJ",
        "outputId": "1c2efd4f-4afa-4bf1-991e-8649b5132eb4"
      },
      "id": "FPWzctUKr2EJ",
      "execution_count": null,
      "outputs": [
        {
          "output_type": "stream",
          "name": "stdout",
          "text": [
            "[80, 39, 62, 5, 57]\n",
            "정렬 전: [80, 39, 62, 5, 57]\n",
            " 정렬후: [5, 39, 57, 62, 80]\n"
          ]
        }
      ]
    },
    {
      "cell_type": "markdown",
      "id": "df6f6d08",
      "metadata": {
        "id": "df6f6d08"
      },
      "source": [
        "## 2-7.딕셔너리(Dictionary)\n",
        "- 딕셔너리는 쌍이 하나로 묶인 자료구조\n",
        "- 인덱스를 의미하는 ‘키(key)'와 자료의 내용인 ‘ 값(value)'을 이용하여  데이터를 관리\n",
        "- 중괄호 { }로 묶어 구성, 키(Key)와 값(Value)의 쌍으로 구성\n",
        "- 순서(sequence)가 없다"
      ]
    },
    {
      "cell_type": "markdown",
      "id": "4393e9e4",
      "metadata": {
        "id": "4393e9e4"
      },
      "source": [
        "### 딕셔너리 생성"
      ]
    },
    {
      "cell_type": "code",
      "execution_count": null,
      "id": "da6bca38",
      "metadata": {
        "id": "da6bca38",
        "colab": {
          "base_uri": "https://localhost:8080/",
          "height": 317
        },
        "outputId": "59eee6b9-d825-4a1e-df0d-1ada4b94fa9d"
      },
      "outputs": [
        {
          "output_type": "stream",
          "name": "stdout",
          "text": [
            "<class 'dict'> {'name': '진', 'age': 29, 'email': 'jin@gggmail.com'}\n",
            "<class 'dict'> {}\n",
            "{}\n"
          ]
        },
        {
          "output_type": "error",
          "ename": "KeyError",
          "evalue": "ignored",
          "traceback": [
            "\u001b[0;31m---------------------------------------------------------------------------\u001b[0m",
            "\u001b[0;31mKeyError\u001b[0m                                  Traceback (most recent call last)",
            "\u001b[0;32m<ipython-input-123-8312437baf6f>\u001b[0m in \u001b[0;36m<cell line: 8>\u001b[0;34m()\u001b[0m\n\u001b[1;32m      6\u001b[0m \u001b[0;34m\u001b[0m\u001b[0m\n\u001b[1;32m      7\u001b[0m \u001b[0mprint\u001b[0m\u001b[0;34m(\u001b[0m\u001b[0mmembers\u001b[0m\u001b[0;34m)\u001b[0m\u001b[0;34m\u001b[0m\u001b[0;34m\u001b[0m\u001b[0m\n\u001b[0;32m----> 8\u001b[0;31m \u001b[0mprint\u001b[0m\u001b[0;34m(\u001b[0m\u001b[0mmembers\u001b[0m\u001b[0;34m[\u001b[0m\u001b[0;34m'age'\u001b[0m\u001b[0;34m]\u001b[0m\u001b[0;34m)\u001b[0m\u001b[0;34m\u001b[0m\u001b[0;34m\u001b[0m\u001b[0m\n\u001b[0m\u001b[1;32m      9\u001b[0m \u001b[0mprint\u001b[0m\u001b[0;34m(\u001b[0m\u001b[0mmbembers\u001b[0m\u001b[0;34m.\u001b[0m\u001b[0mget\u001b[0m\u001b[0;34m(\u001b[0m\u001b[0;34m'age'\u001b[0m\u001b[0;34m)\u001b[0m\u001b[0;34m)\u001b[0m\u001b[0;34m\u001b[0m\u001b[0;34m\u001b[0m\u001b[0m\n\u001b[1;32m     10\u001b[0m \u001b[0mmembers\u001b[0m\u001b[0;34m[\u001b[0m\u001b[0;36m7\u001b[0m\u001b[0;34m]\u001b[0m \u001b[0;34m=\u001b[0m \u001b[0;34m[\u001b[0m\u001b[0;34m'정국'\u001b[0m\u001b[0;34m,\u001b[0m\u001b[0;34m'뷔'\u001b[0m\u001b[0;34m,\u001b[0m\u001b[0;34m'지민'\u001b[0m\u001b[0;34m]\u001b[0m\u001b[0;34m\u001b[0m\u001b[0;34m\u001b[0m\u001b[0m\n",
            "\u001b[0;31mKeyError\u001b[0m: 'age'"
          ]
        }
      ],
      "source": [
        "members = {'name':'진', 'age':29, 'email':'jin@gggmail.com'}\n",
        "print(type(members), members)\n",
        "members = {}\n",
        "members = dict()\n",
        "print(type(members), members)\n",
        "\n",
        "print(members)\n",
        "print(members['age'])\n",
        "print(mbembers.get('age'))\n",
        "members[7] = ['정국','뷔','지민']\n",
        "print(members)"
      ]
    },
    {
      "cell_type": "markdown",
      "id": "b5f4d763",
      "metadata": {
        "id": "b5f4d763"
      },
      "source": [
        "### 딕셔너리 키(key)와 값(value)에 접근하기"
      ]
    },
    {
      "cell_type": "code",
      "execution_count": null,
      "id": "0697a654",
      "metadata": {
        "id": "0697a654",
        "colab": {
          "base_uri": "https://localhost:8080/"
        },
        "outputId": "ec06669e-1360-4c70-d56f-a193993ab6bb"
      },
      "outputs": [
        {
          "output_type": "stream",
          "name": "stdout",
          "text": [
            "100\n",
            "---방법1---\n",
            "국어 => 100\n",
            "국어 => 100\n",
            "국어 => 80\n",
            "수학 => 90\n",
            "수학 => 90\n",
            "수학 => 80\n",
            "영어 => 80\n",
            "영어 => 80\n",
            "영어 => 80\n",
            "dict_items([('국어', 100), ('수학', 90), ('영어', 80)])\n"
          ]
        }
      ],
      "source": [
        "scores = {'국어': 100, '수학': 90, '영어': 80}\n",
        "\n",
        "print(scores['국어'])  # 딕셔너리는 키로 접근한다.\n",
        "\n",
        "# 방법1\n",
        "print('---방법1---')\n",
        "for key in scores:\n",
        "    print('%s => %s' % (key, scores[key]))\n",
        "    print(f'{key} => {scores[key]}')\n",
        "    print(f'{key} => {value}')\n",
        "\n",
        "print(scores.items())\n",
        "\n",
        "# 방법2\n",
        "# print('---방법2---')\n",
        "# for key, value in scores.items():\n",
        "    # print('%s => %s' % (key, value))\n"
      ]
    },
    {
      "cell_type": "code",
      "execution_count": null,
      "id": "011745db",
      "metadata": {
        "id": "011745db",
        "colab": {
          "base_uri": "https://localhost:8080/"
        },
        "outputId": "2819fdb5-7ba0-48a3-b156-55fdd1b8d254"
      },
      "outputs": [
        {
          "output_type": "stream",
          "name": "stdout",
          "text": [
            "dict_keys(['국어', '수학', '영어'])\n",
            "dict_values([100, 90, 80])\n",
            "dict_items([('국어', 100), ('수학', 90), ('영어', 80)])\n"
          ]
        }
      ],
      "source": [
        "print(scores.keys())   # 키만 추출\n",
        "print(scores.values()) # 키만 추출\n",
        "print(scores.items())  # (키,값)쌍 형태로 추출\n",
        "\n",
        "\n"
      ]
    },
    {
      "cell_type": "markdown",
      "id": "7d76f114",
      "metadata": {
        "id": "7d76f114"
      },
      "source": [
        "### 딕셔너리에 요소 추가/수정/삭제"
      ]
    },
    {
      "cell_type": "code",
      "execution_count": null,
      "id": "f15a3506",
      "metadata": {
        "id": "f15a3506",
        "colab": {
          "base_uri": "https://localhost:8080/",
          "height": 148
        },
        "outputId": "d109e928-5a5c-4f4d-fec0-a8d6491db004"
      },
      "outputs": [
        {
          "output_type": "error",
          "ename": "SyntaxError",
          "evalue": "ignored",
          "traceback": [
            "\u001b[0;36m  File \u001b[0;32m\"<ipython-input-139-27c0a105e4b0>\"\u001b[0;36m, line \u001b[0;32m10\u001b[0m\n\u001b[0;31m    del scores['영어'])\u001b[0m\n\u001b[0m                    ^\u001b[0m\n\u001b[0;31mSyntaxError\u001b[0m\u001b[0;31m:\u001b[0m unmatched ')'\n"
          ]
        }
      ],
      "source": [
        "# 키로 요소 추가하기\n",
        "scores['music'] = 100\n",
        "print(scores)\n",
        "\n",
        "# 요소 값 수정하기\n",
        "# scores['수학'] = 99\n",
        "# print(scores)\n",
        "\n",
        "# # 요소 삭제하기\n",
        "del scores['영어'])\n",
        "# print(scores)"
      ]
    },
    {
      "cell_type": "code",
      "source": [
        "a = tuple()\n",
        "a =()\n",
        "print(type)\n",
        "\n",
        "a = (1,2,3,4,5)\n",
        "print(type(a),a)\n",
        "\n",
        "print(a[3])\n",
        "print(a[:3])\n",
        "\n",
        "[3] = 4 #튜플의 요소를 변경하거나 추가할 수 없다.\n",
        "\n",
        "\n",
        "\n"
      ],
      "metadata": {
        "colab": {
          "base_uri": "https://localhost:8080/",
          "height": 317
        },
        "id": "wJx2HuzJ7nW1",
        "outputId": "2b999c95-2072-4a43-93c4-c7e95db8063a"
      },
      "id": "wJx2HuzJ7nW1",
      "execution_count": null,
      "outputs": [
        {
          "output_type": "stream",
          "name": "stdout",
          "text": [
            "<class 'type'>\n",
            "<class 'tuple'> (1, 2, 3, 4, 5)\n",
            "4\n",
            "(1, 2, 3)\n"
          ]
        },
        {
          "output_type": "error",
          "ename": "TypeError",
          "evalue": "ignored",
          "traceback": [
            "\u001b[0;31m---------------------------------------------------------------------------\u001b[0m",
            "\u001b[0;31mTypeError\u001b[0m                                 Traceback (most recent call last)",
            "\u001b[0;32m<ipython-input-140-a8ce09ba959e>\u001b[0m in \u001b[0;36m<cell line: 10>\u001b[0;34m()\u001b[0m\n\u001b[1;32m      8\u001b[0m \u001b[0mprint\u001b[0m\u001b[0;34m(\u001b[0m\u001b[0ma\u001b[0m\u001b[0;34m[\u001b[0m\u001b[0;36m3\u001b[0m\u001b[0;34m]\u001b[0m\u001b[0;34m)\u001b[0m\u001b[0;34m\u001b[0m\u001b[0;34m\u001b[0m\u001b[0m\n\u001b[1;32m      9\u001b[0m \u001b[0mprint\u001b[0m\u001b[0;34m(\u001b[0m\u001b[0ma\u001b[0m\u001b[0;34m[\u001b[0m\u001b[0;34m:\u001b[0m\u001b[0;36m3\u001b[0m\u001b[0;34m]\u001b[0m\u001b[0;34m)\u001b[0m\u001b[0;34m\u001b[0m\u001b[0;34m\u001b[0m\u001b[0m\n\u001b[0;32m---> 10\u001b[0;31m \u001b[0ma\u001b[0m\u001b[0;34m[\u001b[0m\u001b[0;36m3\u001b[0m\u001b[0;34m]\u001b[0m \u001b[0;34m=\u001b[0m\u001b[0;36m44\u001b[0m\u001b[0;34m\u001b[0m\u001b[0;34m\u001b[0m\u001b[0m\n\u001b[0m\u001b[1;32m     11\u001b[0m \u001b[0;34m\u001b[0m\u001b[0m\n",
            "\u001b[0;31mTypeError\u001b[0m: 'tuple' object does not support item assignment"
          ]
        }
      ]
    },
    {
      "cell_type": "code",
      "source": [],
      "metadata": {
        "id": "7rbaN8yI8ff5"
      },
      "id": "7rbaN8yI8ff5",
      "execution_count": null,
      "outputs": []
    },
    {
      "cell_type": "markdown",
      "source": [
        "##집합\n"
      ],
      "metadata": {
        "id": "eYe_mDW08frK"
      },
      "id": "eYe_mDW08frK"
    },
    {
      "cell_type": "code",
      "source": [
        "a = set()\n",
        "a = set(\"Happy\")\n",
        "print(type(a), a)\n",
        "\n",
        " # 집합에서는 중복된 데이터를 배제시킬 수 있다.\n",
        "\n",
        "\n"
      ],
      "metadata": {
        "colab": {
          "base_uri": "https://localhost:8080/"
        },
        "id": "ZmKRYHDU8hgh",
        "outputId": "d0c443d5-0814-4d48-a9bb-2fec4d4c8a98"
      },
      "id": "ZmKRYHDU8hgh",
      "execution_count": null,
      "outputs": [
        {
          "output_type": "stream",
          "name": "stdout",
          "text": [
            "<class 'set'> {'a', 'p', 'y', 'H'}\n"
          ]
        }
      ]
    },
    {
      "cell_type": "code",
      "source": [
        "# 집합에서는 중복된 데이터를 배제시킬 수 있다.\n",
        "fruits = ['사과','바나나','사과','포도','귤']\n",
        "a = list(set(fruits))\n",
        "a.sort()\n",
        "print(a)"
      ],
      "metadata": {
        "colab": {
          "base_uri": "https://localhost:8080/"
        },
        "id": "0krX2LgW9Oz8",
        "outputId": "1db5812c-4a2f-4860-ec5b-7b2f7d4d27f2"
      },
      "id": "0krX2LgW9Oz8",
      "execution_count": null,
      "outputs": [
        {
          "output_type": "stream",
          "name": "stdout",
          "text": [
            "['귤', '바나나', '사과', '포도']\n"
          ]
        }
      ]
    },
    {
      "cell_type": "code",
      "source": [
        "fruits =('사과','바나나','사과','바나나''귤')"
      ],
      "metadata": {
        "id": "NypX_WDk-dWA"
      },
      "id": "NypX_WDk-dWA",
      "execution_count": null,
      "outputs": []
    },
    {
      "cell_type": "markdown",
      "id": "45e329e4",
      "metadata": {
        "id": "45e329e4"
      },
      "source": [
        "------------------------"
      ]
    },
    {
      "cell_type": "markdown",
      "id": "66025633",
      "metadata": {
        "id": "66025633"
      },
      "source": [
        "끝"
      ]
    }
  ],
  "metadata": {
    "kernelspec": {
      "display_name": "Python 3 (ipykernel)",
      "language": "python",
      "name": "python3"
    },
    "language_info": {
      "codemirror_mode": {
        "name": "ipython",
        "version": 3
      },
      "file_extension": ".py",
      "mimetype": "text/x-python",
      "name": "python",
      "nbconvert_exporter": "python",
      "pygments_lexer": "ipython3",
      "version": "3.10.9"
    },
    "vscode": {
      "interpreter": {
        "hash": "b41e41bff03a930185ac2cbea60ce521f7c8c2f5401ceb5c30214081f77ab4f5"
      }
    },
    "colab": {
      "provenance": [],
      "include_colab_link": true
    }
  },
  "nbformat": 4,
  "nbformat_minor": 5
}
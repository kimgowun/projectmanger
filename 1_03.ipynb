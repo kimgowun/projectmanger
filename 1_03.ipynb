{
  "cells": [
    {
      "cell_type": "markdown",
      "metadata": {
        "id": "view-in-github",
        "colab_type": "text"
      },
      "source": [
        "<a href=\"https://colab.research.google.com/github/kimgowun/projectmanger/blob/main/1_03.ipynb\" target=\"_parent\"><img src=\"https://colab.research.google.com/assets/colab-badge.svg\" alt=\"Open In Colab\"/></a>"
      ]
    },
    {
      "cell_type": "markdown",
      "id": "25f81d8c",
      "metadata": {
        "id": "25f81d8c"
      },
      "source": [
        "# 파이썬 기초 다지기"
      ]
    },
    {
      "cell_type": "code",
      "source": [
        "from gtts import gTTS\n",
        "from IPython.display import Audio\n",
        "\n",
        "kor_wav = gTTS('안녕 여러분!', lang = 'ko')\n",
        "kor_wav.save('kor.wav')\n",
        "\n",
        "display(Audio('kor.wav', autoplay=True))"
      ],
      "metadata": {
        "id": "OwBpfBQH_PBE"
      },
      "id": "OwBpfBQH_PBE",
      "execution_count": null,
      "outputs": []
    },
    {
      "cell_type": "markdown",
      "id": "3f3da3bd",
      "metadata": {
        "id": "3f3da3bd"
      },
      "source": [
        "## 3- 조건문과 반복문\n",
        "데이터와 처리의 흐름을 제어하는 조건문과 반목문\n",
        "제어구문이라고도 함.\n",
        "순차문, 조건문, 반복문 (3개의 제어 구문을 갖고 있음)\n",
        "1. 기본 _순차문\n",
        "2. floar 차트 -"
      ]
    },
    {
      "cell_type": "code",
      "source": [
        "!pip install gtts"
      ],
      "metadata": {
        "id": "Phqwe_WIAUlg"
      },
      "id": "Phqwe_WIAUlg",
      "execution_count": null,
      "outputs": []
    },
    {
      "cell_type": "markdown",
      "id": "0c52a67e",
      "metadata": {
        "id": "0c52a67e"
      },
      "source": [
        "----------------------------------"
      ]
    },
    {
      "cell_type": "markdown",
      "id": "aee8f2e8",
      "metadata": {
        "id": "aee8f2e8"
      },
      "source": [
        "## 3-1.if 조건문"
      ]
    },
    {
      "cell_type": "markdown",
      "id": "e89f3546",
      "metadata": {
        "id": "e89f3546"
      },
      "source": [
        "### 조건문: if"
      ]
    },
    {
      "cell_type": "code",
      "execution_count": null,
      "id": "4f161d86",
      "metadata": {
        "colab": {
          "base_uri": "https://localhost:8080/"
        },
        "id": "4f161d86",
        "outputId": "c884f3fd-0c69-4eea-b482-ff48b98f3bac"
      },
      "outputs": [
        {
          "output_type": "stream",
          "name": "stdout",
          "text": [
            "숫자를 입력하세요: 3\n",
            "3는 100보다 작군요!\n"
          ]
        }
      ],
      "source": [
        "a = int(input('숫자를 입력하세요: '))\n",
        "if a > 100:\n",
        "    print(f'{a}는 100보다 크군요!')\n",
        "if a < 100:\n",
        "    print(f'{a}는 100보다 작군요!')"
      ]
    },
    {
      "cell_type": "markdown",
      "id": "cb89ea65",
      "metadata": {
        "id": "cb89ea65"
      },
      "source": [
        "### 조건문: if ~ else"
      ]
    },
    {
      "cell_type": "code",
      "execution_count": null,
      "id": "6eca2413",
      "metadata": {
        "colab": {
          "base_uri": "https://localhost:8080/",
          "height": 148
        },
        "id": "6eca2413",
        "outputId": "c1700d9d-d0dd-440e-d75d-e8ef7b130cf6"
      },
      "outputs": [
        {
          "output_type": "error",
          "ename": "SyntaxError",
          "evalue": "ignored",
          "traceback": [
            "\u001b[0;36m  File \u001b[0;32m\"<ipython-input-8-ba5c3ec272db>\"\u001b[0;36m, line \u001b[0;32m4\u001b[0m\n\u001b[0;31m    else:\u001b[0m\n\u001b[0m    ^\u001b[0m\n\u001b[0;31mSyntaxError\u001b[0m\u001b[0;31m:\u001b[0m invalid syntax\n"
          ]
        }
      ],
      "source": [
        "a = int(input('숫자를 입력하세요: '))\n",
        "if a > 100:\n",
        "    print(f'{a}는 100보다 크군요!')\n",
        "    else:\n",
        "    print(f'{a}는 100보다 크지 않거나 군요!')\n",
        "    if a > 200:\n",
        "        print(f'{a}는 200보다 크군요!')\n",
        "    else:\n",
        "    print(f'{a}는 100보다 크지 않거나 같군요!')\n",
        "\n",
        "    else:\n",
        "    if a== 100:\n",
        "        print(f'{a}는 100과 같군요!')\n",
        "    else:\n",
        "        print(f'{a}는 100보다 작군요!')\n"
      ]
    },
    {
      "cell_type": "code",
      "source": [
        "a = int(input('숫자를 입력하세요: '))\n",
        "if a > 100:\n",
        "    print(f'{a}는 100보다 크군요!')\n",
        "    if a > 200:\n",
        "        print(f'{a}는 200보다 크군요!')\n",
        "    else:\n",
        "        print(f'{a}는 200보다 같거나 크지 않군요!')\n",
        "else:\n",
        "    if a == 100:\n",
        "        print(f'{a}는 100과 같군요!')\n",
        "    else:\n",
        "        print(f'{a}는 100보다 작군요!')"
      ],
      "metadata": {
        "colab": {
          "base_uri": "https://localhost:8080/",
          "height": 434
        },
        "id": "5GR623_Tit-1",
        "outputId": "2f0da884-c61e-4320-f642-b9c17d16090a"
      },
      "id": "5GR623_Tit-1",
      "execution_count": null,
      "outputs": [
        {
          "output_type": "error",
          "ename": "KeyboardInterrupt",
          "evalue": "ignored",
          "traceback": [
            "\u001b[0;31m---------------------------------------------------------------------------\u001b[0m",
            "\u001b[0;31mKeyboardInterrupt\u001b[0m                         Traceback (most recent call last)",
            "\u001b[0;32m<ipython-input-9-2462847c9c6a>\u001b[0m in \u001b[0;36m<cell line: 1>\u001b[0;34m()\u001b[0m\n\u001b[0;32m----> 1\u001b[0;31m \u001b[0ma\u001b[0m \u001b[0;34m=\u001b[0m \u001b[0mint\u001b[0m\u001b[0;34m(\u001b[0m\u001b[0minput\u001b[0m\u001b[0;34m(\u001b[0m\u001b[0;34m'숫자를 입력하세요: '\u001b[0m\u001b[0;34m)\u001b[0m\u001b[0;34m)\u001b[0m\u001b[0;34m\u001b[0m\u001b[0;34m\u001b[0m\u001b[0m\n\u001b[0m\u001b[1;32m      2\u001b[0m \u001b[0;32mif\u001b[0m \u001b[0ma\u001b[0m \u001b[0;34m>\u001b[0m \u001b[0;36m100\u001b[0m\u001b[0;34m:\u001b[0m\u001b[0;34m\u001b[0m\u001b[0;34m\u001b[0m\u001b[0m\n\u001b[1;32m      3\u001b[0m     \u001b[0mprint\u001b[0m\u001b[0;34m(\u001b[0m\u001b[0;34mf'{a}는 100보다 크군요!'\u001b[0m\u001b[0;34m)\u001b[0m\u001b[0;34m\u001b[0m\u001b[0;34m\u001b[0m\u001b[0m\n\u001b[1;32m      4\u001b[0m     \u001b[0;32mif\u001b[0m \u001b[0ma\u001b[0m \u001b[0;34m>\u001b[0m \u001b[0;36m200\u001b[0m\u001b[0;34m:\u001b[0m\u001b[0;34m\u001b[0m\u001b[0;34m\u001b[0m\u001b[0m\n\u001b[1;32m      5\u001b[0m         \u001b[0mprint\u001b[0m\u001b[0;34m(\u001b[0m\u001b[0;34mf'{a}는 200보다 크군요!'\u001b[0m\u001b[0;34m)\u001b[0m\u001b[0;34m\u001b[0m\u001b[0;34m\u001b[0m\u001b[0m\n",
            "\u001b[0;32m/usr/local/lib/python3.10/dist-packages/ipykernel/kernelbase.py\u001b[0m in \u001b[0;36mraw_input\u001b[0;34m(self, prompt)\u001b[0m\n\u001b[1;32m    849\u001b[0m                 \u001b[0;34m\"raw_input was called, but this frontend does not support input requests.\"\u001b[0m\u001b[0;34m\u001b[0m\u001b[0;34m\u001b[0m\u001b[0m\n\u001b[1;32m    850\u001b[0m             )\n\u001b[0;32m--> 851\u001b[0;31m         return self._input_request(str(prompt),\n\u001b[0m\u001b[1;32m    852\u001b[0m             \u001b[0mself\u001b[0m\u001b[0;34m.\u001b[0m\u001b[0m_parent_ident\u001b[0m\u001b[0;34m,\u001b[0m\u001b[0;34m\u001b[0m\u001b[0;34m\u001b[0m\u001b[0m\n\u001b[1;32m    853\u001b[0m             \u001b[0mself\u001b[0m\u001b[0;34m.\u001b[0m\u001b[0m_parent_header\u001b[0m\u001b[0;34m,\u001b[0m\u001b[0;34m\u001b[0m\u001b[0;34m\u001b[0m\u001b[0m\n",
            "\u001b[0;32m/usr/local/lib/python3.10/dist-packages/ipykernel/kernelbase.py\u001b[0m in \u001b[0;36m_input_request\u001b[0;34m(self, prompt, ident, parent, password)\u001b[0m\n\u001b[1;32m    893\u001b[0m             \u001b[0;32mexcept\u001b[0m \u001b[0mKeyboardInterrupt\u001b[0m\u001b[0;34m:\u001b[0m\u001b[0;34m\u001b[0m\u001b[0;34m\u001b[0m\u001b[0m\n\u001b[1;32m    894\u001b[0m                 \u001b[0;31m# re-raise KeyboardInterrupt, to truncate traceback\u001b[0m\u001b[0;34m\u001b[0m\u001b[0;34m\u001b[0m\u001b[0m\n\u001b[0;32m--> 895\u001b[0;31m                 \u001b[0;32mraise\u001b[0m \u001b[0mKeyboardInterrupt\u001b[0m\u001b[0;34m(\u001b[0m\u001b[0;34m\"Interrupted by user\"\u001b[0m\u001b[0;34m)\u001b[0m \u001b[0;32mfrom\u001b[0m \u001b[0;32mNone\u001b[0m\u001b[0;34m\u001b[0m\u001b[0;34m\u001b[0m\u001b[0m\n\u001b[0m\u001b[1;32m    896\u001b[0m             \u001b[0;32mexcept\u001b[0m \u001b[0mException\u001b[0m \u001b[0;32mas\u001b[0m \u001b[0me\u001b[0m\u001b[0;34m:\u001b[0m\u001b[0;34m\u001b[0m\u001b[0;34m\u001b[0m\u001b[0m\n\u001b[1;32m    897\u001b[0m                 \u001b[0mself\u001b[0m\u001b[0;34m.\u001b[0m\u001b[0mlog\u001b[0m\u001b[0;34m.\u001b[0m\u001b[0mwarning\u001b[0m\u001b[0;34m(\u001b[0m\u001b[0;34m\"Invalid Message:\"\u001b[0m\u001b[0;34m,\u001b[0m \u001b[0mexc_info\u001b[0m\u001b[0;34m=\u001b[0m\u001b[0;32mTrue\u001b[0m\u001b[0;34m)\u001b[0m\u001b[0;34m\u001b[0m\u001b[0;34m\u001b[0m\u001b[0m\n",
            "\u001b[0;31mKeyboardInterrupt\u001b[0m: Interrupted by user"
          ]
        }
      ]
    },
    {
      "cell_type": "code",
      "source": [
        "a = int(input('숫자를 입력하세요: '))\n",
        "if a > 100:\n",
        "    print(f'{a}는 100보다 크군요!')\n",
        "else:\n",
        "    print(f'{a}는 100보다 크지 않거나 같군요!')"
      ],
      "metadata": {
        "id": "JxhakZsIi2vT"
      },
      "id": "JxhakZsIi2vT",
      "execution_count": null,
      "outputs": []
    },
    {
      "cell_type": "markdown",
      "source": [
        "##조건문 if ~elif ~ else"
      ],
      "metadata": {
        "id": "8DRaEP25jByZ"
      },
      "id": "8DRaEP25jByZ"
    },
    {
      "cell_type": "code",
      "source": [
        "a = int(input('숫자를 입력하세요: '))\n",
        "if a > 100:\n",
        "    print(f'{a}는 100보다 크군요!')\n",
        "elif a > 100:\n",
        "        print(f'{a}는 100보다 크고 200보다 작거나 같군요!')\n",
        "elif a == 100:\n",
        "        print(f'{a}는 100과 같군요!')\n",
        "else:\n",
        "    print(f'{a}는 100보다 작군요!')"
      ],
      "metadata": {
        "id": "FZTGEdtyjMU4"
      },
      "id": "FZTGEdtyjMU4",
      "execution_count": null,
      "outputs": []
    },
    {
      "cell_type": "code",
      "source": [
        "a = int(input('숫자를 입력하세요: '))\n",
        "if a > 100:\n",
        "    print(f'{a}는 100보다 크군요!')"
      ],
      "metadata": {
        "id": "LkOBIG6Si59N"
      },
      "id": "LkOBIG6Si59N",
      "execution_count": null,
      "outputs": []
    },
    {
      "cell_type": "code",
      "source": [],
      "metadata": {
        "id": "tu2cGjNElttD"
      },
      "id": "tu2cGjNElttD",
      "execution_count": null,
      "outputs": []
    },
    {
      "cell_type": "code",
      "source": [
        "x=int(input('숫자를 입력하세요'))\n",
        "if x%2==0:\n",
        "    print('짝수')\n",
        "    print(f'입력된수 : {x} ==> 짝수')\n",
        "else:\n",
        "    print('홀수')\n",
        "    print(f'입력된수 : {x} ==> 홀수')"
      ],
      "metadata": {
        "colab": {
          "base_uri": "https://localhost:8080/"
        },
        "id": "r6YMXW5KlAXj",
        "outputId": "7ca1043b-7e3a-455f-9734-bdcf4db4a618"
      },
      "id": "r6YMXW5KlAXj",
      "execution_count": null,
      "outputs": [
        {
          "output_type": "stream",
          "name": "stdout",
          "text": [
            "숫자를 입력하세요5\n",
            "홀수\n"
          ]
        }
      ]
    },
    {
      "cell_type": "code",
      "source": [
        "a = [1,2,3,4,5]\n",
        "x = 7\n",
        "if 4 in a:\n",
        "    print(f'{x}는 {a} f리스트에 포함되어 있습니다.')\n",
        "else:\n",
        "    print(f'4는 {a} 리스트에 포함되어 있지 않습니다')"
      ],
      "metadata": {
        "colab": {
          "base_uri": "https://localhost:8080/"
        },
        "id": "_Wm_viHxmHaA",
        "outputId": "7d5a86e0-3ff8-4dbf-a3fa-9c03a988463a"
      },
      "id": "_Wm_viHxmHaA",
      "execution_count": null,
      "outputs": [
        {
          "output_type": "stream",
          "name": "stdout",
          "text": [
            "7는 [1, 2, 3, 4, 5] f리스트에 포함되어 있습니다.\n"
          ]
        }
      ]
    },
    {
      "cell_type": "markdown",
      "id": "13b404bd",
      "metadata": {
        "id": "13b404bd"
      },
      "source": [
        "### 조건문 : 중첩if"
      ]
    },
    {
      "cell_type": "code",
      "execution_count": null,
      "id": "9575f530",
      "metadata": {
        "id": "9575f530"
      },
      "outputs": [],
      "source": [
        "\n"
      ]
    },
    {
      "cell_type": "markdown",
      "id": "349dec8b",
      "metadata": {
        "id": "349dec8b"
      },
      "source": [
        "### [실습문제] 짝수/홀수 판별하기"
      ]
    },
    {
      "cell_type": "code",
      "execution_count": null,
      "id": "de48c13d",
      "metadata": {
        "id": "de48c13d"
      },
      "outputs": [],
      "source": [
        "\n",
        "\n",
        "\n"
      ]
    },
    {
      "cell_type": "markdown",
      "id": "30919e6b",
      "metadata": {
        "id": "30919e6b"
      },
      "source": [
        "### [실습문제]\n",
        "피타고라스 정리에 의해 직각삼각형의 세 변의 길이에 대한 관계는 아래와 같습니다. 이 정리를 이용하여 세 변의 길이를 입력 받은 삼각형이 직각삼각형인지 아닌지 판별하는 프로그램을 만들어 보세요.\n"
      ]
    },
    {
      "cell_type": "code",
      "execution_count": null,
      "id": "f6e6ca29",
      "metadata": {
        "scrolled": false,
        "colab": {
          "base_uri": "https://localhost:8080/",
          "height": 148
        },
        "id": "f6e6ca29",
        "outputId": "bee0839b-d1c5-462c-a795-55e0f336f336"
      },
      "outputs": [
        {
          "output_type": "error",
          "ename": "IndentationError",
          "evalue": "ignored",
          "traceback": [
            "\u001b[0;36m  File \u001b[0;32m\"<ipython-input-19-0d4d53c5e20f>\"\u001b[0;36m, line \u001b[0;32m11\u001b[0m\n\u001b[0;31m    if a **2+b**2==c**2:\u001b[0m\n\u001b[0m    ^\u001b[0m\n\u001b[0;31mIndentationError\u001b[0m\u001b[0;31m:\u001b[0m expected an indented block after 'while' statement on line 9\n"
          ]
        }
      ],
      "source": [
        "# 1. 세 변의 길이 입력 받기\n",
        "a = int(input('변 a의 길이: '))\n",
        "b = int(input('변 b의 길이: '))\n",
        "c = int(input('변 c의 길이: '))\n",
        "\n",
        "print('-' * 30)  # 분리 선\n",
        "\n",
        "a = 1; b= 1; c= 1\n",
        "while True:\n",
        "    a, b, c = sorted(map(int, input().split()))\n",
        "if a **2+b**2==c**2:\n",
        "    print('이 삼각형은 직각 삼각형입니다.')\n",
        "else:\n",
        "    print('이 삼각형은 직각 삼각형이 아닙니다.')\n",
        "\n",
        "\n",
        "\n",
        "\n",
        "\n",
        "# 2. 직각삼각형 판별하기\n",
        "\n"
      ]
    },
    {
      "cell_type": "markdown",
      "source": [],
      "metadata": {
        "id": "uhI2TuWrsLE3"
      },
      "id": "uhI2TuWrsLE3"
    },
    {
      "cell_type": "code",
      "source": [
        "a = [1,2,3,4,5]\n",
        "print(f'{a}의 개수(길이): {len(a)}' )\n",
        "print(f'{a}의 합계  : {sum(a)}' )\n",
        "print(f'{a}의 최소값: {min(a)}' )\n",
        "print(f'{a}의 최대값: {max(a)}' )\n",
        "print(f'{a}의 평균  : {sum(a)/len(a)}' )"
      ],
      "metadata": {
        "id": "TZqPT4x-sKI6"
      },
      "id": "TZqPT4x-sKI6",
      "execution_count": null,
      "outputs": []
    },
    {
      "cell_type": "code",
      "source": [
        "if (a**2 + b**2) == c**2:\n",
        "    print(f'세 변 {a}, {b}, {c}는 직각삼각형 입니다.')\n",
        "else:\n",
        "    print(f'세 변 {a}, {b}, {c}는 직각삼각형이 아닙니다.')"
      ],
      "metadata": {
        "colab": {
          "base_uri": "https://localhost:8080/"
        },
        "id": "rEro47IisAaS",
        "outputId": "0eb3e693-072b-461e-d033-4772eb8a0cff"
      },
      "id": "rEro47IisAaS",
      "execution_count": null,
      "outputs": [
        {
          "output_type": "stream",
          "name": "stdout",
          "text": [
            "세 변 1, 1, 1는 직각삼각형이 아닙니다.\n"
          ]
        }
      ]
    },
    {
      "cell_type": "code",
      "source": [
        "score = int(input())\n",
        "if 100>=score>=90: print (\"A\")\n",
        "elif 90>score>=80: print (\"B\")\n",
        "elif 80>score>=70: print (\"C\")\n",
        "else: print (\"D\")\n",
        "\n",
        "score = int(input('성적을 입력해 주세요: '))\n",
        "print('-' * 30)\n",
        "\n",
        "if score >= 90:\n",
        "    grade = 'A'\n",
        "    print(f'성적: {score}점은 A 등급 입니다.')\n",
        "elif score >= 80:\n",
        "    grade = 'B'\n",
        "    print(f'성적: {score}점은 B 등급 입니다.')\n",
        "elif score >= 70:\n",
        "    grade = 'c'\n",
        "    print(f'성적: {score}점은 C 등급 입니다.')\n",
        "else:\n",
        "    print(f'성적: {score}점은 D 등급 입니다.')"
      ],
      "metadata": {
        "colab": {
          "base_uri": "https://localhost:8080/"
        },
        "id": "QSQ5vH3qt-lK",
        "outputId": "00112c7e-4f61-487b-d9fd-8e7db47649df"
      },
      "id": "QSQ5vH3qt-lK",
      "execution_count": null,
      "outputs": [
        {
          "output_type": "stream",
          "name": "stdout",
          "text": [
            "60\n",
            "D\n",
            "성적을 입력해 주세요: 79\n",
            "------------------------------\n",
            "성적: 79점은 C 등급 입니다.\n"
          ]
        }
      ]
    },
    {
      "cell_type": "code",
      "source": [
        "score = int(input())\n",
        "if 100>=score>=90: print (\"A\")\n",
        "elif 90>score>=80: print (\"B\")\n",
        "elif 80>score>=70: print (\"C\")\n",
        "else: print (\"D\")\n"
      ],
      "metadata": {
        "colab": {
          "base_uri": "https://localhost:8080/"
        },
        "id": "mfLduz_JxS6p",
        "outputId": "f2c7a566-404f-4619-ab8b-f0355c245c71"
      },
      "id": "mfLduz_JxS6p",
      "execution_count": null,
      "outputs": [
        {
          "output_type": "stream",
          "name": "stdout",
          "text": [
            "90\n",
            "A\n"
          ]
        }
      ]
    },
    {
      "cell_type": "code",
      "source": [
        "temp = int(input\"온도를 입력하세요: \"))\n",
        "if temp >= 30:\n",
        "    print(f\"온도: {30 에어컨을 켜주세요}\")\n",
        "elif temp < 15:\n",
        "    print(f\"온도: {15 내복을 입어주세요}\")\n",
        "elif temp <= 10:\n",
        "    print(f\"온도: {10 난방기를 켜주세요}\")\n",
        "else: print(\"쾌적한 온도\")\n",
        "\n",
        "temp = int(input(\"현재 온도를 입력하세요\"))\n",
        "\n",
        "if temp >= 30:\n",
        "    print(\"에어컨을 켜세요\")\n",
        "elif temp < 15:\n",
        "    print(\"내복을 입으세요\")\n",
        "elif temp <= 10:\n",
        "    print(\"난방기를 켜세요\")\n",
        "else:\n",
        "    print(\"온돈가 쾌적해요\")\n"
      ],
      "metadata": {
        "colab": {
          "base_uri": "https://localhost:8080/",
          "height": 148
        },
        "id": "d8G4IUFDyaML",
        "outputId": "92793244-2aaf-44f7-c952-98d6be683050"
      },
      "id": "d8G4IUFDyaML",
      "execution_count": null,
      "outputs": [
        {
          "output_type": "error",
          "ename": "SyntaxError",
          "evalue": "ignored",
          "traceback": [
            "\u001b[0;36m  File \u001b[0;32m\"<ipython-input-45-1f6cde2eef7c>\"\u001b[0;36m, line \u001b[0;32m1\u001b[0m\n\u001b[0;31m    temp = int(input\"온도를 입력하세요: \"))\u001b[0m\n\u001b[0m                                  ^\u001b[0m\n\u001b[0;31mSyntaxError\u001b[0m\u001b[0;31m:\u001b[0m unmatched ')'\n"
          ]
        }
      ]
    },
    {
      "cell_type": "code",
      "source": [
        "temp = int(input(\"현재 온도를 넣으세요\"))\n",
        "speaker = '온도가 쾌적해요'\n",
        "if temp >= 30:\n",
        "    print(\"에어컨을 켜세요\")\n",
        "elif temp < 15:\n",
        "    print(\"내복을 입으세요\")\n",
        "if temp <= 10:\n",
        "    print(\"난방기를 켜세요\")\n",
        "print(f'온도 {temp}도 일때는 {speakr}')"
      ],
      "metadata": {
        "colab": {
          "base_uri": "https://localhost:8080/",
          "height": 261
        },
        "id": "tWSaxyrw0Sfa",
        "outputId": "c05c1dad-ea91-43a7-b788-de49727b349d"
      },
      "id": "tWSaxyrw0Sfa",
      "execution_count": null,
      "outputs": [
        {
          "output_type": "stream",
          "name": "stdout",
          "text": [
            "현재 온도를 넣으세요40\n",
            "에어컨을 켜세요\n"
          ]
        },
        {
          "output_type": "error",
          "ename": "NameError",
          "evalue": "ignored",
          "traceback": [
            "\u001b[0;31m---------------------------------------------------------------------------\u001b[0m",
            "\u001b[0;31mNameError\u001b[0m                                 Traceback (most recent call last)",
            "\u001b[0;32m<ipython-input-51-81b920f2d979>\u001b[0m in \u001b[0;36m<cell line: 9>\u001b[0;34m()\u001b[0m\n\u001b[1;32m      7\u001b[0m \u001b[0;32mif\u001b[0m \u001b[0mtemp\u001b[0m \u001b[0;34m<=\u001b[0m \u001b[0;36m10\u001b[0m\u001b[0;34m:\u001b[0m\u001b[0;34m\u001b[0m\u001b[0;34m\u001b[0m\u001b[0m\n\u001b[1;32m      8\u001b[0m     \u001b[0mprint\u001b[0m\u001b[0;34m(\u001b[0m\u001b[0;34m\"난방기를 켜세요\"\u001b[0m\u001b[0;34m)\u001b[0m\u001b[0;34m\u001b[0m\u001b[0;34m\u001b[0m\u001b[0m\n\u001b[0;32m----> 9\u001b[0;31m \u001b[0mprint\u001b[0m\u001b[0;34m(\u001b[0m\u001b[0;34mf'온도 {temp}도 일때는 {speakr}'\u001b[0m\u001b[0;34m)\u001b[0m\u001b[0;34m\u001b[0m\u001b[0;34m\u001b[0m\u001b[0m\n\u001b[0m",
            "\u001b[0;31mNameError\u001b[0m: name 'speakr' is not defined"
          ]
        }
      ]
    },
    {
      "cell_type": "code",
      "source": [
        "temp = int(input(\"현재 온도를 넣으세요: \"))\n",
        "speaker = \"온도가 쾌적해요\"\n",
        "\n",
        "if temp >= 30:\n",
        "    speaker = \"에어컨을 켜세요\"\n",
        "elif temp < 15:\n",
        "    speaker = \"내복을 입으세요\"\n",
        "    if temp <= 10:\n",
        "        speaker = \"난방기를 켜세요\"\n",
        "\n",
        "print(f'온도 {temp}도 일때는 {speaker}')"
      ],
      "metadata": {
        "colab": {
          "base_uri": "https://localhost:8080/"
        },
        "id": "F0-QQaVQ1iPW",
        "outputId": "c64fcc28-a4bd-407c-fc34-de871c4ff8b1"
      },
      "id": "F0-QQaVQ1iPW",
      "execution_count": null,
      "outputs": [
        {
          "output_type": "stream",
          "name": "stdout",
          "text": [
            "현재 온도를 넣으세요: 47\n",
            "온도 47도 일때는 에어컨을 켜세요\n"
          ]
        }
      ]
    },
    {
      "cell_type": "code",
      "source": [
        "temp = int(input(\"현재 온도를 넣으세요\"))\n",
        "speaker = '온도가 쾌적해요'\n",
        "if temp >= 30:\n",
        "    speaker(\"에어컨을 켜세요\")\n",
        "elif temp < 15:\n",
        "    speaker(\"내복을 입으세요\")\n",
        "if temp <= 10:\n",
        "   speaker(\"난방기를 켜세요\")\n",
        "print(f'온도 {temp}도 일때는 {speaker}')"
      ],
      "metadata": {
        "colab": {
          "base_uri": "https://localhost:8080/",
          "height": 279
        },
        "id": "Y003MI0Q1MyV",
        "outputId": "edffefa0-b822-46e9-94c8-9ed6394d2416"
      },
      "id": "Y003MI0Q1MyV",
      "execution_count": null,
      "outputs": [
        {
          "name": "stdout",
          "output_type": "stream",
          "text": [
            "현재 온도를 넣으세요-5\n"
          ]
        },
        {
          "output_type": "error",
          "ename": "TypeError",
          "evalue": "ignored",
          "traceback": [
            "\u001b[0;31m---------------------------------------------------------------------------\u001b[0m",
            "\u001b[0;31mTypeError\u001b[0m                                 Traceback (most recent call last)",
            "\u001b[0;32m<ipython-input-50-892d2cbf4eba>\u001b[0m in \u001b[0;36m<cell line: 3>\u001b[0;34m()\u001b[0m\n\u001b[1;32m      4\u001b[0m     \u001b[0mspeaker\u001b[0m\u001b[0;34m(\u001b[0m\u001b[0;34m\"에어컨을 켜세요\"\u001b[0m\u001b[0;34m)\u001b[0m\u001b[0;34m\u001b[0m\u001b[0;34m\u001b[0m\u001b[0m\n\u001b[1;32m      5\u001b[0m \u001b[0;32melif\u001b[0m \u001b[0mtemp\u001b[0m \u001b[0;34m<\u001b[0m \u001b[0;36m15\u001b[0m\u001b[0;34m:\u001b[0m\u001b[0;34m\u001b[0m\u001b[0;34m\u001b[0m\u001b[0m\n\u001b[0;32m----> 6\u001b[0;31m     \u001b[0mspeaker\u001b[0m\u001b[0;34m(\u001b[0m\u001b[0;34m\"내복을 입으세요\"\u001b[0m\u001b[0;34m)\u001b[0m\u001b[0;34m\u001b[0m\u001b[0;34m\u001b[0m\u001b[0m\n\u001b[0m\u001b[1;32m      7\u001b[0m \u001b[0;32mif\u001b[0m \u001b[0mtemp\u001b[0m \u001b[0;34m<=\u001b[0m \u001b[0;36m10\u001b[0m\u001b[0;34m:\u001b[0m\u001b[0;34m\u001b[0m\u001b[0;34m\u001b[0m\u001b[0m\n\u001b[1;32m      8\u001b[0m    \u001b[0mspeaker\u001b[0m\u001b[0;34m(\u001b[0m\u001b[0;34m\"난방기를 켜세요\"\u001b[0m\u001b[0;34m)\u001b[0m\u001b[0;34m\u001b[0m\u001b[0;34m\u001b[0m\u001b[0m\n",
            "\u001b[0;31mTypeError\u001b[0m: 'str' object is not callable"
          ]
        }
      ]
    },
    {
      "cell_type": "code",
      "source": [
        "score = int(input('성적을 입력해주세요: '))\n",
        "\n",
        "if score >= 90:\n",
        "  grade = \"A\"\n",
        "  print(f\"성적: {score}는 {grade}등급 입니다\")\n",
        "if 90 > score >= 80:\n",
        "  grade = \"B\"\n",
        "  print(f\"성적: {score}는 {grade}등급 입니다\")\n",
        "if 80 > score >= 70:\n",
        "  grade = \"C\"\n",
        "  print(f\"성적: {score}는 {grade}등급 입니다\")\n",
        "if 70 > score >= 0:\n",
        "  grade = \"D\"\n",
        "  print(f\"성적: {score}는 {grade}등급 입니다\")"
      ],
      "metadata": {
        "colab": {
          "base_uri": "https://localhost:8080/"
        },
        "id": "A48gRUx5xOMJ",
        "outputId": "067f2890-d404-4769-d29b-7808504f3a2a"
      },
      "id": "A48gRUx5xOMJ",
      "execution_count": null,
      "outputs": [
        {
          "output_type": "stream",
          "name": "stdout",
          "text": [
            "성적을 입력해주세요: 70\n",
            "성적: 70는 C등급 입니다\n"
          ]
        }
      ]
    },
    {
      "cell_type": "code",
      "source": [
        "score = int(input('성적을 입력해 주세요: '))\n",
        "print('-' * 30)\n",
        "\n",
        "if score >= 90:\n",
        "    print(f'성적: {score}점은 A 등급 입니다.')\n",
        "elif score >= 80:\n",
        "    print(f'성적: {score}점은 B 등급 입니다.')\n",
        "elif score >= 70:\n",
        "    print(f'성적: {score}점은 C 등급 입니다.')\n",
        "else:\n",
        "    print(f'성적: {score}점은 D 등급 입니다.')"
      ],
      "metadata": {
        "id": "hUZMkoQSwH0B"
      },
      "id": "hUZMkoQSwH0B",
      "execution_count": null,
      "outputs": []
    },
    {
      "cell_type": "markdown",
      "id": "862598a5",
      "metadata": {
        "id": "862598a5"
      },
      "source": [
        "### [실습문제]\n",
        "아래 조건을 만족하는 커피 자동주문 머신을 만들어보세요.<br><br>\n",
        "[커피 자동주문 머신]<br>\n",
        "친구들과 현금 커피 자동주문 머신 앞에서\n",
        " - 아메리카노 2잔과 카페라테 2잔 카푸치노 1잔을 주문하였다.\n",
        " - 아메리카노 한잔에 2500원이고\n",
        " - 카페라테는 한잔에 3000원\n",
        " - 카푸치노는 한잔에 3000원이다.\n",
        "커피 종류와 잔 수를 결정한 후 현금 15000원을 투입하고 잔돈을 1000원 받았다."
      ]
    },
    {
      "cell_type": "code",
      "execution_count": 5,
      "id": "0d6035c2",
      "metadata": {
        "id": "0d6035c2",
        "colab": {
          "base_uri": "https://localhost:8080/"
        },
        "outputId": "c93e384f-5069-4591-cf70-a4ca59be7071"
      },
      "outputs": [
        {
          "output_type": "stream",
          "name": "stdout",
          "text": [
            "[커피 자동주문 머신 메뉴]\n",
            "------------------------------\n",
            "-아메리카노는 2500원\n",
            "-카레라떼는 3000원\n",
            "-카푸치노는 3000원\n",
            "입니다. 원하시는 커피종류와 잔수를 입력하세요.\n",
            "------------------------------\n",
            "아메리카노 몇잔?1\n",
            "카페라떼 몇잔?1\n",
            "카푸치노 몇잔?1\n",
            "지불할 총 금액은 : 8500원 입니다.\n",
            "8500원을 넣어주세요10000\n",
            "잔돈1500원 입니다. 커피 맛있게 드세요~\n"
          ]
        }
      ],
      "source": [
        "menu = '''[커피 자동주문 머신 메뉴]\n",
        "------------------------------\n",
        "-아메리카노는 2500원\n",
        "-카레라떼는 3000원\n",
        "-카푸치노는 3000원\n",
        "입니다. 원하시는 커피종류와 잔수를 입력하세요.\n",
        "------------------------------'''\n",
        "print(menu)\n",
        "coffee1 = int(input(\"아메리카노 몇잔?\"))\n",
        "coffee2 = int(input(\"카페라떼 몇잔?\"))\n",
        "coffee3 = int(input(\"카푸치노 몇잔?\"))\n",
        "\n",
        "total =  2500*coffee1 +3000*coffee2 + 3000*coffee3\n",
        "print(f'지불할 총 금액은 : {total}원 입니다.')\n",
        "\n",
        "money = int(input(f'{total}원을 넣어주세요'))\n",
        "if total > money:\n",
        "    print(f'돈이 부족합니다. {total-money}원을 더 넣어주세요.')\n",
        "else:\n",
        "    print(f'잔돈{money - total}원 입니다. 커피 맛있게 드세요~')\n",
        "\n"
      ]
    },
    {
      "cell_type": "code",
      "source": [],
      "metadata": {
        "id": "_ruusYqzDJa2"
      },
      "id": "_ruusYqzDJa2",
      "execution_count": null,
      "outputs": []
    },
    {
      "cell_type": "markdown",
      "id": "67412428",
      "metadata": {
        "id": "67412428"
      },
      "source": [
        "## 3-2.반복문"
      ]
    },
    {
      "cell_type": "markdown",
      "id": "44197774",
      "metadata": {
        "id": "44197774"
      },
      "source": [
        "### 반복문: for 반복문"
      ]
    },
    {
      "cell_type": "code",
      "source": [
        "for i in range(0,3,1):\n",
        "    print(i)"
      ],
      "metadata": {
        "id": "OcsO2GdVJQGy",
        "outputId": "571d432d-e843-4700-a1eb-2e5578509a37",
        "colab": {
          "base_uri": "https://localhost:8080/"
        }
      },
      "id": "OcsO2GdVJQGy",
      "execution_count": 15,
      "outputs": [
        {
          "output_type": "stream",
          "name": "stdout",
          "text": [
            "0\n",
            "1\n",
            "2\n"
          ]
        }
      ]
    },
    {
      "cell_type": "markdown",
      "source": [
        "###range()함수 사용하여 반복하기\n",
        "앞에 아무것도 안쓰면 0부터 시작하는것\n",
        "1쓰면 1부터 시작하는것"
      ],
      "metadata": {
        "id": "UgJUy44_JnoL"
      },
      "id": "UgJUy44_JnoL"
    },
    {
      "cell_type": "markdown",
      "source": [
        "##### 2. 문자열을 이용하여 반복하기"
      ],
      "metadata": {
        "id": "3OTXWHw-J97h"
      },
      "id": "3OTXWHw-J97h"
    },
    {
      "cell_type": "code",
      "source": [],
      "metadata": {
        "id": "IlYflhptLRm0"
      },
      "id": "IlYflhptLRm0",
      "execution_count": null,
      "outputs": []
    },
    {
      "cell_type": "markdown",
      "source": [
        "#### 3. 리스트를 이용하여 반복하기"
      ],
      "metadata": {
        "id": "1r4fu2rxLMbQ"
      },
      "id": "1r4fu2rxLMbQ"
    },
    {
      "cell_type": "code",
      "source": [
        "fruits = ['포도','사과','오렌지','바나나','체리']\n",
        "for fruit in fruits:\n",
        "    print(f'내가 좋아하는 과일 {fruit}!')"
      ],
      "metadata": {
        "id": "20APVmHqLTdi",
        "outputId": "830ffc31-e6e2-4ade-ff35-37132623a514",
        "colab": {
          "base_uri": "https://localhost:8080/"
        }
      },
      "id": "20APVmHqLTdi",
      "execution_count": 27,
      "outputs": [
        {
          "output_type": "stream",
          "name": "stdout",
          "text": [
            "내가 좋아하는 과일 포도!\n",
            "내가 좋아하는 과일 사과!\n",
            "내가 좋아하는 과일 오렌지!\n",
            "내가 좋아하는 과일 바나나!\n",
            "내가 좋아하는 과일 체리!\n"
          ]
        }
      ]
    },
    {
      "cell_type": "code",
      "source": [
        "fruits = ['포도','사과','오렌지','바나나','체리']\n",
        "print('내가 좋아하는 과일은')\n",
        "for fruit in fruits:\n",
        "    print(fruit, end= ' ')"
      ],
      "metadata": {
        "id": "TMHsXNKmLzHL",
        "outputId": "adc6b794-7f7b-405d-820d-f994ebd08e2b",
        "colab": {
          "base_uri": "https://localhost:8080/"
        }
      },
      "id": "TMHsXNKmLzHL",
      "execution_count": 28,
      "outputs": [
        {
          "output_type": "stream",
          "name": "stdout",
          "text": [
            "내가 좋아하는 과일은\n",
            "포도 사과 오렌지 바나나 체리 "
          ]
        }
      ]
    },
    {
      "cell_type": "markdown",
      "source": [
        "반복하는것 end"
      ],
      "metadata": {
        "id": "a4P6h9B6MFWh"
      },
      "id": "a4P6h9B6MFWh"
    },
    {
      "cell_type": "code",
      "source": [
        "사과 = 'apple'\n",
        "for i in 사과:\n",
        "    print(f'{i}남자입니다.')\n",
        "for i in range(3):\n",
        "    print(i+1, '번째 for 반복문입니다.')"
      ],
      "metadata": {
        "id": "xy_QqE5NJ8_S",
        "outputId": "d0912843-7586-450a-e840-fe426816f83d",
        "colab": {
          "base_uri": "https://localhost:8080/"
        }
      },
      "id": "xy_QqE5NJ8_S",
      "execution_count": 25,
      "outputs": [
        {
          "output_type": "stream",
          "name": "stdout",
          "text": [
            "a남자입니다.\n",
            "p남자입니다.\n",
            "p남자입니다.\n",
            "l남자입니다.\n",
            "e남자입니다.\n",
            "1 번째 for 반복문입니다.\n",
            "2 번째 for 반복문입니다.\n",
            "3 번째 for 반복문입니다.\n"
          ]
        }
      ]
    },
    {
      "cell_type": "code",
      "source": [
        "# for i in range(0,3,1):\n",
        "# for i in range(0,3):\n",
        "for i in range(3):\n",
        "    print(i)"
      ],
      "metadata": {
        "id": "SiMKfBuBJrET",
        "outputId": "097d0991-09d1-44fd-f6d7-161178692a1b",
        "colab": {
          "base_uri": "https://localhost:8080/"
        }
      },
      "id": "SiMKfBuBJrET",
      "execution_count": 16,
      "outputs": [
        {
          "output_type": "stream",
          "name": "stdout",
          "text": [
            "0\n",
            "1\n",
            "2\n"
          ]
        }
      ]
    },
    {
      "cell_type": "code",
      "execution_count": 5,
      "id": "9f69ecc4",
      "metadata": {
        "scrolled": true,
        "id": "9f69ecc4"
      },
      "outputs": [],
      "source": []
    },
    {
      "cell_type": "markdown",
      "id": "8288e636",
      "metadata": {
        "id": "8288e636"
      },
      "source": [
        "### [실습문제]\n",
        "키보드로 양의 정수(n)을 입력 받아 1~n까지의 합을 구하는 프로그램을 만들어 보세요."
      ]
    },
    {
      "cell_type": "code",
      "execution_count": 34,
      "id": "d6774150",
      "metadata": {
        "id": "d6774150",
        "colab": {
          "base_uri": "https://localhost:8080/"
        },
        "outputId": "1e67af16-3a2c-44a3-d0a8-592cdbde4f04"
      },
      "outputs": [
        {
          "output_type": "stream",
          "name": "stdout",
          "text": [
            "숫자를 입력하세요: 10\n",
            "1~10까지 합은 55입니다.\n"
          ]
        }
      ],
      "source": [
        "from re import I\n",
        "\n",
        "\n",
        "\n",
        "n = int(input('숫자를 입력하세요: '))\n",
        "hap = 0\n",
        "for i in range(1,n+1,1):\n",
        "    hap = hap + i\n",
        "print (f'1~{n}까지 합은 {hap}입니다.')\n"
      ]
    },
    {
      "cell_type": "code",
      "source": [
        "n = int(input('숫자를 입력하세요: '))\n",
        "hap = 0\n",
        "for i in range(1,n+1,2):\n",
        "    hap = hap + i\n",
        "print (f'1~{n}까지 합은 {hap}입니다.')"
      ],
      "metadata": {
        "id": "qi_OaENKQsPJ",
        "outputId": "73e937a2-e261-48da-caf0-f59870c911c0",
        "colab": {
          "base_uri": "https://localhost:8080/"
        }
      },
      "id": "qi_OaENKQsPJ",
      "execution_count": 38,
      "outputs": [
        {
          "output_type": "stream",
          "name": "stdout",
          "text": [
            "숫자를 입력하세요: 4\n",
            "1~4까지 합은 4입니다.\n"
          ]
        }
      ]
    },
    {
      "cell_type": "code",
      "source": [
        "n = int(input('숫자를 입력하세요: '))\n",
        "hap = 0\n",
        "for i in range(1,n+1,1):\n",
        "   if i%2 != 0: # 짝수\n",
        "    continue    # skip\n",
        "else:\n",
        "    hap = hap + i\n",
        "print (f'1~{n}까지 합은 {hap}입니다.')"
      ],
      "metadata": {
        "id": "owTe_ow5QNqO",
        "outputId": "4e72d60d-89a8-4d76-9ff8-1b5ff9550332",
        "colab": {
          "base_uri": "https://localhost:8080/"
        }
      },
      "id": "owTe_ow5QNqO",
      "execution_count": 37,
      "outputs": [
        {
          "output_type": "stream",
          "name": "stdout",
          "text": [
            "숫자를 입력하세요: 40\n",
            "1~40까지 합은 40입니다.\n"
          ]
        }
      ]
    },
    {
      "cell_type": "code",
      "source": [
        "from re import I\n",
        "\n",
        "\n",
        "\n",
        "n = int(input('숫자를 입력하세요: '))\n",
        "\n",
        "\n",
        "# 2. 1~N까지 합계를 구하세요.\n",
        "hap = 0\n",
        "for i in range(1,n+1,1):\n",
        "        print(f'{hap}+{i}')\n",
        "    hap = hap + i\n",
        "print (f'1~{n}까지 합은 {hap}입니다.')"
      ],
      "metadata": {
        "id": "G25yN_QjPe2P",
        "outputId": "14c2238c-c611-4666-9a09-44b4f21302eb",
        "colab": {
          "base_uri": "https://localhost:8080/",
          "height": 148
        }
      },
      "id": "G25yN_QjPe2P",
      "execution_count": 36,
      "outputs": [
        {
          "output_type": "error",
          "ename": "IndentationError",
          "evalue": "ignored",
          "traceback": [
            "\u001b[0;36m  File \u001b[0;32m\"<tokenize>\"\u001b[0;36m, line \u001b[0;32m12\u001b[0m\n\u001b[0;31m    hap = hap + i\u001b[0m\n\u001b[0m    ^\u001b[0m\n\u001b[0;31mIndentationError\u001b[0m\u001b[0;31m:\u001b[0m unindent does not match any outer indentation level\n"
          ]
        }
      ]
    },
    {
      "cell_type": "markdown",
      "id": "aae06acb",
      "metadata": {
        "id": "aae06acb"
      },
      "source": [
        "### [실습문제]\n",
        "키보드로 양의 정수(n)을 입력 받아 1~n까지의 합을 구할 때 짝수를 제외하고 합을 구하는 프로그램을 만들어 보세요."
      ]
    },
    {
      "cell_type": "code",
      "execution_count": 6,
      "id": "c87285cf",
      "metadata": {
        "id": "c87285cf"
      },
      "outputs": [],
      "source": [
        "\n"
      ]
    },
    {
      "cell_type": "markdown",
      "id": "ac62e6f7",
      "metadata": {
        "id": "ac62e6f7"
      },
      "source": [
        "### 반복문: while 반복문"
      ]
    },
    {
      "cell_type": "code",
      "source": [
        "num1, num2 = 1, 1\n",
        "\n",
        "while num1 != 0:\n",
        "    num1 = int(input(\"더할 첫 번째 숫자: \"))\n",
        "    num2 = int(input(\"더할 두 번째 숫자:\"))\n",
        "    print(f'{num1}+{num2} = {num1 + num2}')\n",
        "print(\"0을 입력해서 반복문을 탈출했습니다\")"
      ],
      "metadata": {
        "id": "V0Wrye0zGTuJ",
        "outputId": "6107d045-b533-4ab6-f783-274766084e4b",
        "colab": {
          "base_uri": "https://localhost:8080/"
        }
      },
      "id": "V0Wrye0zGTuJ",
      "execution_count": 41,
      "outputs": [
        {
          "output_type": "stream",
          "name": "stdout",
          "text": [
            "더할 첫 번째 숫자: 100\n",
            "더할 두 번째 숫자:50\n",
            "100+50 = 150\n",
            "더할 첫 번째 숫자: 50\n",
            "더할 두 번째 숫자:20\n",
            "50+20 = 70\n",
            "더할 첫 번째 숫자: -30\n",
            "더할 두 번째 숫자:-20\n",
            "-30+-20 = -50\n",
            "더할 첫 번째 숫자: 0\n",
            "더할 두 번째 숫자:0\n",
            "0+0 = 0\n",
            "0을 입력해서 반복문을 탈출했습니다\n"
          ]
        }
      ]
    },
    {
      "cell_type": "markdown",
      "source": [
        "###간소화된 조건문 표현식"
      ],
      "metadata": {
        "id": "1O-HnSEuGVOf"
      },
      "id": "1O-HnSEuGVOf"
    },
    {
      "cell_type": "code",
      "source": [
        "score = int(input('점수를 입력하세요: '))\n",
        "if score >= 80:\n",
        "    message = '성공'\n",
        "else:\n",
        "    message = '실패'\n",
        "print(f'{score}일 때 {message}')\n",
        "\n"
      ],
      "metadata": {
        "id": "l6RgJEA0GZDD",
        "outputId": "22e166d7-46f7-4297-9a11-c92818dd60d2",
        "colab": {
          "base_uri": "https://localhost:8080/"
        }
      },
      "id": "l6RgJEA0GZDD",
      "execution_count": 10,
      "outputs": [
        {
          "output_type": "stream",
          "name": "stdout",
          "text": [
            "점수를 입력하세요: 70\n",
            "70일 때 실패\n"
          ]
        }
      ]
    },
    {
      "cell_type": "code",
      "source": [
        "score = int(input('점수를 입력하세요:'))\n",
        "message ='성공' if score >= 80 else '실패'\n",
        "print(f\"{score}점일 때 {'성공' if score>=80 else '실패'}!\")"
      ],
      "metadata": {
        "id": "xV_MVUwQG6ZT",
        "outputId": "8a259696-53fc-499c-efae-7fb154404a83",
        "colab": {
          "base_uri": "https://localhost:8080/"
        }
      },
      "id": "xV_MVUwQG6ZT",
      "execution_count": 12,
      "outputs": [
        {
          "output_type": "stream",
          "name": "stdout",
          "text": [
            "점수를 입력하세요:80\n",
            "80점일 때 성공!\n"
          ]
        }
      ]
    },
    {
      "cell_type": "code",
      "source": [],
      "metadata": {
        "id": "9WAl8lLHJOP_"
      },
      "id": "9WAl8lLHJOP_",
      "execution_count": null,
      "outputs": []
    },
    {
      "cell_type": "markdown",
      "source": [],
      "metadata": {
        "id": "lUMuoE4JGUo2"
      },
      "id": "lUMuoE4JGUo2"
    },
    {
      "cell_type": "code",
      "execution_count": 42,
      "id": "f2fb3ce9",
      "metadata": {
        "id": "f2fb3ce9",
        "outputId": "ac25d984-7ed9-410d-d5bb-bafca17b5f3c",
        "colab": {
          "base_uri": "https://localhost:8080/"
        }
      },
      "outputs": [
        {
          "output_type": "stream",
          "name": "stdout",
          "text": [
            "더할 첫 번째 숫자: 100\n",
            "더할 두 번째 숫자: 50\n",
            "100 + 50 = 150\n",
            "더할 첫 번째 숫자: 20\n",
            "더할 두 번째 숫자: 30\n",
            "20 + 30 = 50\n",
            "더할 첫 번째 숫자: 0\n",
            "0을 입력해서 반복문을 탈출했습니다.\n"
          ]
        }
      ],
      "source": [
        "num1, num2 = 0, 0\n",
        "\n",
        "while True:          #무한반복문\n",
        "    num1 = int(input(\"더할 첫 번째 숫자: \"))\n",
        "    if num1 == 0:\n",
        "        break           #조건문이 항상 있어야 함.\n",
        "\n",
        "    num2 = int(input(\"더할 두 번째 숫자: \"))\n",
        "\n",
        "    print(f'{num1} + {num2} = {num1 + num2}')\n",
        "\n",
        "print(\"0을 입력해서 반복문을 탈출했습니다.\")"
      ]
    },
    {
      "cell_type": "markdown",
      "id": "02a797a4",
      "metadata": {
        "id": "02a797a4"
      },
      "source": [
        "### [실습문제] 도둑잡기 게임 만들기\n",
        "경찰에 쫓기던 범인이 3개의 방 중에 한 곳에 숨어버렸습니다. 범인은 방문을 열 때마다 무작위로 3개의 방 중 하나의 방으로 이동합니다. 3개의 방 중 하나의 방을 선택했을 때 범인이 있다면 100점, 없을 때 -10점을 부여하고 범인을 잡으면 게임을 종료하는 프로그램을 만들어 보세요."
      ]
    },
    {
      "cell_type": "code",
      "execution_count": 44,
      "id": "e08b9dc4",
      "metadata": {
        "id": "e08b9dc4",
        "outputId": "157bb875-37ac-4961-9c67-0a3c16eb9504",
        "colab": {
          "base_uri": "https://localhost:8080/",
          "height": 261
        }
      },
      "outputs": [
        {
          "output_type": "error",
          "ename": "NameError",
          "evalue": "ignored",
          "traceback": [
            "\u001b[0;31m---------------------------------------------------------------------------\u001b[0m",
            "\u001b[0;31mNameError\u001b[0m                                 Traceback (most recent call last)",
            "\u001b[0;32m<ipython-input-44-6c77297a5b16>\u001b[0m in \u001b[0;36m<cell line: 6>\u001b[0;34m()\u001b[0m\n\u001b[1;32m      6\u001b[0m \u001b[0;32mwhile\u001b[0m \u001b[0;32mTrue\u001b[0m \u001b[0;34m:\u001b[0m\u001b[0;34m\u001b[0m\u001b[0;34m\u001b[0m\u001b[0m\n\u001b[1;32m      7\u001b[0m     \u001b[0mroom\u001b[0m \u001b[0;34m=\u001b[0m \u001b[0mrandom\u001b[0m\u001b[0;34m.\u001b[0m\u001b[0mrandint\u001b[0m\u001b[0;34m(\u001b[0m\u001b[0;36m1\u001b[0m\u001b[0;34m,\u001b[0m\u001b[0;36m3\u001b[0m\u001b[0;34m)\u001b[0m\u001b[0;34m\u001b[0m\u001b[0;34m\u001b[0m\u001b[0m\n\u001b[0;32m----> 8\u001b[0;31m     \u001b[0mn\u001b[0m \u001b[0;34m=\u001b[0m \u001b[0mint\u001b[0m\u001b[0;34m(\u001b[0m\u001b[0mintput\u001b[0m\u001b[0;34m(\u001b[0m\u001b[0;34m'도둑이 숨은 방 번호는?(1,2,3): '\u001b[0m\u001b[0;34m)\u001b[0m\u001b[0;34m)\u001b[0m\u001b[0;34m\u001b[0m\u001b[0;34m\u001b[0m\u001b[0m\n\u001b[0m\u001b[1;32m      9\u001b[0m     \u001b[0;31m# 비교\u001b[0m\u001b[0;34m\u001b[0m\u001b[0;34m\u001b[0m\u001b[0m\n\u001b[1;32m     10\u001b[0m     \u001b[0;32mif\u001b[0m \u001b[0mn\u001b[0m \u001b[0;34m==\u001b[0m \u001b[0mroom\u001b[0m \u001b[0;34m:\u001b[0m\u001b[0;34m\u001b[0m\u001b[0;34m\u001b[0m\u001b[0m\n",
            "\u001b[0;31mNameError\u001b[0m: name 'intput' is not defined"
          ]
        }
      ],
      "source": [
        "import random\n",
        "score = 0\n",
        "\n",
        "\n",
        "\n",
        "while True :\n",
        "    room = random.randint(1,3)\n",
        "    n = int(input('도둑이 숨은 방 번호는?(1,2,3): '))\n",
        "    # 비교\n",
        "    if n == room :\n",
        "        print('찾았다! 도둑이 있는 방입니다.')\n",
        "        score = score + 100\n",
        "        break\n",
        "    else:\n",
        "        print('이 방에는 도둑이 없습니다.')\n",
        "        score -= 100\n",
        "print('게임이 종료됩니다.')\n",
        "print(f'도둑이 이쓴 방은 {room}번 방입니다. 점수는 {score}점')\n",
        "\n",
        "\n",
        "\n"
      ]
    },
    {
      "cell_type": "code",
      "source": [
        "import random\n",
        "score = 0\n",
        "while True:\n",
        "    room = random.randint(1, 3) # 1~3정수 중 임의의 수 선택\n",
        "    n = int(input('도둑이 숨은 방 번호는?(1,2,3): '))\n",
        "    # 비교\n",
        "    if n == room :\n",
        "        print('찾았다! 도둑이 있는 방입니다.')\n",
        "        score = score + 100 # socre += 100\n",
        "        break\n",
        "    else:\n",
        "        print('이 방에는 도둑이 없습니다.')\n",
        "        score -= 10\n",
        "print('게임이 종료됩니다.')\n",
        "print(f'도둑이 있는 방은 {room}번 방입니다. 점수는 {score}점!')"
      ],
      "metadata": {
        "id": "Jlckrw64aTdC",
        "outputId": "387b5d93-202b-4163-d83c-598fa3ae40a7",
        "colab": {
          "base_uri": "https://localhost:8080/",
          "height": 415
        }
      },
      "id": "Jlckrw64aTdC",
      "execution_count": 45,
      "outputs": [
        {
          "output_type": "error",
          "ename": "KeyboardInterrupt",
          "evalue": "ignored",
          "traceback": [
            "\u001b[0;31m---------------------------------------------------------------------------\u001b[0m",
            "\u001b[0;31mKeyboardInterrupt\u001b[0m                         Traceback (most recent call last)",
            "\u001b[0;32m<ipython-input-45-54e7e2afff3d>\u001b[0m in \u001b[0;36m<cell line: 3>\u001b[0;34m()\u001b[0m\n\u001b[1;32m      3\u001b[0m \u001b[0;32mwhile\u001b[0m \u001b[0;32mTrue\u001b[0m\u001b[0;34m:\u001b[0m\u001b[0;34m\u001b[0m\u001b[0;34m\u001b[0m\u001b[0m\n\u001b[1;32m      4\u001b[0m     \u001b[0mroom\u001b[0m \u001b[0;34m=\u001b[0m \u001b[0mrandom\u001b[0m\u001b[0;34m.\u001b[0m\u001b[0mrandint\u001b[0m\u001b[0;34m(\u001b[0m\u001b[0;36m1\u001b[0m\u001b[0;34m,\u001b[0m \u001b[0;36m3\u001b[0m\u001b[0;34m)\u001b[0m \u001b[0;31m# 1~3정수 중 임의의 수 선택\u001b[0m\u001b[0;34m\u001b[0m\u001b[0;34m\u001b[0m\u001b[0m\n\u001b[0;32m----> 5\u001b[0;31m     \u001b[0mn\u001b[0m \u001b[0;34m=\u001b[0m \u001b[0mint\u001b[0m\u001b[0;34m(\u001b[0m\u001b[0minput\u001b[0m\u001b[0;34m(\u001b[0m\u001b[0;34m'도둑이 숨은 방 번호는?(1,2,3): '\u001b[0m\u001b[0;34m)\u001b[0m\u001b[0;34m)\u001b[0m\u001b[0;34m\u001b[0m\u001b[0;34m\u001b[0m\u001b[0m\n\u001b[0m\u001b[1;32m      6\u001b[0m     \u001b[0;31m# 비교\u001b[0m\u001b[0;34m\u001b[0m\u001b[0;34m\u001b[0m\u001b[0m\n\u001b[1;32m      7\u001b[0m     \u001b[0;32mif\u001b[0m \u001b[0mn\u001b[0m \u001b[0;34m==\u001b[0m \u001b[0mroom\u001b[0m \u001b[0;34m:\u001b[0m\u001b[0;34m\u001b[0m\u001b[0;34m\u001b[0m\u001b[0m\n",
            "\u001b[0;32m/usr/local/lib/python3.10/dist-packages/ipykernel/kernelbase.py\u001b[0m in \u001b[0;36mraw_input\u001b[0;34m(self, prompt)\u001b[0m\n\u001b[1;32m    849\u001b[0m                 \u001b[0;34m\"raw_input was called, but this frontend does not support input requests.\"\u001b[0m\u001b[0;34m\u001b[0m\u001b[0;34m\u001b[0m\u001b[0m\n\u001b[1;32m    850\u001b[0m             )\n\u001b[0;32m--> 851\u001b[0;31m         return self._input_request(str(prompt),\n\u001b[0m\u001b[1;32m    852\u001b[0m             \u001b[0mself\u001b[0m\u001b[0;34m.\u001b[0m\u001b[0m_parent_ident\u001b[0m\u001b[0;34m,\u001b[0m\u001b[0;34m\u001b[0m\u001b[0;34m\u001b[0m\u001b[0m\n\u001b[1;32m    853\u001b[0m             \u001b[0mself\u001b[0m\u001b[0;34m.\u001b[0m\u001b[0m_parent_header\u001b[0m\u001b[0;34m,\u001b[0m\u001b[0;34m\u001b[0m\u001b[0;34m\u001b[0m\u001b[0m\n",
            "\u001b[0;32m/usr/local/lib/python3.10/dist-packages/ipykernel/kernelbase.py\u001b[0m in \u001b[0;36m_input_request\u001b[0;34m(self, prompt, ident, parent, password)\u001b[0m\n\u001b[1;32m    893\u001b[0m             \u001b[0;32mexcept\u001b[0m \u001b[0mKeyboardInterrupt\u001b[0m\u001b[0;34m:\u001b[0m\u001b[0;34m\u001b[0m\u001b[0;34m\u001b[0m\u001b[0m\n\u001b[1;32m    894\u001b[0m                 \u001b[0;31m# re-raise KeyboardInterrupt, to truncate traceback\u001b[0m\u001b[0;34m\u001b[0m\u001b[0;34m\u001b[0m\u001b[0m\n\u001b[0;32m--> 895\u001b[0;31m                 \u001b[0;32mraise\u001b[0m \u001b[0mKeyboardInterrupt\u001b[0m\u001b[0;34m(\u001b[0m\u001b[0;34m\"Interrupted by user\"\u001b[0m\u001b[0;34m)\u001b[0m \u001b[0;32mfrom\u001b[0m \u001b[0;32mNone\u001b[0m\u001b[0;34m\u001b[0m\u001b[0;34m\u001b[0m\u001b[0m\n\u001b[0m\u001b[1;32m    896\u001b[0m             \u001b[0;32mexcept\u001b[0m \u001b[0mException\u001b[0m \u001b[0;32mas\u001b[0m \u001b[0me\u001b[0m\u001b[0;34m:\u001b[0m\u001b[0;34m\u001b[0m\u001b[0;34m\u001b[0m\u001b[0m\n\u001b[1;32m    897\u001b[0m                 \u001b[0mself\u001b[0m\u001b[0;34m.\u001b[0m\u001b[0mlog\u001b[0m\u001b[0;34m.\u001b[0m\u001b[0mwarning\u001b[0m\u001b[0;34m(\u001b[0m\u001b[0;34m\"Invalid Message:\"\u001b[0m\u001b[0;34m,\u001b[0m \u001b[0mexc_info\u001b[0m\u001b[0;34m=\u001b[0m\u001b[0;32mTrue\u001b[0m\u001b[0;34m)\u001b[0m\u001b[0;34m\u001b[0m\u001b[0;34m\u001b[0m\u001b[0m\n",
            "\u001b[0;31mKeyboardInterrupt\u001b[0m: Interrupted by user"
          ]
        }
      ]
    },
    {
      "cell_type": "markdown",
      "id": "0d03701c",
      "metadata": {
        "id": "0d03701c"
      },
      "source": [
        "### [실습문제] 공이 튕긴 횟수 구하기\n",
        "공을 일정 높이에서 떨어뜨리면, 원래 높이의 1/2만큼 튀어 오릅니다. 이를 반복하다가 높이가 0.00001m보다 낮으면 튀어 오르지 않습니다. while문을 이용하여 공이 튀어 오르는 총 횟수를 구하는 프로그램을 만들어 보세요."
      ]
    },
    {
      "cell_type": "code",
      "execution_count": null,
      "id": "1ac5675e",
      "metadata": {
        "scrolled": true,
        "id": "1ac5675e"
      },
      "outputs": [],
      "source": [
        "\n"
      ]
    },
    {
      "cell_type": "markdown",
      "id": "ecdb476f",
      "metadata": {
        "id": "ecdb476f"
      },
      "source": [
        "### [실습문제] 커피 자동주문 프로그램 업그레이드\n",
        "앞에서 만들어 본 커피 자동주문 머신 프로그램을 while문을 이용하여 돈을 모두 지불할 때까지 돈을 입력 받도록 프로그램 기능 수정하기"
      ]
    },
    {
      "cell_type": "code",
      "execution_count": null,
      "id": "2ce8fbfc",
      "metadata": {
        "scrolled": true,
        "id": "2ce8fbfc"
      },
      "outputs": [],
      "source": [
        "menu = '''[커피 자동주문 머신 메뉴]\n",
        "------------------------------\n",
        "-아메리카노는 2500원\n",
        "-카레라떼는 3000원\n",
        "-카푸치노는 3000원\n",
        "입니다. 원하시는 커피종류와 잔수를 입력하세요.\n",
        "------------------------------'''\n",
        "print(menu)\n",
        "coffee1 = int(input(\"아메리카노 몇잔?\"))\n",
        "coffee2 = int(input(\"카페라떼 몇잔?\"))\n",
        "coffee3 = int(input(\"카푸치노 몇잔?\"))\n",
        "\n",
        "total = coffee1*2500 + coffee2*3000 + coffee3*3000\n",
        "print(\"지불할 총 금액은 \", total, \"원 입니다\")\n",
        "\n",
        "\n",
        "\n",
        "\n"
      ]
    },
    {
      "cell_type": "code",
      "source": [],
      "metadata": {
        "id": "ADdUb-P_bPV8"
      },
      "id": "ADdUb-P_bPV8",
      "execution_count": null,
      "outputs": []
    },
    {
      "cell_type": "code",
      "execution_count": null,
      "metadata": {
        "outputId": "840dbf55-35d2-4f80-e632-1f93ed1e8a3b",
        "colab": {
          "base_uri": "https://localhost:8080/"
        },
        "id": "ML68KkGLbQe2"
      },
      "outputs": [
        {
          "output_type": "stream",
          "name": "stdout",
          "text": [
            "[커피 자동주문 머신 메뉴]\n",
            "------------------------------\n",
            "-아메리카노는 2500원\n",
            "-카레라떼는 3000원\n",
            "-카푸치노는 3000원\n",
            "입니다. 원하시는 커피종류와 잔수를 입력하세요.\n",
            "------------------------------\n",
            "아메리카노 몇잔?1\n",
            "카페라떼 몇잔?1\n",
            "카푸치노 몇잔?1\n",
            "지불할 총 금액은 : 8500원 입니다.\n",
            "--------------------------------------------------\n",
            "[지불할 금액: 8500]:돈을 넣어주세요: 6000\n",
            "입력한 금액이 부족합니다. 2500을 더 넣어주세요\n",
            "--------------------------------------------------\n",
            "커피 맛있게 드세요.\n",
            "--------------------------------------------------\n",
            "[지불할 금액: 8500]:돈을 넣어주세요: 1\n",
            "입력한 금액이 부족합니다. 8499을 더 넣어주세요\n",
            "--------------------------------------------------\n",
            "커피 맛있게 드세요.\n",
            "--------------------------------------------------\n",
            "[지불할 금액: 8500]:돈을 넣어주세요: 2990\n",
            "입력한 금액이 부족합니다. 5510을 더 넣어주세요\n",
            "--------------------------------------------------\n",
            "커피 맛있게 드세요.\n",
            "--------------------------------------------------\n",
            "[지불할 금액: 8500]:돈을 넣어주세요: 500000\n",
            "입력한 금액이 부족합니다. -491500을 더 넣어주세요\n",
            "--------------------------------------------------\n",
            "커피 맛있게 드세요.\n",
            "--------------------------------------------------\n",
            "[지불할 금액: 8500]:돈을 넣어주세요: -400000\n",
            "입력한 금액이 부족합니다. 408500을 더 넣어주세요\n",
            "--------------------------------------------------\n",
            "커피 맛있게 드세요.\n",
            "--------------------------------------------------\n",
            "[지불할 금액: 8500]:돈을 넣어주세요: 408500\n",
            "입력한 금액이 부족합니다. -400000을 더 넣어주세요\n",
            "--------------------------------------------------\n",
            "커피 맛있게 드세요.\n",
            "--------------------------------------------------\n",
            "[지불할 금액: 8500]:돈을 넣어주세요: 8500\n",
            "거스름돈은 0원 입니다.\n",
            "--------------------------------------------------\n",
            "커피 맛있게 드세요.\n",
            "--------------------------------------------------\n"
          ]
        }
      ],
      "source": [
        "menu = '''[커피 자동주문 머신 메뉴]\n",
        "------------------------------\n",
        "-아메리카노는 2500원\n",
        "-카레라떼는 3000원\n",
        "-카푸치노는 3000원\n",
        "입니다. 원하시는 커피종류와 잔수를 입력하세요.\n",
        "------------------------------'''\n",
        "print(menu)\n",
        "coffee1 = int(input(\"아메리카노 몇잔?\"))\n",
        "coffee2 = int(input(\"카페라떼 몇잔?\"))\n",
        "coffee3 = int(input(\"카푸치노 몇잔?\"))\n",
        "\n",
        "total =  2500*coffee1 +3000*coffee2 + 3000*coffee3\n",
        "print(f'지불할 총 금액은 : {total}원 입니다.')\n",
        "\n",
        "while True:\n",
        "    print('-'*50)\n",
        "    money = int(input(f'[지불할 금액: {total}]:돈을 넣어주세요: '))\n",
        "    if total - money :\n",
        "        print(f'입력한 금액이 부족합니다. {total- money}을 더 넣어주세요')\n",
        "    else:\n",
        "        print(f'거스름돈은 {money-total}원 입니다.')\n",
        "        total = total - money\n",
        "    print('-'*50)\n",
        "    print('커피 맛있게 드세요.')\n",
        "\n",
        "\n",
        "\n"
      ],
      "id": "ML68KkGLbQe2"
    },
    {
      "cell_type": "markdown",
      "id": "af0e48ab",
      "metadata": {
        "id": "af0e48ab"
      },
      "source": [
        "## 3-3.난수(Random Variable)"
      ]
    },
    {
      "cell_type": "markdown",
      "id": "e34c55ca",
      "metadata": {
        "id": "e34c55ca"
      },
      "source": [
        "### [실습문제] 임의의 두 수 합 구하기\n",
        "1부터 10까지의 범위를 갖는 임의의 두 정수 a, b를 더하여 결과 출력하기"
      ]
    },
    {
      "cell_type": "code",
      "execution_count": null,
      "id": "3c007936",
      "metadata": {
        "id": "3c007936"
      },
      "outputs": [],
      "source": []
    },
    {
      "cell_type": "markdown",
      "id": "357e1bdd",
      "metadata": {
        "id": "357e1bdd"
      },
      "source": [
        "### [실습문제]\n",
        "주사위를 100번 던져서 나오는 숫자를 각 숫자별로 카운트하고 가장 많이 나온 숫자와 그 숫자의 횟수를 출력하시오."
      ]
    },
    {
      "cell_type": "code",
      "execution_count": null,
      "id": "782da2b4",
      "metadata": {
        "id": "782da2b4"
      },
      "outputs": [],
      "source": []
    },
    {
      "cell_type": "markdown",
      "id": "45e329e4",
      "metadata": {
        "id": "45e329e4"
      },
      "source": [
        "------------------------"
      ]
    },
    {
      "cell_type": "markdown",
      "id": "66025633",
      "metadata": {
        "id": "66025633"
      },
      "source": [
        "끝"
      ]
    },
    {
      "cell_type": "code",
      "source": [],
      "metadata": {
        "id": "v71o5DUHwExP"
      },
      "id": "v71o5DUHwExP",
      "execution_count": null,
      "outputs": []
    }
  ],
  "metadata": {
    "kernelspec": {
      "display_name": "Python 3 (ipykernel)",
      "language": "python",
      "name": "python3"
    },
    "language_info": {
      "codemirror_mode": {
        "name": "ipython",
        "version": 3
      },
      "file_extension": ".py",
      "mimetype": "text/x-python",
      "name": "python",
      "nbconvert_exporter": "python",
      "pygments_lexer": "ipython3",
      "version": "3.10.9"
    },
    "vscode": {
      "interpreter": {
        "hash": "b41e41bff03a930185ac2cbea60ce521f7c8c2f5401ceb5c30214081f77ab4f5"
      }
    },
    "colab": {
      "provenance": [],
      "include_colab_link": true
    }
  },
  "nbformat": 4,
  "nbformat_minor": 5
}
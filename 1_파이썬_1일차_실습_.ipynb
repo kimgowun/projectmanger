{
  "nbformat": 4,
  "nbformat_minor": 0,
  "metadata": {
    "colab": {
      "provenance": [],
      "authorship_tag": "ABX9TyOFfntALO5uBRl6mVqx0iXz",
      "include_colab_link": true
    },
    "kernelspec": {
      "name": "python3",
      "display_name": "Python 3"
    },
    "language_info": {
      "name": "python"
    }
  },
  "cells": [
    {
      "cell_type": "markdown",
      "metadata": {
        "id": "view-in-github",
        "colab_type": "text"
      },
      "source": [
        "<a href=\"https://colab.research.google.com/github/kimgowun/projectmanger/blob/main/1_%ED%8C%8C%EC%9D%B4%EC%8D%AC_1%EC%9D%BC%EC%B0%A8_%EC%8B%A4%EC%8A%B5_.ipynb\" target=\"_parent\"><img src=\"https://colab.research.google.com/assets/colab-badge.svg\" alt=\"Open In Colab\"/></a>"
      ]
    },
    {
      "cell_type": "markdown",
      "source": [
        "#파이썬 기초 프로그래밍 - 1일차 실습\n"
      ],
      "metadata": {
        "id": "-FhYzoPneYP_"
      }
    },
    {
      "cell_type": "markdown",
      "source": [
        "## 1.코랩에서 파이썬 사용하기\n",
        "\n",
        "\n",
        "\n",
        "---\n",
        "\n",
        "#미리보기\n",
        "\n"
      ],
      "metadata": {
        "id": "ab8Vt1yBejUA"
      }
    },
    {
      "cell_type": "markdown",
      "source": [
        "### 1-1.파이선 실습 1일차"
      ],
      "metadata": {
        "id": "dmn4zq5WgJYQ"
      }
    },
    {
      "cell_type": "markdown",
      "source": [
        "#### 시작"
      ],
      "metadata": {
        "id": "zidIu4aSgeln"
      }
    },
    {
      "cell_type": "markdown",
      "source": [
        "**계산기 프로그램 만들기 **\n",
        "\n",
        "\n",
        "*   항목 추가\n",
        "\n",
        "*   항목 추가\n",
        "*   항목 추가\n",
        "\n",
        "\n",
        "*   항목 추가\n",
        "\n"
      ],
      "metadata": {
        "id": "g0eIzC80fJef"
      }
    },
    {
      "cell_type": "code",
      "source": [
        "a = 100\n",
        "b = 50\n",
        "print('덧셈:', a+b)\n",
        "print('뺄셈:', a-b)\n",
        "print('곱셈:', a*b)\n",
        "print('나눗셈:', a/b)\n",
        "\n"
      ],
      "metadata": {
        "colab": {
          "base_uri": "https://localhost:8080/"
        },
        "id": "Yd-JC8z4fbyQ",
        "outputId": "3b5efcc7-4382-4be0-b821-95cbb717c2a4"
      },
      "execution_count": null,
      "outputs": [
        {
          "output_type": "stream",
          "name": "stdout",
          "text": [
            "덧셈: 150\n",
            "뺄셈: 50\n",
            "곱셈: 5000\n",
            "나눗셈: 2.0\n"
          ]
        }
      ]
    },
    {
      "cell_type": "markdown",
      "source": [],
      "metadata": {
        "id": "bUvQoZtRgRlI"
      }
    },
    {
      "cell_type": "code",
      "execution_count": null,
      "metadata": {
        "colab": {
          "base_uri": "https://localhost:8080/",
          "height": 35
        },
        "id": "YDMKii-ldhPJ",
        "outputId": "7369b701-2ea8-4df5-873c-fe2a0d15fc79"
      },
      "outputs": [
        {
          "output_type": "execute_result",
          "data": {
            "text/plain": [
              "'3.10.12 (main, Jun 11 2023, 05:26:28) [GCC 11.4.0]'"
            ],
            "application/vnd.google.colaboratory.intrinsic+json": {
              "type": "string"
            }
          },
          "metadata": {},
          "execution_count": 1
        }
      ],
      "source": [
        "import sys\n",
        "sys. version\n"
      ]
    }
  ]
}
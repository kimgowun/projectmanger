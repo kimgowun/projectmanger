{
 "cells": [
  {
   "cell_type": "markdown",
   "id": "5b39199b",
   "metadata": {},
   "source": [
    "# 파이썬 기초 다지기"
   ]
  },
  {
   "cell_type": "markdown",
   "id": "3f3da3bd",
   "metadata": {},
   "source": [
    "## 1 - 파이썬 입문하기\n",
    "파이썬 소개 및 파이썬 학습환경 만들기"
   ]
  },
  {
   "cell_type": "markdown",
   "id": "0c52a67e",
   "metadata": {},
   "source": [
    "----------------------------------"
   ]
  },
  {
   "cell_type": "markdown",
   "id": "b11c5643",
   "metadata": {},
   "source": [
    "## 1-1.파이썬 소개하기"
   ]
  },
  {
   "cell_type": "markdown",
   "id": "f865521f",
   "metadata": {},
   "source": [
    "### #파이썬 언어의 분류\n",
    "#### 1. 실행 주체에 따른 분류\n",
    "파이썬은 **고급 언어**이다.\n",
    "\n",
    "#### 2. 실행에 따른 분류\n",
    "파이썬은 **인터프리터 언어**이다."
   ]
  },
  {
   "cell_type": "markdown",
   "id": "0060337e",
   "metadata": {},
   "source": [
    "---------------------------"
   ]
  },
  {
   "cell_type": "markdown",
   "id": "f1d6a768",
   "metadata": {},
   "source": [
    "## 1-2.파이썬 설치하기"
   ]
  },
  {
   "cell_type": "markdown",
   "id": "b7d367b2",
   "metadata": {},
   "source": [
    "### #파이썬 설치 위치"
   ]
  },
  {
   "cell_type": "code",
   "execution_count": null,
   "id": "fe832924",
   "metadata": {},
   "outputs": [],
   "source": [
    "import sys\n",
    "\n",
    "print(sys.executable) # 파이썬 실행파일 위치\n",
    "\n",
    "print(sys.version)    # 파이썬 버전 출력하기"
   ]
  },
  {
   "cell_type": "markdown",
   "id": "d4eed572",
   "metadata": {},
   "source": [
    "### #학습 코드 위치(현재 위치)"
   ]
  },
  {
   "cell_type": "code",
   "execution_count": null,
   "id": "6abdcb34",
   "metadata": {},
   "outputs": [],
   "source": [
    "import os\n",
    "\n",
    "print( os.getcwd() ) #현재 폴더 경로"
   ]
  },
  {
   "cell_type": "markdown",
   "id": "7dababe2",
   "metadata": {},
   "source": [
    "-------------------------"
   ]
  },
  {
   "cell_type": "markdown",
   "id": "48f63310",
   "metadata": {},
   "source": [
    "## 1-3.코랩 사용하기"
   ]
  },
  {
   "cell_type": "markdown",
   "id": "deba4e7b",
   "metadata": {},
   "source": [
    "### #코랩 사용방법"
   ]
  },
  {
   "cell_type": "markdown",
   "id": "b8255481",
   "metadata": {},
   "source": [
    "#### 1.제목(Heading) 작성하는 방법"
   ]
  },
  {
   "cell_type": "markdown",
   "id": "26c7d401",
   "metadata": {},
   "source": [
    "# 제목 - 첫 번째 큰 글씨\n",
    "## 제목 - 두 번째 큰 글씨\n",
    "### 제목 - 세 번째 큰 글씨\n",
    "#### 제목 - 네 번째 큰 글씨\n",
    "##### 제목 - 다섯 번째 큰 글씨\n",
    "설명 작성하기"
   ]
  },
  {
   "cell_type": "markdown",
   "id": "98216abf",
   "metadata": {},
   "source": [
    "#### 2. 코드 작성하고 실행하기"
   ]
  },
  {
   "cell_type": "code",
   "execution_count": null,
   "id": "f51bbe87",
   "metadata": {},
   "outputs": [],
   "source": [
    "300 + 400"
   ]
  },
  {
   "cell_type": "code",
   "execution_count": null,
   "id": "4b147d79",
   "metadata": {},
   "outputs": [],
   "source": [
    "300 + 400   # 화면에 결과가 출력되지 않습니다.\n",
    "500 + 400   # 주피터 노트북의 맨 마지막 행은 print()함수가 없어도 출력이 된다."
   ]
  },
  {
   "cell_type": "markdown",
   "id": "f4e4e060",
   "metadata": {},
   "source": [
    "-------------------------"
   ]
  },
  {
   "cell_type": "markdown",
   "id": "f1429775",
   "metadata": {},
   "source": [
    "## 1-4.파이썬 맛보기"
   ]
  },
  {
   "cell_type": "markdown",
   "id": "5a3a6b07",
   "metadata": {},
   "source": [
    "### #화면에 출력하는 함수 : print( )"
   ]
  },
  {
   "cell_type": "code",
   "execution_count": null,
   "id": "6cb8ede1",
   "metadata": {},
   "outputs": [],
   "source": []
  },
  {
   "cell_type": "markdown",
   "id": "ad173c5e",
   "metadata": {},
   "source": [
    "### #숫자 계산하기"
   ]
  },
  {
   "cell_type": "code",
   "execution_count": null,
   "id": "2cf3ca23",
   "metadata": {},
   "outputs": [],
   "source": []
  },
  {
   "cell_type": "code",
   "execution_count": null,
   "id": "fc292336",
   "metadata": {},
   "outputs": [],
   "source": [
    "# 변수를 이용한 계산\n"
   ]
  },
  {
   "cell_type": "code",
   "execution_count": null,
   "id": "acfc0e9b",
   "metadata": {},
   "outputs": [],
   "source": [
    "# math 라이브러리를 이용한 수학\n",
    "import math\n",
    "\n",
    "print(    )   # 파이\n",
    "print(    )   # 최대공약수(greatest common divisor)\n",
    "print(    )   # 최소공배수(least common multiple)\n",
    "print(    )   # 팩토리얼 5x4x3x2x1"
   ]
  },
  {
   "cell_type": "markdown",
   "id": "a4c37be4",
   "metadata": {},
   "source": [
    "### #문자열 출력하기\n",
    "문자열은 **작은따옴표('')** 또는 **큰따옴표(\"\")** 둘 중에 아무거나 사용 가능합니다."
   ]
  },
  {
   "cell_type": "code",
   "execution_count": null,
   "id": "2b581266",
   "metadata": {},
   "outputs": [],
   "source": [
    "#자신의 학교/학년/반/이름 출력하기\n",
    "print(\"나는 OO중학교/O학년/O반/OOO 학생입니다.\")\n"
   ]
  },
  {
   "cell_type": "markdown",
   "id": "687fa042",
   "metadata": {},
   "source": [
    "##### 문자열에 '*' 곱하기 기호를 사용하면 문자열을 반복한다"
   ]
  },
  {
   "cell_type": "code",
   "execution_count": null,
   "id": "7c1df6c8",
   "metadata": {
    "scrolled": false
   },
   "outputs": [],
   "source": [
    "# 문자열 반복하기\n"
   ]
  },
  {
   "cell_type": "markdown",
   "id": "11668415",
   "metadata": {},
   "source": [
    "### #주석표시\n",
    "**주석** : 코드에서 실행되지는 않지만 사람이 이해할 수 있도록 설명하는 문장\n",
    "- **#** 문장 앞에 이 기호를 사용\n",
    "- **작은따옴표(''' ''')** 또는 **큰따옴표(\"\"\" \"\"\")** 를 세개 사용하는 경우는 주석표시로 사용된다."
   ]
  },
  {
   "cell_type": "code",
   "execution_count": null,
   "id": "d0b4d454",
   "metadata": {},
   "outputs": [],
   "source": []
  },
  {
   "cell_type": "markdown",
   "id": "c9d7d654",
   "metadata": {},
   "source": [
    "----------------------------"
   ]
  },
  {
   "cell_type": "markdown",
   "id": "96f14fe3",
   "metadata": {},
   "source": [
    "## [미션] :  코랩에서 파이썬 정보 확인하기"
   ]
  },
  {
   "cell_type": "markdown",
   "id": "9781cc96",
   "metadata": {},
   "source": [
    "### #우리가 사용하는 파이썬 버전 확인하기"
   ]
  },
  {
   "cell_type": "code",
   "execution_count": null,
   "id": "ebdbd150",
   "metadata": {},
   "outputs": [],
   "source": []
  },
  {
   "cell_type": "markdown",
   "id": "368431c0",
   "metadata": {},
   "source": [
    "### #파이썬 실행파일 위치 확인하기"
   ]
  },
  {
   "cell_type": "code",
   "execution_count": null,
   "id": "60158dc2",
   "metadata": {},
   "outputs": [],
   "source": []
  },
  {
   "cell_type": "markdown",
   "id": "a446c706",
   "metadata": {},
   "source": [
    "------------------------------------------"
   ]
  },
  {
   "cell_type": "markdown",
   "id": "416d36fc",
   "metadata": {},
   "source": [
    "끝"
   ]
  }
 ],
 "metadata": {
  "kernelspec": {
   "display_name": "Python 3 (ipykernel)",
   "language": "python",
   "name": "python3"
  },
  "language_info": {
   "codemirror_mode": {
    "name": "ipython",
    "version": 3
   },
   "file_extension": ".py",
   "mimetype": "text/x-python",
   "name": "python",
   "nbconvert_exporter": "python",
   "pygments_lexer": "ipython3",
   "version": "3.10.9"
  },
  "vscode": {
   "interpreter": {
    "hash": "b41e41bff03a930185ac2cbea60ce521f7c8c2f5401ceb5c30214081f77ab4f5"
   }
  }
 },
 "nbformat": 4,
 "nbformat_minor": 5
}

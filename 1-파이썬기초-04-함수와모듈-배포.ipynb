{
 "cells": [
  {
   "cell_type": "markdown",
   "id": "25f81d8c",
   "metadata": {},
   "source": [
    "# 파이썬 기초 다지기"
   ]
  },
  {
   "cell_type": "markdown",
   "id": "3f3da3bd",
   "metadata": {},
   "source": [
    "## 4- 함수와 모듈\n",
    "데이터 추상화하고 구조화하기"
   ]
  },
  {
   "cell_type": "code",
   "execution_count": null,
   "id": "b2055fa4",
   "metadata": {},
   "outputs": [],
   "source": [
    "import random   # random.py (모듈) \n",
    "\n",
    "room = random.randint(1, 3)  # 1,2,3중에 임의의 수\n"
   ]
  },
  {
   "cell_type": "markdown",
   "id": "0c52a67e",
   "metadata": {},
   "source": [
    "----------------------------------"
   ]
  },
  {
   "cell_type": "markdown",
   "id": "aee8f2e8",
   "metadata": {},
   "source": [
    "## 4-1.함수 < 모듈 < 패키기"
   ]
  },
  {
   "cell_type": "markdown",
   "id": "e89f3546",
   "metadata": {},
   "source": [
    "### 함수 정의하기"
   ]
  },
  {
   "cell_type": "code",
   "execution_count": null,
   "id": "4f161d86",
   "metadata": {},
   "outputs": [],
   "source": [
    "\n"
   ]
  },
  {
   "cell_type": "markdown",
   "id": "cb89ea65",
   "metadata": {},
   "source": [
    "### 함수의 구조\n",
    "매개변수와 리턴값에 따른 함수의 유형 예"
   ]
  },
  {
   "cell_type": "markdown",
   "id": "8acceb64",
   "metadata": {},
   "source": [
    "- 매개변수(X), 리턴값(X)"
   ]
  },
  {
   "cell_type": "code",
   "execution_count": null,
   "id": "57a55c92",
   "metadata": {},
   "outputs": [],
   "source": [
    "def func():\n",
    "    print('안녕하세요!')\n",
    "    \n",
    "print( func() )"
   ]
  },
  {
   "cell_type": "markdown",
   "id": "aba4c5e6",
   "metadata": {},
   "source": [
    "- 매개변수(X), 리턴값(O)"
   ]
  },
  {
   "cell_type": "code",
   "execution_count": null,
   "id": "aa699b58",
   "metadata": {},
   "outputs": [],
   "source": [
    "def func():\n",
    "    print('안녕하세요!')\n",
    "    return '처리완료!'\n",
    "    \n",
    "print( func() )"
   ]
  },
  {
   "cell_type": "markdown",
   "id": "21f24a11",
   "metadata": {},
   "source": [
    "- 매개변수(O), 리턴값(X)"
   ]
  },
  {
   "cell_type": "code",
   "execution_count": null,
   "id": "f1c1db85",
   "metadata": {},
   "outputs": [],
   "source": [
    "def func(a, b):\n",
    "    print('덧셈: %d + %d = %d' % (a, b, a+b))\n",
    "    \n",
    "print( func(5, 7) )"
   ]
  },
  {
   "cell_type": "markdown",
   "id": "c80d6c02",
   "metadata": {},
   "source": [
    "- 매개변수(O), 리턴값(O)"
   ]
  },
  {
   "cell_type": "code",
   "execution_count": null,
   "id": "d6d46e65",
   "metadata": {},
   "outputs": [],
   "source": [
    "def func(a, b):\n",
    "    print('덧셈: %d + %d = %d' % (a, b, a+b))\n",
    "    return a+b\n",
    "    \n",
    "print( func(5, 7) )"
   ]
  },
  {
   "cell_type": "markdown",
   "id": "fbe6e1c6",
   "metadata": {},
   "source": [
    "### [실습문제] 암스트롱수 구하기\n",
    "다음 조건을 참고하여 암스트롱수를 구하는 함수를 만들어 출력하는 프로그램을 만들어 보세요.\n",
    "- **암스트롱수** : 세 자리의 정수 중에서 각 자리의 수를 세 제곱한 수의 합과 자신이 같은 수 "
   ]
  },
  {
   "cell_type": "code",
   "execution_count": null,
   "id": "3c387d60",
   "metadata": {},
   "outputs": [],
   "source": [
    "def is_arm(N):  # 암스트롱 수 찾는 함수\n",
    "    n = str(N)    # 정수를 문자열로 변환\n",
    "    a = int(n[0]) # 100의 자리수\n",
    "    b = int(n[1]) # 10의 자리수\n",
    "    c = int(n[2]) # 1의 자리수\n",
    "    if N == (a**3 + b**3 + c**3):  # 암스트롱수의 조건\n",
    "        return True\n",
    "    else:\n",
    "        return False\n",
    "\n",
    "for i in range(100, 1000):\n",
    "    if is_arm(i):\n",
    "        print(f'[{i}] is armstrong number!')\n"
   ]
  },
  {
   "cell_type": "markdown",
   "id": "a78bd48d",
   "metadata": {},
   "source": [
    "### [실습문제]\n",
    "앞에서 만든 커피 자동주문 머신 프로그램을 함수를 이용하여 만들어 보세요."
   ]
  },
  {
   "cell_type": "code",
   "execution_count": null,
   "id": "ea29d25d",
   "metadata": {},
   "outputs": [],
   "source": [
    "menu = '''[커피 자동주문 머신 메뉴]\n",
    "------------------------------\n",
    "-아메리카노는 2500원\n",
    "-카레라떼는 3000원\n",
    "-카푸치노는 3000원\n",
    "입니다. 원하시는 커피종류와 잔수를 입력하세요.\n",
    "------------------------------'''\n",
    "print(menu)\n",
    "coffee1 = int(input(\"아메리카노 몇잔?: \"))\n",
    "coffee2 = int(input(\"카페라떼 몇잔?: \"))\n",
    "coffee3 = int(input(\"카푸치노 몇잔?: \"))\n",
    "\n"
   ]
  },
  {
   "cell_type": "markdown",
   "id": "45e329e4",
   "metadata": {},
   "source": [
    "------------------------"
   ]
  },
  {
   "cell_type": "markdown",
   "id": "66025633",
   "metadata": {},
   "source": [
    "끝"
   ]
  }
 ],
 "metadata": {
  "kernelspec": {
   "display_name": "Python 3 (ipykernel)",
   "language": "python",
   "name": "python3"
  },
  "language_info": {
   "codemirror_mode": {
    "name": "ipython",
    "version": 3
   },
   "file_extension": ".py",
   "mimetype": "text/x-python",
   "name": "python",
   "nbconvert_exporter": "python",
   "pygments_lexer": "ipython3",
   "version": "3.10.9"
  },
  "vscode": {
   "interpreter": {
    "hash": "b41e41bff03a930185ac2cbea60ce521f7c8c2f5401ceb5c30214081f77ab4f5"
   }
  }
 },
 "nbformat": 4,
 "nbformat_minor": 5
}

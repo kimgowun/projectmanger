{
  "cells": [
    {
      "cell_type": "markdown",
      "metadata": {
        "id": "view-in-github",
        "colab_type": "text"
      },
      "source": [
        "<a href=\"https://colab.research.google.com/github/kimgowun/projectmanger/blob/main/1_%ED%8C%8C%EC%9D%B4%EC%8D%AC%EA%B8%B0%EC%B4%88_03_%EC%A1%B0%EA%B1%B4%EB%AC%B8%EB%B0%98%EB%B3%B5%EB%AC%B8_%EC%8B%A4%EC%8A%B5.ipynb\" target=\"_parent\"><img src=\"https://colab.research.google.com/assets/colab-badge.svg\" alt=\"Open In Colab\"/></a>"
      ]
    },
    {
      "cell_type": "markdown",
      "id": "25f81d8c",
      "metadata": {
        "id": "25f81d8c"
      },
      "source": [
        "# 파이썬 기초 다지기"
      ]
    },
    {
      "cell_type": "markdown",
      "id": "3f3da3bd",
      "metadata": {
        "id": "3f3da3bd"
      },
      "source": [
        "## 3- 조건문과 반복문\n",
        "데이터와 처리의 흐름을 제어하는 조건문과 반목문\n",
        "제어구문이라고도 함.\n",
        "순차문, 조건문, 반복문 (3개의 제어 구문을 갖고 있음)\n",
        "1. 기본 _순차문\n",
        "2. floar 차트 -"
      ]
    },
    {
      "cell_type": "markdown",
      "id": "0c52a67e",
      "metadata": {
        "id": "0c52a67e"
      },
      "source": [
        "----------------------------------"
      ]
    },
    {
      "cell_type": "markdown",
      "id": "aee8f2e8",
      "metadata": {
        "id": "aee8f2e8"
      },
      "source": [
        "## 3-1.if 조건문"
      ]
    },
    {
      "cell_type": "markdown",
      "id": "e89f3546",
      "metadata": {
        "id": "e89f3546"
      },
      "source": [
        "### 조건문: if"
      ]
    },
    {
      "cell_type": "code",
      "execution_count": null,
      "id": "4f161d86",
      "metadata": {
        "colab": {
          "base_uri": "https://localhost:8080/"
        },
        "id": "4f161d86",
        "outputId": "c884f3fd-0c69-4eea-b482-ff48b98f3bac"
      },
      "outputs": [
        {
          "output_type": "stream",
          "name": "stdout",
          "text": [
            "숫자를 입력하세요: 3\n",
            "3는 100보다 작군요!\n"
          ]
        }
      ],
      "source": [
        "a = int(input('숫자를 입력하세요: '))\n",
        "if a > 100:\n",
        "    print(f'{a}는 100보다 크군요!')\n",
        "if a < 100:\n",
        "    print(f'{a}는 100보다 작군요!')"
      ]
    },
    {
      "cell_type": "markdown",
      "id": "cb89ea65",
      "metadata": {
        "id": "cb89ea65"
      },
      "source": [
        "### 조건문: if ~ else"
      ]
    },
    {
      "cell_type": "code",
      "execution_count": null,
      "id": "6eca2413",
      "metadata": {
        "colab": {
          "base_uri": "https://localhost:8080/",
          "height": 148
        },
        "id": "6eca2413",
        "outputId": "c1700d9d-d0dd-440e-d75d-e8ef7b130cf6"
      },
      "outputs": [
        {
          "output_type": "error",
          "ename": "SyntaxError",
          "evalue": "ignored",
          "traceback": [
            "\u001b[0;36m  File \u001b[0;32m\"<ipython-input-8-ba5c3ec272db>\"\u001b[0;36m, line \u001b[0;32m4\u001b[0m\n\u001b[0;31m    else:\u001b[0m\n\u001b[0m    ^\u001b[0m\n\u001b[0;31mSyntaxError\u001b[0m\u001b[0;31m:\u001b[0m invalid syntax\n"
          ]
        }
      ],
      "source": [
        "a = int(input('숫자를 입력하세요: '))\n",
        "if a > 100:\n",
        "    print(f'{a}는 100보다 크군요!')\n",
        "    else:\n",
        "    print(f'{a}는 100보다 크지 않거나 군요!')\n",
        "    if a > 200:\n",
        "        print(f'{a}는 200보다 크군요!')\n",
        "    else:\n",
        "    print(f'{a}는 100보다 크지 않거나 같군요!')\n",
        "\n",
        "    else:\n",
        "    if a== 100:\n",
        "        print(f'{a}는 100과 같군요!')\n",
        "    else:\n",
        "        print(f'{a}는 100보다 작군요!')\n"
      ]
    },
    {
      "cell_type": "code",
      "source": [
        "a = int(input('숫자를 입력하세요: '))\n",
        "if a > 100:\n",
        "    print(f'{a}는 100보다 크군요!')\n",
        "    if a > 200:\n",
        "        print(f'{a}는 200보다 크군요!')\n",
        "    else:\n",
        "        print(f'{a}는 200보다 같거나 크지 않군요!')\n",
        "else:\n",
        "    if a == 100:\n",
        "        print(f'{a}는 100과 같군요!')\n",
        "    else:\n",
        "        print(f'{a}는 100보다 작군요!')"
      ],
      "metadata": {
        "colab": {
          "base_uri": "https://localhost:8080/",
          "height": 434
        },
        "id": "5GR623_Tit-1",
        "outputId": "2f0da884-c61e-4320-f642-b9c17d16090a"
      },
      "id": "5GR623_Tit-1",
      "execution_count": null,
      "outputs": [
        {
          "output_type": "error",
          "ename": "KeyboardInterrupt",
          "evalue": "ignored",
          "traceback": [
            "\u001b[0;31m---------------------------------------------------------------------------\u001b[0m",
            "\u001b[0;31mKeyboardInterrupt\u001b[0m                         Traceback (most recent call last)",
            "\u001b[0;32m<ipython-input-9-2462847c9c6a>\u001b[0m in \u001b[0;36m<cell line: 1>\u001b[0;34m()\u001b[0m\n\u001b[0;32m----> 1\u001b[0;31m \u001b[0ma\u001b[0m \u001b[0;34m=\u001b[0m \u001b[0mint\u001b[0m\u001b[0;34m(\u001b[0m\u001b[0minput\u001b[0m\u001b[0;34m(\u001b[0m\u001b[0;34m'숫자를 입력하세요: '\u001b[0m\u001b[0;34m)\u001b[0m\u001b[0;34m)\u001b[0m\u001b[0;34m\u001b[0m\u001b[0;34m\u001b[0m\u001b[0m\n\u001b[0m\u001b[1;32m      2\u001b[0m \u001b[0;32mif\u001b[0m \u001b[0ma\u001b[0m \u001b[0;34m>\u001b[0m \u001b[0;36m100\u001b[0m\u001b[0;34m:\u001b[0m\u001b[0;34m\u001b[0m\u001b[0;34m\u001b[0m\u001b[0m\n\u001b[1;32m      3\u001b[0m     \u001b[0mprint\u001b[0m\u001b[0;34m(\u001b[0m\u001b[0;34mf'{a}는 100보다 크군요!'\u001b[0m\u001b[0;34m)\u001b[0m\u001b[0;34m\u001b[0m\u001b[0;34m\u001b[0m\u001b[0m\n\u001b[1;32m      4\u001b[0m     \u001b[0;32mif\u001b[0m \u001b[0ma\u001b[0m \u001b[0;34m>\u001b[0m \u001b[0;36m200\u001b[0m\u001b[0;34m:\u001b[0m\u001b[0;34m\u001b[0m\u001b[0;34m\u001b[0m\u001b[0m\n\u001b[1;32m      5\u001b[0m         \u001b[0mprint\u001b[0m\u001b[0;34m(\u001b[0m\u001b[0;34mf'{a}는 200보다 크군요!'\u001b[0m\u001b[0;34m)\u001b[0m\u001b[0;34m\u001b[0m\u001b[0;34m\u001b[0m\u001b[0m\n",
            "\u001b[0;32m/usr/local/lib/python3.10/dist-packages/ipykernel/kernelbase.py\u001b[0m in \u001b[0;36mraw_input\u001b[0;34m(self, prompt)\u001b[0m\n\u001b[1;32m    849\u001b[0m                 \u001b[0;34m\"raw_input was called, but this frontend does not support input requests.\"\u001b[0m\u001b[0;34m\u001b[0m\u001b[0;34m\u001b[0m\u001b[0m\n\u001b[1;32m    850\u001b[0m             )\n\u001b[0;32m--> 851\u001b[0;31m         return self._input_request(str(prompt),\n\u001b[0m\u001b[1;32m    852\u001b[0m             \u001b[0mself\u001b[0m\u001b[0;34m.\u001b[0m\u001b[0m_parent_ident\u001b[0m\u001b[0;34m,\u001b[0m\u001b[0;34m\u001b[0m\u001b[0;34m\u001b[0m\u001b[0m\n\u001b[1;32m    853\u001b[0m             \u001b[0mself\u001b[0m\u001b[0;34m.\u001b[0m\u001b[0m_parent_header\u001b[0m\u001b[0;34m,\u001b[0m\u001b[0;34m\u001b[0m\u001b[0;34m\u001b[0m\u001b[0m\n",
            "\u001b[0;32m/usr/local/lib/python3.10/dist-packages/ipykernel/kernelbase.py\u001b[0m in \u001b[0;36m_input_request\u001b[0;34m(self, prompt, ident, parent, password)\u001b[0m\n\u001b[1;32m    893\u001b[0m             \u001b[0;32mexcept\u001b[0m \u001b[0mKeyboardInterrupt\u001b[0m\u001b[0;34m:\u001b[0m\u001b[0;34m\u001b[0m\u001b[0;34m\u001b[0m\u001b[0m\n\u001b[1;32m    894\u001b[0m                 \u001b[0;31m# re-raise KeyboardInterrupt, to truncate traceback\u001b[0m\u001b[0;34m\u001b[0m\u001b[0;34m\u001b[0m\u001b[0m\n\u001b[0;32m--> 895\u001b[0;31m                 \u001b[0;32mraise\u001b[0m \u001b[0mKeyboardInterrupt\u001b[0m\u001b[0;34m(\u001b[0m\u001b[0;34m\"Interrupted by user\"\u001b[0m\u001b[0;34m)\u001b[0m \u001b[0;32mfrom\u001b[0m \u001b[0;32mNone\u001b[0m\u001b[0;34m\u001b[0m\u001b[0;34m\u001b[0m\u001b[0m\n\u001b[0m\u001b[1;32m    896\u001b[0m             \u001b[0;32mexcept\u001b[0m \u001b[0mException\u001b[0m \u001b[0;32mas\u001b[0m \u001b[0me\u001b[0m\u001b[0;34m:\u001b[0m\u001b[0;34m\u001b[0m\u001b[0;34m\u001b[0m\u001b[0m\n\u001b[1;32m    897\u001b[0m                 \u001b[0mself\u001b[0m\u001b[0;34m.\u001b[0m\u001b[0mlog\u001b[0m\u001b[0;34m.\u001b[0m\u001b[0mwarning\u001b[0m\u001b[0;34m(\u001b[0m\u001b[0;34m\"Invalid Message:\"\u001b[0m\u001b[0;34m,\u001b[0m \u001b[0mexc_info\u001b[0m\u001b[0;34m=\u001b[0m\u001b[0;32mTrue\u001b[0m\u001b[0;34m)\u001b[0m\u001b[0;34m\u001b[0m\u001b[0;34m\u001b[0m\u001b[0m\n",
            "\u001b[0;31mKeyboardInterrupt\u001b[0m: Interrupted by user"
          ]
        }
      ]
    },
    {
      "cell_type": "code",
      "source": [
        "a = int(input('숫자를 입력하세요: '))\n",
        "if a > 100:\n",
        "    print(f'{a}는 100보다 크군요!')\n",
        "else:\n",
        "    print(f'{a}는 100보다 크지 않거나 같군요!')"
      ],
      "metadata": {
        "id": "JxhakZsIi2vT"
      },
      "id": "JxhakZsIi2vT",
      "execution_count": null,
      "outputs": []
    },
    {
      "cell_type": "markdown",
      "source": [
        "##조건문 if ~elif ~ else"
      ],
      "metadata": {
        "id": "8DRaEP25jByZ"
      },
      "id": "8DRaEP25jByZ"
    },
    {
      "cell_type": "code",
      "source": [
        "a = int(input('숫자를 입력하세요: '))\n",
        "if a > 100:\n",
        "    print(f'{a}는 100보다 크군요!')\n",
        "elif a > 100:\n",
        "        print(f'{a}는 100보다 크고 200보다 작거나 같군요!')\n",
        "elif a == 100:\n",
        "        print(f'{a}는 100과 같군요!')\n",
        "else:\n",
        "    print(f'{a}는 100보다 작군요!')"
      ],
      "metadata": {
        "id": "FZTGEdtyjMU4"
      },
      "id": "FZTGEdtyjMU4",
      "execution_count": null,
      "outputs": []
    },
    {
      "cell_type": "code",
      "source": [
        "a = int(input('숫자를 입력하세요: '))\n",
        "if a > 100:\n",
        "    print(f'{a}는 100보다 크군요!')"
      ],
      "metadata": {
        "id": "LkOBIG6Si59N"
      },
      "id": "LkOBIG6Si59N",
      "execution_count": null,
      "outputs": []
    },
    {
      "cell_type": "code",
      "source": [],
      "metadata": {
        "id": "tu2cGjNElttD"
      },
      "id": "tu2cGjNElttD",
      "execution_count": null,
      "outputs": []
    },
    {
      "cell_type": "code",
      "source": [
        "x=int(input('숫자를 입력하세요'))\n",
        "if x%2==0:\n",
        "    print('짝수')\n",
        "    print(f'입력된수 : {x} ==> 짝수')\n",
        "else:\n",
        "    print('홀수')\n",
        "    print(f'입력된수 : {x} ==> 홀수')"
      ],
      "metadata": {
        "colab": {
          "base_uri": "https://localhost:8080/"
        },
        "id": "r6YMXW5KlAXj",
        "outputId": "7ca1043b-7e3a-455f-9734-bdcf4db4a618"
      },
      "id": "r6YMXW5KlAXj",
      "execution_count": null,
      "outputs": [
        {
          "output_type": "stream",
          "name": "stdout",
          "text": [
            "숫자를 입력하세요5\n",
            "홀수\n"
          ]
        }
      ]
    },
    {
      "cell_type": "code",
      "source": [
        "a = [1,2,3,4,5]\n",
        "x = 7\n",
        "if 4 in a:\n",
        "    print(f'{x}는 {a} f리스트에 포함되어 있습니다.')\n",
        "else:\n",
        "    print(f'4는 {a} 리스트에 포함되어 있지 않습니다')"
      ],
      "metadata": {
        "colab": {
          "base_uri": "https://localhost:8080/"
        },
        "id": "_Wm_viHxmHaA",
        "outputId": "7d5a86e0-3ff8-4dbf-a3fa-9c03a988463a"
      },
      "id": "_Wm_viHxmHaA",
      "execution_count": null,
      "outputs": [
        {
          "output_type": "stream",
          "name": "stdout",
          "text": [
            "7는 [1, 2, 3, 4, 5] f리스트에 포함되어 있습니다.\n"
          ]
        }
      ]
    },
    {
      "cell_type": "markdown",
      "id": "13b404bd",
      "metadata": {
        "id": "13b404bd"
      },
      "source": [
        "### 조건문 : 중첩if"
      ]
    },
    {
      "cell_type": "code",
      "execution_count": null,
      "id": "9575f530",
      "metadata": {
        "id": "9575f530"
      },
      "outputs": [],
      "source": [
        "\n"
      ]
    },
    {
      "cell_type": "markdown",
      "id": "349dec8b",
      "metadata": {
        "id": "349dec8b"
      },
      "source": [
        "### [실습문제] 짝수/홀수 판별하기"
      ]
    },
    {
      "cell_type": "code",
      "execution_count": null,
      "id": "de48c13d",
      "metadata": {
        "id": "de48c13d"
      },
      "outputs": [],
      "source": [
        "\n",
        "\n",
        "\n"
      ]
    },
    {
      "cell_type": "markdown",
      "id": "30919e6b",
      "metadata": {
        "id": "30919e6b"
      },
      "source": [
        "### [실습문제]\n",
        "피타고라스 정리에 의해 직각삼각형의 세 변의 길이에 대한 관계는 아래와 같습니다. 이 정리를 이용하여 세 변의 길이를 입력 받은 삼각형이 직각삼각형인지 아닌지 판별하는 프로그램을 만들어 보세요.\n"
      ]
    },
    {
      "cell_type": "code",
      "execution_count": null,
      "id": "f6e6ca29",
      "metadata": {
        "scrolled": false,
        "colab": {
          "base_uri": "https://localhost:8080/",
          "height": 148
        },
        "id": "f6e6ca29",
        "outputId": "bee0839b-d1c5-462c-a795-55e0f336f336"
      },
      "outputs": [
        {
          "output_type": "error",
          "ename": "IndentationError",
          "evalue": "ignored",
          "traceback": [
            "\u001b[0;36m  File \u001b[0;32m\"<ipython-input-19-0d4d53c5e20f>\"\u001b[0;36m, line \u001b[0;32m11\u001b[0m\n\u001b[0;31m    if a **2+b**2==c**2:\u001b[0m\n\u001b[0m    ^\u001b[0m\n\u001b[0;31mIndentationError\u001b[0m\u001b[0;31m:\u001b[0m expected an indented block after 'while' statement on line 9\n"
          ]
        }
      ],
      "source": [
        "# 1. 세 변의 길이 입력 받기\n",
        "a = int(input('변 a의 길이: '))\n",
        "b = int(input('변 b의 길이: '))\n",
        "c = int(input('변 c의 길이: '))\n",
        "\n",
        "print('-' * 30)  # 분리 선\n",
        "\n",
        "a = 1; b= 1; c= 1\n",
        "while True:\n",
        "    a, b, c = sorted(map(int, input().split()))\n",
        "if a **2+b**2==c**2:\n",
        "    print('이 삼각형은 직각 삼각형입니다.')\n",
        "else:\n",
        "    print('이 삼각형은 직각 삼각형이 아닙니다.')\n",
        "\n",
        "\n",
        "\n",
        "\n",
        "\n",
        "# 2. 직각삼각형 판별하기\n",
        "\n"
      ]
    },
    {
      "cell_type": "markdown",
      "source": [],
      "metadata": {
        "id": "uhI2TuWrsLE3"
      },
      "id": "uhI2TuWrsLE3"
    },
    {
      "cell_type": "code",
      "source": [
        "a = [1,2,3,4,5]\n",
        "print(f'{a}의 개수(길이): {len(a)}' )\n",
        "print(f'{a}의 합계  : {sum(a)}' )\n",
        "print(f'{a}의 최소값: {min(a)}' )\n",
        "print(f'{a}의 최대값: {max(a)}' )\n",
        "print(f'{a}의 평균  : {sum(a)/len(a)}' )"
      ],
      "metadata": {
        "id": "TZqPT4x-sKI6"
      },
      "id": "TZqPT4x-sKI6",
      "execution_count": null,
      "outputs": []
    },
    {
      "cell_type": "code",
      "source": [
        "if (a**2 + b**2) == c**2:\n",
        "    print(f'세 변 {a}, {b}, {c}는 직각삼각형 입니다.')\n",
        "else:\n",
        "    print(f'세 변 {a}, {b}, {c}는 직각삼각형이 아닙니다.')"
      ],
      "metadata": {
        "colab": {
          "base_uri": "https://localhost:8080/"
        },
        "id": "rEro47IisAaS",
        "outputId": "0eb3e693-072b-461e-d033-4772eb8a0cff"
      },
      "id": "rEro47IisAaS",
      "execution_count": null,
      "outputs": [
        {
          "output_type": "stream",
          "name": "stdout",
          "text": [
            "세 변 1, 1, 1는 직각삼각형이 아닙니다.\n"
          ]
        }
      ]
    },
    {
      "cell_type": "code",
      "source": [
        "score = int(input())\n",
        "if 100>=score>=90: print (\"A\")\n",
        "elif 90>score>=80: print (\"B\")\n",
        "elif 80>score>=70: print (\"C\")\n",
        "else: print (\"D\")\n",
        "\n",
        "score = int(input('성적을 입력해 주세요: '))\n",
        "print('-' * 30)\n",
        "\n",
        "if score >= 90:\n",
        "    grade = 'A'\n",
        "    print(f'성적: {score}점은 A 등급 입니다.')\n",
        "elif score >= 80:\n",
        "    grade = 'B'\n",
        "    print(f'성적: {score}점은 B 등급 입니다.')\n",
        "elif score >= 70:\n",
        "    grade = 'c'\n",
        "    print(f'성적: {score}점은 C 등급 입니다.')\n",
        "else:\n",
        "    print(f'성적: {score}점은 D 등급 입니다.')"
      ],
      "metadata": {
        "colab": {
          "base_uri": "https://localhost:8080/"
        },
        "id": "QSQ5vH3qt-lK",
        "outputId": "00112c7e-4f61-487b-d9fd-8e7db47649df"
      },
      "id": "QSQ5vH3qt-lK",
      "execution_count": null,
      "outputs": [
        {
          "output_type": "stream",
          "name": "stdout",
          "text": [
            "60\n",
            "D\n",
            "성적을 입력해 주세요: 79\n",
            "------------------------------\n",
            "성적: 79점은 C 등급 입니다.\n"
          ]
        }
      ]
    },
    {
      "cell_type": "code",
      "source": [
        "score = int(input())\n",
        "if 100>=score>=90: print (\"A\")\n",
        "elif 90>score>=80: print (\"B\")\n",
        "elif 80>score>=70: print (\"C\")\n",
        "else: print (\"D\")\n"
      ],
      "metadata": {
        "colab": {
          "base_uri": "https://localhost:8080/"
        },
        "id": "mfLduz_JxS6p",
        "outputId": "f2c7a566-404f-4619-ab8b-f0355c245c71"
      },
      "id": "mfLduz_JxS6p",
      "execution_count": null,
      "outputs": [
        {
          "output_type": "stream",
          "name": "stdout",
          "text": [
            "90\n",
            "A\n"
          ]
        }
      ]
    },
    {
      "cell_type": "code",
      "source": [
        "temp = int(input\"온도를 입력하세요: \"))\n",
        "if temp >= 30:\n",
        "    print(f\"온도: {30 에어컨을 켜주세요}\")\n",
        "elif temp < 15:\n",
        "    print(f\"온도: {15 내복을 입어주세요}\")\n",
        "elif temp <= 10:\n",
        "    print(f\"온도: {10 난방기를 켜주세요}\")\n",
        "else: print(\"쾌적한 온도\")\n",
        "\n",
        "temp = int(input(\"현재 온도를 입력하세요\"))\n",
        "\n",
        "if temp >= 30:\n",
        "    print(\"에어컨을 켜세요\")\n",
        "elif temp < 15:\n",
        "    print(\"내복을 입으세요\")\n",
        "elif temp <= 10:\n",
        "    print(\"난방기를 켜세요\")\n",
        "else:\n",
        "    print(\"온돈가 쾌적해요\")\n"
      ],
      "metadata": {
        "colab": {
          "base_uri": "https://localhost:8080/",
          "height": 148
        },
        "id": "d8G4IUFDyaML",
        "outputId": "92793244-2aaf-44f7-c952-98d6be683050"
      },
      "id": "d8G4IUFDyaML",
      "execution_count": null,
      "outputs": [
        {
          "output_type": "error",
          "ename": "SyntaxError",
          "evalue": "ignored",
          "traceback": [
            "\u001b[0;36m  File \u001b[0;32m\"<ipython-input-45-1f6cde2eef7c>\"\u001b[0;36m, line \u001b[0;32m1\u001b[0m\n\u001b[0;31m    temp = int(input\"온도를 입력하세요: \"))\u001b[0m\n\u001b[0m                                  ^\u001b[0m\n\u001b[0;31mSyntaxError\u001b[0m\u001b[0;31m:\u001b[0m unmatched ')'\n"
          ]
        }
      ]
    },
    {
      "cell_type": "code",
      "source": [
        "temp = int(input(\"현재 온도를 넣으세요\"))\n",
        "speaker = '온도가 쾌적해요'\n",
        "if temp >= 30:\n",
        "    print(\"에어컨을 켜세요\")\n",
        "elif temp < 15:\n",
        "    print(\"내복을 입으세요\")\n",
        "if temp <= 10:\n",
        "    print(\"난방기를 켜세요\")\n",
        "print(f'온도 {temp}도 일때는 {speakr}')"
      ],
      "metadata": {
        "colab": {
          "base_uri": "https://localhost:8080/",
          "height": 261
        },
        "id": "tWSaxyrw0Sfa",
        "outputId": "c05c1dad-ea91-43a7-b788-de49727b349d"
      },
      "id": "tWSaxyrw0Sfa",
      "execution_count": null,
      "outputs": [
        {
          "output_type": "stream",
          "name": "stdout",
          "text": [
            "현재 온도를 넣으세요40\n",
            "에어컨을 켜세요\n"
          ]
        },
        {
          "output_type": "error",
          "ename": "NameError",
          "evalue": "ignored",
          "traceback": [
            "\u001b[0;31m---------------------------------------------------------------------------\u001b[0m",
            "\u001b[0;31mNameError\u001b[0m                                 Traceback (most recent call last)",
            "\u001b[0;32m<ipython-input-51-81b920f2d979>\u001b[0m in \u001b[0;36m<cell line: 9>\u001b[0;34m()\u001b[0m\n\u001b[1;32m      7\u001b[0m \u001b[0;32mif\u001b[0m \u001b[0mtemp\u001b[0m \u001b[0;34m<=\u001b[0m \u001b[0;36m10\u001b[0m\u001b[0;34m:\u001b[0m\u001b[0;34m\u001b[0m\u001b[0;34m\u001b[0m\u001b[0m\n\u001b[1;32m      8\u001b[0m     \u001b[0mprint\u001b[0m\u001b[0;34m(\u001b[0m\u001b[0;34m\"난방기를 켜세요\"\u001b[0m\u001b[0;34m)\u001b[0m\u001b[0;34m\u001b[0m\u001b[0;34m\u001b[0m\u001b[0m\n\u001b[0;32m----> 9\u001b[0;31m \u001b[0mprint\u001b[0m\u001b[0;34m(\u001b[0m\u001b[0;34mf'온도 {temp}도 일때는 {speakr}'\u001b[0m\u001b[0;34m)\u001b[0m\u001b[0;34m\u001b[0m\u001b[0;34m\u001b[0m\u001b[0m\n\u001b[0m",
            "\u001b[0;31mNameError\u001b[0m: name 'speakr' is not defined"
          ]
        }
      ]
    },
    {
      "cell_type": "code",
      "source": [
        "temp = int(input(\"현재 온도를 넣으세요: \"))\n",
        "speaker = \"온도가 쾌적해요\"\n",
        "\n",
        "if temp >= 30:\n",
        "    speaker = \"에어컨을 켜세요\"\n",
        "elif temp < 15:\n",
        "    speaker = \"내복을 입으세요\"\n",
        "    if temp <= 10:\n",
        "        speaker = \"난방기를 켜세요\"\n",
        "\n",
        "print(f'온도 {temp}도 일때는 {speaker}')"
      ],
      "metadata": {
        "colab": {
          "base_uri": "https://localhost:8080/"
        },
        "id": "F0-QQaVQ1iPW",
        "outputId": "c64fcc28-a4bd-407c-fc34-de871c4ff8b1"
      },
      "id": "F0-QQaVQ1iPW",
      "execution_count": null,
      "outputs": [
        {
          "output_type": "stream",
          "name": "stdout",
          "text": [
            "현재 온도를 넣으세요: 47\n",
            "온도 47도 일때는 에어컨을 켜세요\n"
          ]
        }
      ]
    },
    {
      "cell_type": "code",
      "source": [
        "temp = int(input(\"현재 온도를 넣으세요\"))\n",
        "speaker = '온도가 쾌적해요'\n",
        "if temp >= 30:\n",
        "    speaker(\"에어컨을 켜세요\")\n",
        "elif temp < 15:\n",
        "    speaker(\"내복을 입으세요\")\n",
        "if temp <= 10:\n",
        "   speaker(\"난방기를 켜세요\")\n",
        "print(f'온도 {temp}도 일때는 {speaker}')"
      ],
      "metadata": {
        "colab": {
          "base_uri": "https://localhost:8080/",
          "height": 279
        },
        "id": "Y003MI0Q1MyV",
        "outputId": "edffefa0-b822-46e9-94c8-9ed6394d2416"
      },
      "id": "Y003MI0Q1MyV",
      "execution_count": null,
      "outputs": [
        {
          "name": "stdout",
          "output_type": "stream",
          "text": [
            "현재 온도를 넣으세요-5\n"
          ]
        },
        {
          "output_type": "error",
          "ename": "TypeError",
          "evalue": "ignored",
          "traceback": [
            "\u001b[0;31m---------------------------------------------------------------------------\u001b[0m",
            "\u001b[0;31mTypeError\u001b[0m                                 Traceback (most recent call last)",
            "\u001b[0;32m<ipython-input-50-892d2cbf4eba>\u001b[0m in \u001b[0;36m<cell line: 3>\u001b[0;34m()\u001b[0m\n\u001b[1;32m      4\u001b[0m     \u001b[0mspeaker\u001b[0m\u001b[0;34m(\u001b[0m\u001b[0;34m\"에어컨을 켜세요\"\u001b[0m\u001b[0;34m)\u001b[0m\u001b[0;34m\u001b[0m\u001b[0;34m\u001b[0m\u001b[0m\n\u001b[1;32m      5\u001b[0m \u001b[0;32melif\u001b[0m \u001b[0mtemp\u001b[0m \u001b[0;34m<\u001b[0m \u001b[0;36m15\u001b[0m\u001b[0;34m:\u001b[0m\u001b[0;34m\u001b[0m\u001b[0;34m\u001b[0m\u001b[0m\n\u001b[0;32m----> 6\u001b[0;31m     \u001b[0mspeaker\u001b[0m\u001b[0;34m(\u001b[0m\u001b[0;34m\"내복을 입으세요\"\u001b[0m\u001b[0;34m)\u001b[0m\u001b[0;34m\u001b[0m\u001b[0;34m\u001b[0m\u001b[0m\n\u001b[0m\u001b[1;32m      7\u001b[0m \u001b[0;32mif\u001b[0m \u001b[0mtemp\u001b[0m \u001b[0;34m<=\u001b[0m \u001b[0;36m10\u001b[0m\u001b[0;34m:\u001b[0m\u001b[0;34m\u001b[0m\u001b[0;34m\u001b[0m\u001b[0m\n\u001b[1;32m      8\u001b[0m    \u001b[0mspeaker\u001b[0m\u001b[0;34m(\u001b[0m\u001b[0;34m\"난방기를 켜세요\"\u001b[0m\u001b[0;34m)\u001b[0m\u001b[0;34m\u001b[0m\u001b[0;34m\u001b[0m\u001b[0m\n",
            "\u001b[0;31mTypeError\u001b[0m: 'str' object is not callable"
          ]
        }
      ]
    },
    {
      "cell_type": "code",
      "source": [
        "score = int(input('성적을 입력해주세요: '))\n",
        "\n",
        "if score >= 90:\n",
        "  grade = \"A\"\n",
        "  print(f\"성적: {score}는 {grade}등급 입니다\")\n",
        "if 90 > score >= 80:\n",
        "  grade = \"B\"\n",
        "  print(f\"성적: {score}는 {grade}등급 입니다\")\n",
        "if 80 > score >= 70:\n",
        "  grade = \"C\"\n",
        "  print(f\"성적: {score}는 {grade}등급 입니다\")\n",
        "if 70 > score >= 0:\n",
        "  grade = \"D\"\n",
        "  print(f\"성적: {score}는 {grade}등급 입니다\")"
      ],
      "metadata": {
        "colab": {
          "base_uri": "https://localhost:8080/"
        },
        "id": "A48gRUx5xOMJ",
        "outputId": "067f2890-d404-4769-d29b-7808504f3a2a"
      },
      "id": "A48gRUx5xOMJ",
      "execution_count": null,
      "outputs": [
        {
          "output_type": "stream",
          "name": "stdout",
          "text": [
            "성적을 입력해주세요: 70\n",
            "성적: 70는 C등급 입니다\n"
          ]
        }
      ]
    },
    {
      "cell_type": "code",
      "source": [
        "score = int(input('성적을 입력해 주세요: '))\n",
        "print('-' * 30)\n",
        "\n",
        "if score >= 90:\n",
        "    print(f'성적: {score}점은 A 등급 입니다.')\n",
        "elif score >= 80:\n",
        "    print(f'성적: {score}점은 B 등급 입니다.')\n",
        "elif score >= 70:\n",
        "    print(f'성적: {score}점은 C 등급 입니다.')\n",
        "else:\n",
        "    print(f'성적: {score}점은 D 등급 입니다.')"
      ],
      "metadata": {
        "id": "hUZMkoQSwH0B"
      },
      "id": "hUZMkoQSwH0B",
      "execution_count": null,
      "outputs": []
    },
    {
      "cell_type": "markdown",
      "id": "862598a5",
      "metadata": {
        "id": "862598a5"
      },
      "source": [
        "### [실습문제]\n",
        "아래 조건을 만족하는 커피 자동주문 머신을 만들어보세요.<br><br>\n",
        "[커피 자동주문 머신]<br>\n",
        "친구들과 현금 커피 자동주문 머신 앞에서\n",
        " - 아메리카노 2잔과 카페라테 2잔 카푸치노 1잔을 주문하였다.\n",
        " - 아메리카노 한잔에 2500원이고\n",
        " - 카페라테는 한잔에 3000원\n",
        " - 카푸치노는 한잔에 3000원이다.\n",
        "커피 종류와 잔 수를 결정한 후 현금 15000원을 투입하고 잔돈을 1000원 받았다."
      ]
    },
    {
      "cell_type": "code",
      "execution_count": null,
      "id": "0d6035c2",
      "metadata": {
        "id": "0d6035c2"
      },
      "outputs": [],
      "source": [
        "menu = '''[커피 자동주문 머신 메뉴]\n",
        "------------------------------\n",
        "-아메리카노는 2500원\n",
        "-카레라떼는 3000원\n",
        "-카푸치노는 3000원\n",
        "입니다. 원하시는 커피종류와 잔수를 입력하세요.\n",
        "------------------------------'''\n",
        "print(menu)\n",
        "coffee1 = int(input(\"아메리카노 몇잔?\"))\n",
        "coffee2 = int(input(\"카페라떼 몇잔?\"))\n",
        "coffee3 = int(input(\"카푸치노 몇잔?\"))\n",
        "\n",
        "\n",
        "\n"
      ]
    },
    {
      "cell_type": "code",
      "source": [
        "menu = '''[커피 자동주문 머신 메뉴]\n",
        "------------------------------\n",
        "-아메리카노는 2500원\n",
        "-카페라떼는 3000원\n",
        "-카푸치노는 3000원\n",
        "입니다. 원하시는 커피종류와 잔수를 입력하세요.\n",
        "------------------------------'''\n",
        "print(menu)\n",
        "coffee1 = int(input(\"아메리카노 몇잔?\"))\n",
        "coffee2 = int(input(\"카페라떼 몇잔?\"))\n",
        "coffee3 = int(input(\"카푸치노 몇잔?\"))\n",
        "price=coffee1*2500+coffee2*3000+coffee3*3000\n",
        "print(f'지불할 총 금액은 {price}입니다.')\n",
        "\n",
        "money=int(input('돈을 넣어주세요. '))\n",
        "if money>=price:\n",
        "    print(f'거스름돈은 {money-price}원입니다.')\n",
        "else:\n",
        "    print(f'입력한 금액이 부족합니다.{price-money}원을 더 넣어주세요.')\n",
        "e"
      ],
      "metadata": {
        "colab": {
          "base_uri": "https://localhost:8080/",
          "height": 410
        },
        "id": "JkXOYhVsCouH",
        "outputId": "3c24e7e7-31af-4916-9861-9fa971d14a6f"
      },
      "id": "JkXOYhVsCouH",
      "execution_count": null,
      "outputs": [
        {
          "name": "stdout",
          "output_type": "stream",
          "text": [
            "[커피 자동주문 머신 메뉴]\n",
            "------------------------------\n",
            "-아메리카노는 2500원\n",
            "-카페라떼는 3000원\n",
            "-카푸치노는 3000원\n",
            "입니다. 원하시는 커피종류와 잔수를 입력하세요.\n",
            "------------------------------\n",
            "아메리카노 몇잔?1 2\n"
          ]
        },
        {
          "output_type": "error",
          "ename": "ValueError",
          "evalue": "ignored",
          "traceback": [
            "\u001b[0;31m---------------------------------------------------------------------------\u001b[0m",
            "\u001b[0;31mValueError\u001b[0m                                Traceback (most recent call last)",
            "\u001b[0;32m<ipython-input-54-22a36609b2d9>\u001b[0m in \u001b[0;36m<cell line: 9>\u001b[0;34m()\u001b[0m\n\u001b[1;32m      7\u001b[0m ------------------------------'''\n\u001b[1;32m      8\u001b[0m \u001b[0mprint\u001b[0m\u001b[0;34m(\u001b[0m\u001b[0mmenu\u001b[0m\u001b[0;34m)\u001b[0m\u001b[0;34m\u001b[0m\u001b[0;34m\u001b[0m\u001b[0m\n\u001b[0;32m----> 9\u001b[0;31m \u001b[0mcoffee1\u001b[0m \u001b[0;34m=\u001b[0m \u001b[0mint\u001b[0m\u001b[0;34m(\u001b[0m\u001b[0minput\u001b[0m\u001b[0;34m(\u001b[0m\u001b[0;34m\"아메리카노 몇잔?\"\u001b[0m\u001b[0;34m)\u001b[0m\u001b[0;34m)\u001b[0m\u001b[0;34m\u001b[0m\u001b[0;34m\u001b[0m\u001b[0m\n\u001b[0m\u001b[1;32m     10\u001b[0m \u001b[0mcoffee2\u001b[0m \u001b[0;34m=\u001b[0m \u001b[0mint\u001b[0m\u001b[0;34m(\u001b[0m\u001b[0minput\u001b[0m\u001b[0;34m(\u001b[0m\u001b[0;34m\"카페라떼 몇잔?\"\u001b[0m\u001b[0;34m)\u001b[0m\u001b[0;34m)\u001b[0m\u001b[0;34m\u001b[0m\u001b[0;34m\u001b[0m\u001b[0m\n\u001b[1;32m     11\u001b[0m \u001b[0mcoffee3\u001b[0m \u001b[0;34m=\u001b[0m \u001b[0mint\u001b[0m\u001b[0;34m(\u001b[0m\u001b[0minput\u001b[0m\u001b[0;34m(\u001b[0m\u001b[0;34m\"카푸치노 몇잔?\"\u001b[0m\u001b[0;34m)\u001b[0m\u001b[0;34m)\u001b[0m\u001b[0;34m\u001b[0m\u001b[0;34m\u001b[0m\u001b[0m\n",
            "\u001b[0;31mValueError\u001b[0m: invalid literal for int() with base 10: '1 2'"
          ]
        }
      ]
    },
    {
      "cell_type": "markdown",
      "id": "67412428",
      "metadata": {
        "id": "67412428"
      },
      "source": [
        "## 3-2.반복문"
      ]
    },
    {
      "cell_type": "markdown",
      "id": "44197774",
      "metadata": {
        "id": "44197774"
      },
      "source": [
        "### 반복문: for 반복문"
      ]
    },
    {
      "cell_type": "code",
      "source": [],
      "metadata": {
        "id": "rpDChTMlCikB"
      },
      "id": "rpDChTMlCikB",
      "execution_count": null,
      "outputs": []
    },
    {
      "cell_type": "code",
      "execution_count": null,
      "id": "9f69ecc4",
      "metadata": {
        "scrolled": true,
        "id": "9f69ecc4"
      },
      "outputs": [],
      "source": []
    },
    {
      "cell_type": "markdown",
      "id": "8288e636",
      "metadata": {
        "id": "8288e636"
      },
      "source": [
        "### [실습문제]\n",
        "키보드로 양의 정수(n)을 입력 받아 1~n까지의 합을 구하는 프로그램을 만들어 보세요."
      ]
    },
    {
      "cell_type": "code",
      "execution_count": null,
      "id": "d6774150",
      "metadata": {
        "id": "d6774150"
      },
      "outputs": [],
      "source": [
        "# 1. 숫자 N을 입력하세요.\n",
        "\n",
        "\n",
        "# 2. 1~N까지 합계를 구하세요.\n",
        "\n"
      ]
    },
    {
      "cell_type": "markdown",
      "id": "aae06acb",
      "metadata": {
        "id": "aae06acb"
      },
      "source": [
        "### [실습문제]\n",
        "키보드로 양의 정수(n)을 입력 받아 1~n까지의 합을 구할 때 짝수를 제외하고 합을 구하는 프로그램을 만들어 보세요."
      ]
    },
    {
      "cell_type": "code",
      "execution_count": null,
      "id": "c87285cf",
      "metadata": {
        "id": "c87285cf"
      },
      "outputs": [],
      "source": [
        "\n"
      ]
    },
    {
      "cell_type": "markdown",
      "id": "ac62e6f7",
      "metadata": {
        "id": "ac62e6f7"
      },
      "source": [
        "### 반복문: while 반복문"
      ]
    },
    {
      "cell_type": "code",
      "execution_count": null,
      "id": "f2fb3ce9",
      "metadata": {
        "id": "f2fb3ce9"
      },
      "outputs": [],
      "source": [
        "num1, num2 = 0, 0\n",
        "\n",
        "while True:\n",
        "    num1 = int(input(\"더할 첫 번째 숫자: \"))\n",
        "    if num1 == 0:\n",
        "        break\n",
        "\n",
        "    num2 = int(input(\"더할 두 번째 숫자: \"))\n",
        "\n",
        "    print(f'{num1} + {num2} = {num1 + num2}')\n",
        "\n",
        "print(\"0을 입력해서 반복문을 탈출했습니다.\")"
      ]
    },
    {
      "cell_type": "markdown",
      "id": "02a797a4",
      "metadata": {
        "id": "02a797a4"
      },
      "source": [
        "### [실습문제] 도둑잡기 게임 만들기\n",
        "경찰에 쫓기던 범인이 3개의 방 중에 한 곳에 숨어버렸습니다. 범인은 방문을 열 때마다 무작위로 3개의 방 중 하나의 방으로 이동합니다. 3개의 방 중 하나의 방을 선택했을 때 범인이 있다면 100점, 없을 때 -10점을 부여하고 범인을 잡으면 게임을 종료하는 프로그램을 만들어 보세요."
      ]
    },
    {
      "cell_type": "code",
      "execution_count": null,
      "id": "e08b9dc4",
      "metadata": {
        "id": "e08b9dc4"
      },
      "outputs": [],
      "source": [
        "\n"
      ]
    },
    {
      "cell_type": "markdown",
      "id": "0d03701c",
      "metadata": {
        "id": "0d03701c"
      },
      "source": [
        "### [실습문제] 공이 튕긴 횟수 구하기\n",
        "공을 일정 높이에서 떨어뜨리면, 원래 높이의 1/2만큼 튀어 오릅니다. 이를 반복하다가 높이가 0.00001m보다 낮으면 튀어 오르지 않습니다. while문을 이용하여 공이 튀어 오르는 총 횟수를 구하는 프로그램을 만들어 보세요."
      ]
    },
    {
      "cell_type": "code",
      "execution_count": 5,
      "id": "1ac5675e",
      "metadata": {
        "scrolled": true,
        "id": "1ac5675e",
        "colab": {
          "base_uri": "https://localhost:8080/",
          "height": 279
        },
        "outputId": "2d816478-b6ae-450d-aceb-f0d5893ecb8d"
      },
      "outputs": [
        {
          "name": "stdout",
          "output_type": "stream",
          "text": [
            "공의 높이를 입력하세요(m):22\n"
          ]
        },
        {
          "output_type": "error",
          "ename": "KeyboardInterrupt",
          "evalue": "ignored",
          "traceback": [
            "\u001b[0;31m---------------------------------------------------------------------------\u001b[0m",
            "\u001b[0;31mKeyboardInterrupt\u001b[0m                         Traceback (most recent call last)",
            "\u001b[0;32m<ipython-input-5-35fff0eccfc6>\u001b[0m in \u001b[0;36m<cell line: 4>\u001b[0;34m()\u001b[0m\n\u001b[1;32m      2\u001b[0m \u001b[0mcnt\u001b[0m \u001b[0;34m=\u001b[0m \u001b[0;36m0\u001b[0m\u001b[0;34m\u001b[0m\u001b[0;34m\u001b[0m\u001b[0m\n\u001b[1;32m      3\u001b[0m \u001b[0mmeter\u001b[0m \u001b[0;34m=\u001b[0m \u001b[0mlength\u001b[0m\u001b[0;34m\u001b[0m\u001b[0;34m\u001b[0m\u001b[0m\n\u001b[0;32m----> 4\u001b[0;31m \u001b[0;32mwhile\u001b[0m \u001b[0mlength\u001b[0m \u001b[0;34m>=\u001b[0m \u001b[0;36m0.00001\u001b[0m\u001b[0;34m:\u001b[0m\u001b[0;34m\u001b[0m\u001b[0;34m\u001b[0m\u001b[0m\n\u001b[0m\u001b[1;32m      5\u001b[0m     \u001b[0mcnt\u001b[0m \u001b[0;34m=\u001b[0m \u001b[0mcnt\u001b[0m \u001b[0;34m+\u001b[0m \u001b[0;36m1\u001b[0m \u001b[0;31m# count + = 1\u001b[0m\u001b[0;34m\u001b[0m\u001b[0;34m\u001b[0m\u001b[0m\n\u001b[1;32m      6\u001b[0m     \u001b[0mlenght\u001b[0m \u001b[0;34m=\u001b[0m \u001b[0mlength\u001b[0m \u001b[0;34m/\u001b[0m \u001b[0;36m2\u001b[0m\u001b[0;34m\u001b[0m\u001b[0;34m\u001b[0m\u001b[0m\n",
            "\u001b[0;31mKeyboardInterrupt\u001b[0m: "
          ]
        }
      ],
      "source": [
        "length = int(input('공의 높이를 입력하세요(m):'))\n",
        "cnt = 0\n",
        "meter = length\n",
        "while length >= 0.00001:\n",
        "    cnt = cnt + 1 # count + = 1\n",
        "    lenght = length / 2\n",
        "\n",
        "\n",
        "\n",
        "print(f'{lenght}위치에서 공이 튕긴 횟수는 총{cnt}번 입니다.')\n",
        "\n",
        "\n",
        "\n",
        "\n",
        "\n",
        "\n",
        "\n",
        "\n"
      ]
    },
    {
      "cell_type": "markdown",
      "source": [
        "# 공의 높이 완성 코드"
      ],
      "metadata": {
        "id": "xHUsiOE90Xuo"
      },
      "id": "xHUsiOE90Xuo"
    },
    {
      "cell_type": "code",
      "source": [
        "length = int(input('공의 높이를 입력하세요(m): '))\n",
        "meter, cnt = length, 0\n",
        "while True:\n",
        "    cnt = cnt + 1     # count += 1\n",
        "    meter = meter / 2\n",
        "    if meter < 0.00001:\n",
        "        break\n",
        "print('-'*50)\n",
        "print(f'{length} 위치에서 공이 튕긴 횟수는 총 {cnt}번 입니다.')"
      ],
      "metadata": {
        "colab": {
          "base_uri": "https://localhost:8080/"
        },
        "id": "47zuGqSj0BbZ",
        "outputId": "75a93e2e-bd67-469c-fe2c-207ead445a16"
      },
      "id": "47zuGqSj0BbZ",
      "execution_count": 6,
      "outputs": [
        {
          "output_type": "stream",
          "name": "stdout",
          "text": [
            "공의 높이를 입력하세요(m): 33\n",
            "--------------------------------------------------\n",
            "33 위치에서 공이 튕긴 횟수는 총 22번 입니다.\n"
          ]
        }
      ]
    },
    {
      "cell_type": "code",
      "source": [
        "l"
      ],
      "metadata": {
        "id": "KSwBwAzSyOaJ"
      },
      "id": "KSwBwAzSyOaJ",
      "execution_count": 1,
      "outputs": []
    },
    {
      "cell_type": "markdown",
      "id": "ecdb476f",
      "metadata": {
        "id": "ecdb476f"
      },
      "source": [
        "### [실습문제] 커피 자동주문 프로그램 업그레이드\n",
        "앞에서 만들어 본 커피 자동주문 머신 프로그램을 while문을 이용하여 돈을 모두 지불할 때까지 돈을 입력 받도록 프로그램 기능 수정하기"
      ]
    },
    {
      "cell_type": "code",
      "execution_count": null,
      "id": "2ce8fbfc",
      "metadata": {
        "scrolled": true,
        "id": "2ce8fbfc"
      },
      "outputs": [],
      "source": [
        "menu = '''[커피 자동주문 머신 메뉴]\n",
        "------------------------------\n",
        "-아메리카노는 2500원\n",
        "-카레라떼는 3000원\n",
        "-카푸치노는 3000원\n",
        "입니다. 원하시는 커피종류와 잔수를 입력하세요.\n",
        "------------------------------'''\n",
        "print(menu)\n",
        "coffee1 = int(input(\"아메리카노 몇잔?\"))\n",
        "coffee2 = int(input(\"카페라떼 몇잔?\"))\n",
        "coffee3 = int(input(\"카푸치노 몇잔?\"))\n",
        "\n",
        "total = coffee1*2500 + coffee2*3000 + coffee3*3000\n",
        "print(\"지불할 총 금액은 \", total, \"원 입니다\")\n",
        "\n",
        "\n",
        "\n",
        "\n"
      ]
    },
    {
      "cell_type": "markdown",
      "id": "af0e48ab",
      "metadata": {
        "id": "af0e48ab"
      },
      "source": [
        "## 3-3.난수(Random Variable)"
      ]
    },
    {
      "cell_type": "markdown",
      "id": "e34c55ca",
      "metadata": {
        "id": "e34c55ca"
      },
      "source": [
        "### [실습문제] 임의의 두 수 합 구하기\n",
        "1부터 10까지의 범위를 갖는 임의의 두 정수 a, b를 더하여 결과 출력하기"
      ]
    },
    {
      "cell_type": "code",
      "source": [
        "import random\n",
        "a = random.randint(1, 10)\n",
        "b = random.randint(1, 10)\n",
        "print(f'{a} + {b} = {a+b}')\n"
      ],
      "metadata": {
        "colab": {
          "base_uri": "https://localhost:8080/"
        },
        "id": "3EEvVymq4IsR",
        "outputId": "c77b2b5e-f287-43fc-8868-de15b0931cc1"
      },
      "id": "3EEvVymq4IsR",
      "execution_count": 19,
      "outputs": [
        {
          "output_type": "stream",
          "name": "stdout",
          "text": [
            "10 + 10 = 20\n"
          ]
        }
      ]
    },
    {
      "cell_type": "code",
      "execution_count": 13,
      "id": "3c007936",
      "metadata": {
        "id": "3c007936",
        "colab": {
          "base_uri": "https://localhost:8080/",
          "height": 261
        },
        "outputId": "b6f43eb3-e3c5-4e1a-a39b-ea894d590772"
      },
      "outputs": [
        {
          "output_type": "error",
          "ename": "AttributeError",
          "evalue": "ignored",
          "traceback": [
            "\u001b[0;31m---------------------------------------------------------------------------\u001b[0m",
            "\u001b[0;31mAttributeError\u001b[0m                            Traceback (most recent call last)",
            "\u001b[0;32m<ipython-input-13-1af43eb1c6c8>\u001b[0m in \u001b[0;36m<cell line: 3>\u001b[0;34m()\u001b[0m\n\u001b[1;32m      1\u001b[0m \u001b[0;32mimport\u001b[0m \u001b[0mrandom\u001b[0m\u001b[0;34m\u001b[0m\u001b[0;34m\u001b[0m\u001b[0m\n\u001b[1;32m      2\u001b[0m \u001b[0;34m\u001b[0m\u001b[0m\n\u001b[0;32m----> 3\u001b[0;31m \u001b[0ma\u001b[0m \u001b[0;34m=\u001b[0m \u001b[0mrandom\u001b[0m\u001b[0;34m.\u001b[0m\u001b[0mranditn\u001b[0m\u001b[0;34m(\u001b[0m\u001b[0;36m1\u001b[0m\u001b[0;34m,\u001b[0m \u001b[0;36m10\u001b[0m\u001b[0;34m)\u001b[0m\u001b[0;34m\u001b[0m\u001b[0;34m\u001b[0m\u001b[0m\n\u001b[0m\u001b[1;32m      4\u001b[0m \u001b[0mb\u001b[0m \u001b[0;34m=\u001b[0m \u001b[0mrandom\u001b[0m\u001b[0;34m.\u001b[0m\u001b[0mrandint\u001b[0m\u001b[0;34m(\u001b[0m\u001b[0;36m1\u001b[0m\u001b[0;34m,\u001b[0m \u001b[0;36m10\u001b[0m\u001b[0;34m)\u001b[0m\u001b[0;34m\u001b[0m\u001b[0;34m\u001b[0m\u001b[0m\n\u001b[1;32m      5\u001b[0m \u001b[0mx\u001b[0m \u001b[0;34m=\u001b[0m \u001b[0mint\u001b[0m\u001b[0;34m(\u001b[0m\u001b[0minput\u001b[0m\u001b[0;34m(\u001b[0m\u001b[0;34m\"첫 번째 정수 :\"\u001b[0m\u001b[0;34m)\u001b[0m\u001b[0;34m)\u001b[0m\u001b[0;34m\u001b[0m\u001b[0;34m\u001b[0m\u001b[0m\n",
            "\u001b[0;31mAttributeError\u001b[0m: module 'random' has no attribute 'randitn'"
          ]
        }
      ],
      "source": [
        "import random\n",
        "\n",
        "x = int(input(\"첫 번째 정수 :\"))\n",
        "y = int(input(\"두 번째 정수 :\"))\n",
        "\n",
        "sum = x+y\n",
        "\n",
        "if x-y>= 0:\n",
        "     diff = x-y\n",
        "else :\n",
        "     diff = y-x\n",
        "print(\"두 수의 합은\", sum, \"입니다.\")\n",
        "print(\"두 수의 차는\", diff, \"입니다.\")"
      ]
    },
    {
      "cell_type": "code",
      "source": [
        "import numpy as np\n",
        "np.random.randint(10, 20, size=10)"
      ],
      "metadata": {
        "colab": {
          "base_uri": "https://localhost:8080/"
        },
        "id": "GtWmYJiA1WiA",
        "outputId": "c8a4b261-92d0-46af-926c-a1fc792b188a"
      },
      "id": "GtWmYJiA1WiA",
      "execution_count": 11,
      "outputs": [
        {
          "output_type": "execute_result",
          "data": {
            "text/plain": [
              "array([15, 13, 18, 10, 13, 17, 13, 13, 10, 10])"
            ]
          },
          "metadata": {},
          "execution_count": 11
        }
      ]
    },
    {
      "cell_type": "markdown",
      "id": "357e1bdd",
      "metadata": {
        "id": "357e1bdd"
      },
      "source": [
        "### [실습문제]\n",
        "주사위를 100번 던져서 나오는 숫자를 각 숫자별로 카운트하고 가장 많이 나온 숫자와 그 숫자의 횟수를 출력하시오."
      ]
    },
    {
      "cell_type": "code",
      "source": [
        "import random\n",
        "x1, x2, x3, x4, x5, x6 = 0,0,0,0,0,0\n",
        "for i in range(100)\n",
        "     x = random. randint(1,6)\n",
        "     if x==1: x1 += 1\n",
        "     if x==2: x2 += 1\n",
        "     if x==3: x3 += 1\n"
      ],
      "metadata": {
        "id": "E4HDZcGg7by3"
      },
      "id": "E4HDZcGg7by3",
      "execution_count": null,
      "outputs": []
    },
    {
      "cell_type": "code",
      "source": [
        "import random\n",
        "dice = [0,0,0,0,0,0]\n",
        "for i in range(100) :\n",
        "    x = random.randint(1,6)\n",
        "    dice[x-1] = dice[x-1] + 40\n",
        "\n",
        "print(dice)\n",
        "print(f'가장 많이 나온 숫자:{dice.index(max(dice))}    그 숫자의 횟수:{max(dice)}')"
      ],
      "metadata": {
        "colab": {
          "base_uri": "https://localhost:8080/"
        },
        "id": "bln1Peow8Yco",
        "outputId": "8ef3dc8a-4a6e-4fa1-ea8e-2bf54a167dab"
      },
      "id": "bln1Peow8Yco",
      "execution_count": 51,
      "outputs": [
        {
          "output_type": "stream",
          "name": "stdout",
          "text": [
            "[640, 1000, 480, 880, 440, 560]\n",
            "가장 많이 나온 숫자:1    그 숫자의 횟수:1000\n"
          ]
        }
      ]
    },
    {
      "cell_type": "code",
      "source": [
        "print(f'가장 많이 나온 숫자:    그 숫자의 횟수:')"
      ],
      "metadata": {
        "colab": {
          "base_uri": "https://localhost:8080/"
        },
        "id": "HW_smZhg9AIY",
        "outputId": "d953d748-b517-4c4e-e815-788bc2e2d303"
      },
      "id": "HW_smZhg9AIY",
      "execution_count": 28,
      "outputs": [
        {
          "output_type": "stream",
          "name": "stdout",
          "text": [
            "가장 많이 나온 숫자:    그 숫자의 횟수:\n"
          ]
        }
      ]
    },
    {
      "cell_type": "code",
      "execution_count": 27,
      "id": "782da2b4",
      "metadata": {
        "id": "782da2b4",
        "colab": {
          "base_uri": "https://localhost:8080/",
          "height": 148
        },
        "outputId": "1344a7e7-74e4-4be7-ef53-bc6e81ab9503"
      },
      "outputs": [
        {
          "output_type": "error",
          "ename": "SyntaxError",
          "evalue": "ignored",
          "traceback": [
            "\u001b[0;36m  File \u001b[0;32m\"<ipython-input-27-8ff6611a2d1b>\"\u001b[0;36m, line \u001b[0;32m4\u001b[0m\n\u001b[0;31m    print = random.choice(dice))\u001b[0m\n\u001b[0m                               ^\u001b[0m\n\u001b[0;31mSyntaxError\u001b[0m\u001b[0;31m:\u001b[0m unmatched ')'\n"
          ]
        }
      ],
      "source": [
        "from __future__ import print_function\n",
        "import random\n",
        "for i in range(100):\n",
        "print = random.choice(dice))\n",
        "\n",
        "import rnadom\n",
        "dice = [count]\n",
        "\n",
        "for i in range(100):\n",
        "    num = random.choice(dice)\n",
        "if num %2 == 0:\n",
        "    print(random.choice(dice))\n",
        "else:\n",
        "    print(random.choice(dice))"
      ]
    },
    {
      "cell_type": "markdown",
      "id": "45e329e4",
      "metadata": {
        "id": "45e329e4"
      },
      "source": [
        "## 리스트 컴프리헨션------------------------"
      ]
    },
    {
      "cell_type": "code",
      "source": [
        "# 리스트에 데이터 넣어 출력하기\n",
        "a = [i for i in range(1,6)]\n",
        "print(a)"
      ],
      "metadata": {
        "colab": {
          "base_uri": "https://localhost:8080/"
        },
        "id": "09Ug91vmCyQA",
        "outputId": "9ecddd3b-c965-4347-8a99-c31ebf5b213d"
      },
      "id": "09Ug91vmCyQA",
      "execution_count": 52,
      "outputs": [
        {
          "output_type": "stream",
          "name": "stdout",
          "text": [
            "[1, 2, 3, 4, 5]\n"
          ]
        }
      ]
    },
    {
      "cell_type": "markdown",
      "id": "66025633",
      "metadata": {
        "id": "66025633"
      },
      "source": [
        "끝"
      ]
    },
    {
      "cell_type": "code",
      "source": [
        "# 1~10 중 3의 배수 리스트 만들기\n",
        "a = [i for i in range(1,100) if i%5==0]\n",
        "print(a)"
      ],
      "metadata": {
        "id": "v71o5DUHwExP",
        "colab": {
          "base_uri": "https://localhost:8080/"
        },
        "outputId": "987a7da8-01f9-4639-f08f-828c95fb5533"
      },
      "id": "v71o5DUHwExP",
      "execution_count": 64,
      "outputs": [
        {
          "output_type": "stream",
          "name": "stdout",
          "text": [
            "[5, 10, 15, 20, 25, 30, 35, 40, 45, 50, 55, 60, 65, 70, 75, 80, 85, 90, 95]\n"
          ]
        }
      ]
    },
    {
      "cell_type": "code",
      "source": [
        "colors = ['r','g','b']\n",
        "a = [c*3 for c in colors]\n",
        "print(a)\n"
      ],
      "metadata": {
        "colab": {
          "base_uri": "https://localhost:8080/"
        },
        "id": "XxS3RLgtEggP",
        "outputId": "313ab331-ac0b-4a99-e495-9169f4d3af09"
      },
      "id": "XxS3RLgtEggP",
      "execution_count": 65,
      "outputs": [
        {
          "output_type": "stream",
          "name": "stdout",
          "text": [
            "['rrr', 'ggg', 'bbb']\n"
          ]
        }
      ]
    },
    {
      "cell_type": "code",
      "source": [
        "a = [str(i) if i%3==0 else i for i in range(1,11)]\n",
        "print(a)\n"
      ],
      "metadata": {
        "colab": {
          "base_uri": "https://localhost:8080/"
        },
        "id": "mZtizsmgFN--",
        "outputId": "dcafda00-afa6-4b32-a6ad-46cfe1442145"
      },
      "id": "mZtizsmgFN--",
      "execution_count": 66,
      "outputs": [
        {
          "output_type": "stream",
          "name": "stdout",
          "text": [
            "[1, 2, '3', 4, 5, '6', 7, 8, '9', 10]\n"
          ]
        }
      ]
    },
    {
      "cell_type": "code",
      "source": [
        "foods = ['떡볶이','짜장면','라면','피자','맥주','삼겹살']\n",
        "sides = ['오뎅','단무지','김치','피클','치킨']\n",
        "for food, side in zip(foods, siedes):\n",
        "    print(f'({food}' {sides})\n",
        "dict(zip(foods, sides))"
      ],
      "metadata": {
        "colab": {
          "base_uri": "https://localhost:8080/",
          "height": 148
        },
        "id": "ximCArN2IX9L",
        "outputId": "2436e7c2-59b9-435e-dffa-379ec80fad89"
      },
      "id": "ximCArN2IX9L",
      "execution_count": 69,
      "outputs": [
        {
          "output_type": "error",
          "ename": "SyntaxError",
          "evalue": "ignored",
          "traceback": [
            "\u001b[0;36m  File \u001b[0;32m\"<ipython-input-69-f6315ce0b03e>\"\u001b[0;36m, line \u001b[0;32m4\u001b[0m\n\u001b[0;31m    print(f'({food}' {sides})\u001b[0m\n\u001b[0m          ^\u001b[0m\n\u001b[0;31mSyntaxError\u001b[0m\u001b[0;31m:\u001b[0m invalid syntax. Perhaps you forgot a comma?\n"
          ]
        }
      ]
    },
    {
      "cell_type": "code",
      "source": [
        "love = {'떡볶이': '오뎅', '짜장면': '단무지',\n",
        "        '라면': '김치', '피자':'피클', '맥주':'치킨'}\n",
        "print(love.keys())\n",
        "print(love.values())\n",
        ""
      ],
      "metadata": {
        "id": "IfP3X7LqJE-v"
      },
      "id": "IfP3X7LqJE-v",
      "execution_count": null,
      "outputs": []
    }
  ],
  "metadata": {
    "kernelspec": {
      "display_name": "Python 3 (ipykernel)",
      "language": "python",
      "name": "python3"
    },
    "language_info": {
      "codemirror_mode": {
        "name": "ipython",
        "version": 3
      },
      "file_extension": ".py",
      "mimetype": "text/x-python",
      "name": "python",
      "nbconvert_exporter": "python",
      "pygments_lexer": "ipython3",
      "version": "3.10.9"
    },
    "vscode": {
      "interpreter": {
        "hash": "b41e41bff03a930185ac2cbea60ce521f7c8c2f5401ceb5c30214081f77ab4f5"
      }
    },
    "colab": {
      "provenance": [],
      "include_colab_link": true
    }
  },
  "nbformat": 4,
  "nbformat_minor": 5
}
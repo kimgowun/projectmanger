{
 "cells": [
  {
   "cell_type": "markdown",
   "id": "8daf7079",
   "metadata": {},
   "source": [
    "# 파이썬 기초 다지기"
   ]
  },
  {
   "cell_type": "markdown",
   "id": "3f3da3bd",
   "metadata": {},
   "source": [
    "## 2 - 파이썬 자료형과 데이터 표현\n",
    "파이썬의 다양한 데이터 타입과 다양한 연산자, 문자열"
   ]
  },
  {
   "cell_type": "markdown",
   "id": "0c52a67e",
   "metadata": {},
   "source": [
    "----------------------------------"
   ]
  },
  {
   "cell_type": "markdown",
   "id": "1ff36611",
   "metadata": {},
   "source": [
    "## 2-1.파이썬 자료형(Data Type)"
   ]
  },
  {
   "cell_type": "markdown",
   "id": "278fb39c",
   "metadata": {},
   "source": [
    "### 수학 연산하기"
   ]
  },
  {
   "cell_type": "code",
   "execution_count": null,
   "id": "7ea3146f",
   "metadata": {},
   "outputs": [],
   "source": [
    "\n"
   ]
  },
  {
   "cell_type": "markdown",
   "id": "105f773c",
   "metadata": {},
   "source": [
    "### [실습문제]\n",
    "- 문제1: 10 + 3 x 4 결과 출력\n",
    "- 문제2: 아이폰 15대를 가지고 있다. 아이폰의 가격이 130만원 일 때 총 금액은?\n",
    "- 문제3: 주어진 자연수가 홀수인지 짝수인지 판별하는 방법은?\n",
    "- 문제4: 2x2x2x5x5x5x5x3x3x3x3을 제곱형태로 나타낸 후 그 결과 출력하기 "
   ]
  },
  {
   "cell_type": "code",
   "execution_count": null,
   "id": "7a853d89",
   "metadata": {},
   "outputs": [],
   "source": [
    "\n",
    "\n",
    "\n"
   ]
  },
  {
   "cell_type": "markdown",
   "id": "65487a5c",
   "metadata": {},
   "source": [
    "### 변수\n",
    "데이터를 저장할 수 있는 공간\n",
    "\n",
    "**변수 사용 시 주의사항**\n",
    "- 첫 글자는 영문, 혹은 _(언더바)로 시작할 것 (한글도 가능)\n",
    "- 영문자, 숫자, _(언더바)만으로 구성할 것 (공백문자 불가)\n",
    "- 대문자, 소문자 구분해서 사용할 것\n",
    "- 예약어는 피할 것"
   ]
  },
  {
   "cell_type": "code",
   "execution_count": null,
   "id": "c86ab944",
   "metadata": {},
   "outputs": [],
   "source": []
  },
  {
   "cell_type": "markdown",
   "id": "6b43e39d",
   "metadata": {},
   "source": [
    "### 파이썬 자료형 "
   ]
  },
  {
   "cell_type": "code",
   "execution_count": null,
   "id": "bdcd0ef1",
   "metadata": {},
   "outputs": [],
   "source": [
    "d1 = 123\n",
    "d2 = '123'\n",
    "d3 = [123]\n",
    "d4 = (123,)\n",
    "d5 = {'key':123}\n",
    "d6 = {123}\n",
    "d7 = True\n",
    "\n",
    "print(f'데이터 {d1}의 자료형: {type(d1)}')\n",
    "print(f'데이터 {d2}의 자료형: {type(d2)}')\n",
    "print(f'데이터 {d3}의 자료형: {type(d3)}')\n",
    "print(f'데이터 {d4}의 자료형: {type(d4)}')\n",
    "print(f'데이터 {d5}의 자료형: {type(d5)}')\n",
    "print(f'데이터 {d6}의 자료형: {type(d6)}')\n",
    "print(f'데이터 {d7}의 자료형: {type(d7)}')"
   ]
  },
  {
   "cell_type": "markdown",
   "id": "7cda86df",
   "metadata": {},
   "source": [
    "### 표준 입력과 출력\n",
    "- 키보드로부터 입력을 받는 함수( input() )을 표준 입력함수라 한다.\n",
    "- 화면에 출력하는 함수( print() )를 표준 출력함수라 한다."
   ]
  },
  {
   "cell_type": "code",
   "execution_count": null,
   "id": "00ff5c37",
   "metadata": {},
   "outputs": [],
   "source": [
    "# 표준 입력(키보드로부터 데이터를 입력 받는 것)\n",
    "\n",
    "\n",
    "# 표준 출력\n",
    "\n"
   ]
  },
  {
   "cell_type": "markdown",
   "id": "18bc822a",
   "metadata": {},
   "source": [
    "#### 문자열 데이터를 숫자(정수)로 변환하기"
   ]
  },
  {
   "cell_type": "code",
   "execution_count": null,
   "id": "aaf9890f",
   "metadata": {},
   "outputs": [],
   "source": [
    "# 문자열 데이터를 숫자(정수)로 변환하기\n",
    "\n"
   ]
  },
  {
   "cell_type": "markdown",
   "id": "c0436ecb",
   "metadata": {},
   "source": [
    "#### 다양한 변수 출력 방법"
   ]
  },
  {
   "cell_type": "code",
   "execution_count": null,
   "id": "7d2e160d",
   "metadata": {
    "scrolled": true
   },
   "outputs": [],
   "source": [
    "a = input('키보드로 숫자를 입력해 주세요 ')\n",
    "\n"
   ]
  },
  {
   "cell_type": "markdown",
   "id": "7ea5c22e",
   "metadata": {},
   "source": [
    "### [실습문제] : 계산기 프로그램 만들기\n",
    "정수 2개를 키보드로 각각 입력 받아 아래와 같이 덧셈, 뺄셈, 곱셈, 몫, 나머지를 \u000b\n",
    "\n",
    "출력하는 프로그램을 만들어 보세요.\n"
   ]
  },
  {
   "cell_type": "code",
   "execution_count": null,
   "id": "fa128ef7",
   "metadata": {},
   "outputs": [],
   "source": [
    "\n",
    "\n"
   ]
  },
  {
   "cell_type": "markdown",
   "id": "ca1816b6",
   "metadata": {},
   "source": [
    "- f'string' 함수를 이용해 출력하기"
   ]
  },
  {
   "cell_type": "code",
   "execution_count": null,
   "id": "8b486e15",
   "metadata": {},
   "outputs": [],
   "source": [
    "\n",
    "\n"
   ]
  },
  {
   "cell_type": "markdown",
   "id": "157b41ef",
   "metadata": {},
   "source": [
    "### [실습문제] : 시간 계산 프로그램\n",
    "속력과 거리를 입력 받아 시간을 계산하여 출력하는 프로그램을 만드세요!\n",
    "- 시간 = 거리 / 속력"
   ]
  },
  {
   "cell_type": "code",
   "execution_count": null,
   "id": "93102e01",
   "metadata": {},
   "outputs": [],
   "source": [
    "velocity = input('속력를 입력해 주세요(km/h) : ') \n",
    "distance = input('거리를 입력해 주세요(km) : ')\n",
    "\n",
    "\n",
    "\n"
   ]
  },
  {
   "cell_type": "markdown",
   "id": "89f48168",
   "metadata": {},
   "source": [
    "- eval()함수 사용하여 문자열을 계산할 수 있다"
   ]
  },
  {
   "cell_type": "code",
   "execution_count": null,
   "id": "39dab77c",
   "metadata": {},
   "outputs": [],
   "source": [
    "# eval()함수 사용\n",
    "\n"
   ]
  },
  {
   "cell_type": "markdown",
   "id": "85b8c542",
   "metadata": {},
   "source": [
    "### 내장 수학 함수\n",
    "- 파이썬 내장 함수 https://docs.python.org/ko/3.10/library/functions.html "
   ]
  },
  {
   "cell_type": "code",
   "execution_count": null,
   "id": "2bfba8be",
   "metadata": {
    "scrolled": true
   },
   "outputs": [],
   "source": [
    "import math\n",
    "\n",
    "print(f'원주율: { }')\n",
    "print(f'절대값: { }')\n",
    "print(f'반올림: { }')\n",
    "print(f'올림  : { }')\n",
    "print(f'내림  : { }')\n",
    "print(f'제곱  : { }')\n",
    "print(f'제곱근: { }')\n",
    "print(f'로그  : { }')"
   ]
  },
  {
   "cell_type": "markdown",
   "id": "c8147e87",
   "metadata": {},
   "source": [
    "### [실습문제]: 수학 함수 사용하여 계산하기\n",
    "- 문제1: 반지름이 4인 원의 넓이 출력\n",
    "- 문제2: 3.14 곱하가 2 나누기 7의 값을 반올림하여 계산 결과 출력\n",
    "- 문제3: 원주율을 3.14로 만들어서 반지름이 4인 원의 둘레의 길이 출력"
   ]
  },
  {
   "cell_type": "code",
   "execution_count": null,
   "id": "45ed86c9",
   "metadata": {},
   "outputs": [],
   "source": []
  },
  {
   "cell_type": "markdown",
   "id": "32f4b4ce",
   "metadata": {},
   "source": [
    "---------------------------"
   ]
  },
  {
   "cell_type": "markdown",
   "id": "12be6789",
   "metadata": {},
   "source": [
    "## 2-2.문자와 문자열"
   ]
  },
  {
   "cell_type": "markdown",
   "id": "90255097",
   "metadata": {},
   "source": [
    "#### 문자와 문자열 변환"
   ]
  },
  {
   "cell_type": "code",
   "execution_count": null,
   "id": "a52f17d8",
   "metadata": {},
   "outputs": [],
   "source": [
    "# 문자 --> 숫자(정수) 로 변환 : ord() 함수 사용\n",
    "print( ord('A') )\n",
    "print( ord('!') )\n",
    "print( ord('가') )"
   ]
  },
  {
   "cell_type": "code",
   "execution_count": null,
   "id": "88bbb733",
   "metadata": {},
   "outputs": [],
   "source": [
    "# 숫자(정수) --> 문자 로 변환 : chr() 함수 사용\n",
    "print( chr(65) )\n",
    "print( chr(66) )\n",
    "print( chr(97) )\n",
    "print( chr(98) )\n",
    "print( chr(44032) )\n",
    "print( chr(44033) )"
   ]
  },
  {
   "cell_type": "code",
   "execution_count": null,
   "id": "1cbfb609",
   "metadata": {},
   "outputs": [],
   "source": [
    "# 문자 --> 숫자 --> 이진수 로 변환\n",
    "for c in '파이썬':\n",
    "    숫자변환 = ord(c)              # unicode\n",
    "    이진수변환 = bin(숫자변환)     # 16진수 binarycode\n",
    "    print( 이진수변환, end = ' ')  # 한 줄로 표현하기"
   ]
  },
  {
   "cell_type": "code",
   "execution_count": null,
   "id": "d9577a3f",
   "metadata": {},
   "outputs": [],
   "source": [
    "for c in '파이썬':\n",
    "    # 이진수에서 앞'0b'를 없애기 위해 format() 함수 사용할 수 있다.\n",
    "    print( format(ord(c), 'b'), end = ' ')  # 한 줄로 표현하기"
   ]
  },
  {
   "cell_type": "markdown",
   "id": "c87a0c03",
   "metadata": {},
   "source": [
    "### 문자열 따옴표로 지정"
   ]
  },
  {
   "cell_type": "markdown",
   "id": "e343167b",
   "metadata": {},
   "source": [
    "#### 큰 따옴표  or 작은 따옴표로 지정한다"
   ]
  },
  {
   "cell_type": "code",
   "execution_count": null,
   "id": "fae54804",
   "metadata": {},
   "outputs": [],
   "source": [
    "print('Hello')\n",
    "print(\"Hello\")\n",
    "print(\"Hello 'world\")\n",
    "print('Hello \"world')\n",
    "print(' \"Yes, I can!\" ')"
   ]
  },
  {
   "cell_type": "markdown",
   "id": "66f9d31e",
   "metadata": {},
   "source": [
    "#### 따옴표 세 개 사용 : 여러 줄로 표현할 때"
   ]
  },
  {
   "cell_type": "code",
   "execution_count": null,
   "id": "48fe4ca0",
   "metadata": {},
   "outputs": [],
   "source": [
    "a = '''박씨가 소리질렀다.\n",
    "도둑이야!'''\n",
    "print(a)"
   ]
  },
  {
   "cell_type": "code",
   "execution_count": null,
   "id": "b32c2a51",
   "metadata": {
    "scrolled": true
   },
   "outputs": [],
   "source": [
    "a = '''OOO카페 메뉴판\n",
    "- 아메리카노:  3000원\n",
    "- 카페라테:     4000원\n",
    "- 카페모카:     5000원'''\n",
    "print(a)"
   ]
  },
  {
   "cell_type": "markdown",
   "id": "fb8a7c56",
   "metadata": {},
   "source": [
    "### [실습] 주문받아 출력하기"
   ]
  },
  {
   "cell_type": "code",
   "execution_count": null,
   "id": "3a4d57f5",
   "metadata": {},
   "outputs": [],
   "source": [
    "# 주문받아 출력하기\n",
    "menu = a\n",
    "\n"
   ]
  },
  {
   "cell_type": "markdown",
   "id": "38c40628",
   "metadata": {},
   "source": [
    "### 문자열 연산\n",
    "- (+): 문자열 연결하기"
   ]
  },
  {
   "cell_type": "code",
   "execution_count": null,
   "id": "6af90aaf",
   "metadata": {},
   "outputs": [],
   "source": [
    "\n"
   ]
  },
  {
   "cell_type": "markdown",
   "id": "a27ee4d1",
   "metadata": {},
   "source": [
    "- (*) : 반복의 의미"
   ]
  },
  {
   "cell_type": "code",
   "execution_count": null,
   "id": "229965c2",
   "metadata": {},
   "outputs": [],
   "source": [
    "\n"
   ]
  },
  {
   "cell_type": "markdown",
   "id": "2d2a3e0e",
   "metadata": {},
   "source": [
    "### [실습문제] 문자열 출력하기\n",
    "- 문제1: 화면에   Mary’s cosmetics   출력\n",
    "- 문제2: 화면에  박씨가 소리질렀다. “도둑이야!”.  출력\n",
    "- 문제3: 다음 코드 실행시켜서 \\t와 \\n의 역할 확인하기 <br>\n",
    "print(\"안녕하세요.\\n오늘\\t날씨가\\t\\t좋습니다.\")    "
   ]
  },
  {
   "cell_type": "code",
   "execution_count": null,
   "id": "36f87e66",
   "metadata": {},
   "outputs": [],
   "source": [
    "\n"
   ]
  },
  {
   "cell_type": "markdown",
   "id": "13245f26",
   "metadata": {},
   "source": [
    "-------------------"
   ]
  },
  {
   "cell_type": "markdown",
   "id": "020d1cc5",
   "metadata": {},
   "source": [
    "## 2-3.문자열 인덱싱과 슬라이싱"
   ]
  },
  {
   "cell_type": "code",
   "execution_count": null,
   "id": "9c875a9b",
   "metadata": {},
   "outputs": [],
   "source": [
    "a = '우리는 민족중흥의 역사적 사명을 띠고 이 땅에 태어났다.'\n",
    "print( )"
   ]
  },
  {
   "cell_type": "code",
   "execution_count": null,
   "id": "e50df3b3",
   "metadata": {},
   "outputs": [],
   "source": [
    "fruits = 'orange'\n",
    "print( ) \n"
   ]
  },
  {
   "cell_type": "markdown",
   "id": "1aecf2d0",
   "metadata": {},
   "source": [
    "---------------------------"
   ]
  },
  {
   "cell_type": "markdown",
   "id": "0f48d7cf",
   "metadata": {},
   "source": [
    "## 2-4.변수 활용"
   ]
  },
  {
   "cell_type": "markdown",
   "id": "d26c5d6e",
   "metadata": {},
   "source": [
    "### [실습문제]: 지불할 음식 총 가격 계산하기\n",
    "- 음식가격:  4,450 원\n",
    "- 세금: 6.75%\n",
    "- 팁: 15%\n",
    "1. meal 변수를 선언하고 값을 4450으로 지정하세요.\n",
    "2. tax 변수를 생성하고 값으로 6.75%를 소수점 형태로 지정하세요.\n",
    "3. tip 변수를 생성하고 값으로 15%를 소수점 형태로 지정하세요.\n",
    "4. meal의 변수값에 세금을 곱해 meal 변수에 지정하세요.\n",
    "5. 음식값에 tip을 더해 total 변수에 지정하세요.\n",
    "6. total 변수 값을 출력하세요."
   ]
  },
  {
   "cell_type": "code",
   "execution_count": null,
   "id": "933828b3",
   "metadata": {},
   "outputs": [],
   "source": [
    "meal = 4450    # 1.음식가격\n",
    "tax = 0.0675   # 2.세금\n",
    "tip = 0.15     # 3.팁\n",
    "\n"
   ]
  },
  {
   "cell_type": "markdown",
   "id": "a4fa74c9",
   "metadata": {},
   "source": [
    "### [실습문제]: 섭씨온도를 화씨온도로 변환하기\n",
    "- 섭씨 온도 (Celsius): 1 atm에서의 물의 어는점을 0도, 끓는점을 100도로 정한 온도 체계. (°C)\u000b\n",
    "\n",
    "- 화씨 온도 (Fahrenheit): 물이 어는 온도는 32도, 물이 끓는 온도는 212도. 180등분. (°F)\n",
    "- 섭씨온도(℃) = (5 / 9) × (℉ - 32)  # Celsius \n",
    "- 화씨온도(℉) = (9 / 5) × ℃ + 32    # Fahrenheit"
   ]
  },
  {
   "cell_type": "code",
   "execution_count": null,
   "id": "d65f3301",
   "metadata": {
    "scrolled": true
   },
   "outputs": [],
   "source": [
    "# c_temp = input()   #키보드로부터 입력을 받는 함수: input()\n",
    "# c_temp = int(c_temp)  # 정수로 변환: int()\n",
    "# print(c_temp, type(c_temp) )\n",
    "\n"
   ]
  },
  {
   "cell_type": "markdown",
   "id": "a57cbf87",
   "metadata": {},
   "source": [
    "-------"
   ]
  },
  {
   "cell_type": "markdown",
   "id": "f0265f78",
   "metadata": {},
   "source": [
    "## 2-5.연산자"
   ]
  },
  {
   "cell_type": "markdown",
   "id": "bff8051d",
   "metadata": {},
   "source": [
    "### [실습문제]: 동전 교환 프로그램 만들기"
   ]
  },
  {
   "cell_type": "code",
   "execution_count": null,
   "id": "105db988",
   "metadata": {},
   "outputs": [],
   "source": [
    "# 키보드로부터 금액 입력 받기\n",
    "print('---동전교환기 프로그램을 작동합니다.---')\n",
    "money = int( input('금액을 입력하세요: '))\n",
    "print('동전으로 교환하겠습니다.---------')\n",
    "\n",
    "\n",
    "\n",
    "\n"
   ]
  },
  {
   "cell_type": "markdown",
   "id": "f359d4a1",
   "metadata": {},
   "source": [
    "-----------------------------------------"
   ]
  },
  {
   "attachments": {},
   "cell_type": "markdown",
   "id": "d8c018ca",
   "metadata": {},
   "source": [
    "## 2-6.리스트(List)\n",
    "- 리스트는 여러 개의 데이터 값을 하나의 변수에 담을 수 있는 데이터 구조\n",
    "- 리스트는 순서(인덱스)가 있고 데이터를 수정, 삭제, 추가 가능하다.\n",
    "- 대괄호로 표현되고 내부 원소는 ,(쉼표)로 구분됨"
   ]
  },
  {
   "cell_type": "markdown",
   "id": "693f2484",
   "metadata": {},
   "source": [
    "### 리스트 생성 "
   ]
  },
  {
   "cell_type": "code",
   "execution_count": null,
   "id": "a1b79606",
   "metadata": {},
   "outputs": [],
   "source": [
    "a = list()\n",
    "a = []\n",
    "a = [1,2,3]\n",
    "a = ['I', 'Love', 'Python']\n",
    "b = [1,2, '사랑해요', 'Python']\n",
    "b = ['a', '1', 1, [2,3], -4]\n",
    "a = [1,2,['a','b',['사랑해', '파이썬']], 3]"
   ]
  },
  {
   "cell_type": "code",
   "execution_count": null,
   "id": "df23f6cf",
   "metadata": {},
   "outputs": [],
   "source": [
    "print(a)\n",
    "print(b)"
   ]
  },
  {
   "cell_type": "markdown",
   "id": "7eef7d7c",
   "metadata": {},
   "source": [
    "### 리스트 삭제"
   ]
  },
  {
   "cell_type": "code",
   "execution_count": null,
   "id": "52a5a894",
   "metadata": {},
   "outputs": [],
   "source": [
    "del(b)\n",
    "\n",
    "print(a)\n",
    "print(b)"
   ]
  },
  {
   "cell_type": "markdown",
   "id": "b3ab38e4",
   "metadata": {},
   "source": [
    "### 리스트 요소에 접근"
   ]
  },
  {
   "cell_type": "code",
   "execution_count": null,
   "id": "d36d5b62",
   "metadata": {
    "scrolled": true
   },
   "outputs": [],
   "source": [
    "print( a[1] )\n",
    "print( a[2] )\n",
    "print( a[2][1] )\n",
    "# '파이썬'을 출력하려면?\n"
   ]
  },
  {
   "cell_type": "markdown",
   "id": "b7811d5d",
   "metadata": {},
   "source": [
    "### 리스트 요소 추가 / 변경"
   ]
  },
  {
   "cell_type": "code",
   "execution_count": null,
   "id": "010220d8",
   "metadata": {},
   "outputs": [],
   "source": [
    "print(a)\n",
    "a.append('봄')     # 리스트 맨 끝에 추가\n",
    "print(a)\n",
    "a.insert(1, '봄')  # 리스트명.insert(인덱스위치, 값)\n",
    "print(a)"
   ]
  },
  {
   "cell_type": "markdown",
   "id": "5a5820d1",
   "metadata": {},
   "source": [
    "### 리스트 요소 삭제"
   ]
  },
  {
   "cell_type": "code",
   "execution_count": null,
   "id": "e4c76b68",
   "metadata": {},
   "outputs": [],
   "source": [
    "print(a)\n",
    "a.pop()     # 리스트 맨 끝 요소 삭제\n",
    "print(a)\n",
    "a.remove('봄')  # 리스트명.remove(값), 단 여러 개 일 경우 첫 번째만 삭제됨\n",
    "print(a)"
   ]
  },
  {
   "attachments": {},
   "cell_type": "markdown",
   "id": "df6f6d08",
   "metadata": {},
   "source": [
    "## 2-7.딕셔너리(Dictionary)\n",
    "- 딕셔너리는 쌍이 하나로 묶인 자료구조\n",
    "- 인덱스를 의미하는 ‘키(key)'와 자료의 내용인 ‘ 값(value)'을 이용하여  데이터를 관리\n",
    "- 중괄호 { }로 묶어 구성, 키(Key)와 값(Value)의 쌍으로 구성\n",
    "- 순서(sequence)가 없다"
   ]
  },
  {
   "cell_type": "markdown",
   "id": "4393e9e4",
   "metadata": {},
   "source": [
    "### 딕셔너리 생성"
   ]
  },
  {
   "cell_type": "code",
   "execution_count": null,
   "id": "da6bca38",
   "metadata": {},
   "outputs": [],
   "source": [
    "members = {'name':'진', 'age':29, 'email':'jin@gggmail.com'}"
   ]
  },
  {
   "cell_type": "markdown",
   "id": "b5f4d763",
   "metadata": {},
   "source": [
    "### 딕셔너리 키(key)와 값(value)에 접근하기"
   ]
  },
  {
   "cell_type": "code",
   "execution_count": null,
   "id": "0697a654",
   "metadata": {},
   "outputs": [],
   "source": [
    "scores = {'국어': 100, '수학': 90, '영어': 80}\n",
    "\n",
    "print(scores['국어'])  # 딕셔너리는 키로 접근한다.\n",
    "\n",
    "# 방법1\n",
    "print('---방법1---')\n",
    "for key in scores:\n",
    "    print('%s => %s' % (key, scores[key]))\n",
    "    \n",
    "# 방법2\n",
    "print('---방법2---')\n",
    "for key, value in scores.items():\n",
    "    print('%s => %s' % (key, value))"
   ]
  },
  {
   "cell_type": "code",
   "execution_count": null,
   "id": "011745db",
   "metadata": {},
   "outputs": [],
   "source": [
    "print(scores.keys())   # 키만 추출\n",
    "print(scores.values()) # 키만 추출\n",
    "print(scores.items())  # (키,값)쌍 형태로 추출"
   ]
  },
  {
   "cell_type": "markdown",
   "id": "7d76f114",
   "metadata": {},
   "source": [
    "### 딕셔너리에 요소 추가/수정/삭제"
   ]
  },
  {
   "cell_type": "code",
   "execution_count": null,
   "id": "f15a3506",
   "metadata": {},
   "outputs": [],
   "source": [
    "# 키로 요소 추가하기\n",
    "scores['music'] = 100\n",
    "print(scores)\n",
    "\n",
    "# 요소 값 수정하기\n",
    "scores['수학'] = 99\n",
    "print(scores)\n",
    "\n",
    "# 요소 삭제하기\n",
    "del (scores['영어'])\n",
    "print(scores)"
   ]
  },
  {
   "cell_type": "markdown",
   "id": "45e329e4",
   "metadata": {},
   "source": [
    "------------------------"
   ]
  },
  {
   "cell_type": "markdown",
   "id": "66025633",
   "metadata": {},
   "source": [
    "끝"
   ]
  }
 ],
 "metadata": {
  "kernelspec": {
   "display_name": "Python 3 (ipykernel)",
   "language": "python",
   "name": "python3"
  },
  "language_info": {
   "codemirror_mode": {
    "name": "ipython",
    "version": 3
   },
   "file_extension": ".py",
   "mimetype": "text/x-python",
   "name": "python",
   "nbconvert_exporter": "python",
   "pygments_lexer": "ipython3",
   "version": "3.10.9"
  },
  "vscode": {
   "interpreter": {
    "hash": "b41e41bff03a930185ac2cbea60ce521f7c8c2f5401ceb5c30214081f77ab4f5"
   }
  }
 },
 "nbformat": 4,
 "nbformat_minor": 5
}

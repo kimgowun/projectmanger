{
 "cells": [
  {
   "cell_type": "markdown",
   "id": "25f81d8c",
   "metadata": {},
   "source": [
    "# 파이썬 기초 다지기"
   ]
  },
  {
   "cell_type": "markdown",
   "id": "3f3da3bd",
   "metadata": {},
   "source": [
    "## 3- 조건문과 반복문\n",
    "데이터와 처리의 흐름을 제어하는 조건문과 반목문"
   ]
  },
  {
   "cell_type": "markdown",
   "id": "0c52a67e",
   "metadata": {},
   "source": [
    "----------------------------------"
   ]
  },
  {
   "cell_type": "markdown",
   "id": "aee8f2e8",
   "metadata": {},
   "source": [
    "## 3-1.if 조건문"
   ]
  },
  {
   "cell_type": "markdown",
   "id": "e89f3546",
   "metadata": {},
   "source": [
    "### 조건문: if "
   ]
  },
  {
   "cell_type": "code",
   "execution_count": null,
   "id": "4f161d86",
   "metadata": {},
   "outputs": [],
   "source": [
    "\n"
   ]
  },
  {
   "cell_type": "markdown",
   "id": "cb89ea65",
   "metadata": {},
   "source": [
    "### 조건문: if ~ else"
   ]
  },
  {
   "cell_type": "code",
   "execution_count": null,
   "id": "6eca2413",
   "metadata": {},
   "outputs": [],
   "source": [
    "\n"
   ]
  },
  {
   "cell_type": "markdown",
   "id": "13b404bd",
   "metadata": {},
   "source": [
    "### 조건문 : 중첩if"
   ]
  },
  {
   "cell_type": "code",
   "execution_count": null,
   "id": "9575f530",
   "metadata": {},
   "outputs": [],
   "source": [
    "\n"
   ]
  },
  {
   "cell_type": "markdown",
   "id": "349dec8b",
   "metadata": {},
   "source": [
    "### [실습문제] 짝수/홀수 판별하기"
   ]
  },
  {
   "cell_type": "code",
   "execution_count": null,
   "id": "de48c13d",
   "metadata": {},
   "outputs": [],
   "source": [
    "\n",
    "\n",
    "\n"
   ]
  },
  {
   "cell_type": "markdown",
   "id": "30919e6b",
   "metadata": {},
   "source": [
    "### [실습문제]\n",
    "피타고라스 정리에 의해 직각삼각형의 세 변의 길이에 대한 관계는 아래와 같습니다. 이 정리를 이용하여 세 변의 길이를 입력 받은 삼각형이 직각삼각형인지 아닌지 판별하는 프로그램을 만들어 보세요. \n"
   ]
  },
  {
   "cell_type": "code",
   "execution_count": null,
   "id": "f6e6ca29",
   "metadata": {
    "scrolled": false
   },
   "outputs": [],
   "source": [
    "# 1. 세 변의 길이 입력 받기\n",
    "a = int(input('변 a의 길이: '))\n",
    "b = int(input('변 b의 길이: '))\n",
    "c = int(input('변 c의 길이: '))\n",
    "\n",
    "print('-' * 30)  # 분리 선\n",
    "\n",
    "# 2. 직각삼각형 판별하기\n",
    "\n"
   ]
  },
  {
   "cell_type": "markdown",
   "id": "862598a5",
   "metadata": {},
   "source": [
    "### [실습문제]\n",
    "아래 조건을 만족하는 커피 자동주문 머신을 만들어보세요.<br><br>\n",
    "[커피 자동주문 머신]<br>\n",
    "친구들과 현금 커피 자동주문 머신 앞에서 \n",
    " - 아메리카노 2잔과 카페라테 2잔 카푸치노 1잔을 주문하였다. \n",
    " - 아메리카노 한잔에 2500원이고\n",
    " - 카페라테는 한잔에 3000원\n",
    " - 카푸치노는 한잔에 3000원이다. \n",
    "커피 종류와 잔 수를 결정한 후 현금 15000원을 투입하고 잔돈을 1000원 받았다. "
   ]
  },
  {
   "cell_type": "code",
   "execution_count": null,
   "id": "0d6035c2",
   "metadata": {},
   "outputs": [],
   "source": [
    "menu = '''[커피 자동주문 머신 메뉴]\n",
    "------------------------------\n",
    "-아메리카노는 2500원\n",
    "-카레라떼는 3000원\n",
    "-카푸치노는 3000원\n",
    "입니다. 원하시는 커피종류와 잔수를 입력하세요.\n",
    "------------------------------'''\n",
    "print(menu)\n",
    "coffee1 = int(input(\"아메리카노 몇잔?\"))\n",
    "coffee2 = int(input(\"카페라떼 몇잔?\"))\n",
    "coffee3 = int(input(\"카푸치노 몇잔?\"))\n",
    "\n",
    "\n",
    "\n"
   ]
  },
  {
   "cell_type": "markdown",
   "id": "67412428",
   "metadata": {},
   "source": [
    "## 3-2.반복문"
   ]
  },
  {
   "cell_type": "markdown",
   "id": "44197774",
   "metadata": {},
   "source": [
    "### 반복문: for 반복문"
   ]
  },
  {
   "cell_type": "code",
   "execution_count": null,
   "id": "9f69ecc4",
   "metadata": {
    "scrolled": true
   },
   "outputs": [],
   "source": []
  },
  {
   "cell_type": "markdown",
   "id": "8288e636",
   "metadata": {},
   "source": [
    "### [실습문제]\n",
    "키보드로 양의 정수(n)을 입력 받아 1~n까지의 합을 구하는 프로그램을 만들어 보세요. "
   ]
  },
  {
   "cell_type": "code",
   "execution_count": null,
   "id": "d6774150",
   "metadata": {},
   "outputs": [],
   "source": [
    "# 1. 숫자 N을 입력하세요.\n",
    "\n",
    "\n",
    "# 2. 1~N까지 합계를 구하세요.\n",
    "\n"
   ]
  },
  {
   "cell_type": "markdown",
   "id": "aae06acb",
   "metadata": {},
   "source": [
    "### [실습문제]\n",
    "키보드로 양의 정수(n)을 입력 받아 1~n까지의 합을 구할 때 짝수를 제외하고 합을 구하는 프로그램을 만들어 보세요. "
   ]
  },
  {
   "cell_type": "code",
   "execution_count": null,
   "id": "c87285cf",
   "metadata": {},
   "outputs": [],
   "source": [
    "\n"
   ]
  },
  {
   "cell_type": "markdown",
   "id": "ac62e6f7",
   "metadata": {},
   "source": [
    "### 반복문: while 반복문"
   ]
  },
  {
   "cell_type": "code",
   "execution_count": null,
   "id": "f2fb3ce9",
   "metadata": {},
   "outputs": [],
   "source": [
    "num1, num2 = 0, 0\n",
    "\n",
    "while True:\n",
    "    num1 = int(input(\"더할 첫 번째 숫자: \"))\n",
    "    if num1 == 0:\n",
    "        break\n",
    "    \n",
    "    num2 = int(input(\"더할 두 번째 숫자: \"))\n",
    "    \n",
    "    print(f'{num1} + {num2} = {num1 + num2}')\n",
    "    \n",
    "print(\"0을 입력해서 반복문을 탈출했습니다.\")"
   ]
  },
  {
   "cell_type": "markdown",
   "id": "02a797a4",
   "metadata": {},
   "source": [
    "### [실습문제] 도둑잡기 게임 만들기\n",
    "경찰에 쫓기던 범인이 3개의 방 중에 한 곳에 숨어버렸습니다. 범인은 방문을 열 때마다 무작위로 3개의 방 중 하나의 방으로 이동합니다. 3개의 방 중 하나의 방을 선택했을 때 범인이 있다면 100점, 없을 때 -10점을 부여하고 범인을 잡으면 게임을 종료하는 프로그램을 만들어 보세요."
   ]
  },
  {
   "cell_type": "code",
   "execution_count": null,
   "id": "e08b9dc4",
   "metadata": {},
   "outputs": [],
   "source": [
    "\n"
   ]
  },
  {
   "cell_type": "markdown",
   "id": "0d03701c",
   "metadata": {},
   "source": [
    "### [실습문제] 공이 튕긴 횟수 구하기\n",
    "공을 일정 높이에서 떨어뜨리면, 원래 높이의 1/2만큼 튀어 오릅니다. 이를 반복하다가 높이가 0.00001m보다 낮으면 튀어 오르지 않습니다. while문을 이용하여 공이 튀어 오르는 총 횟수를 구하는 프로그램을 만들어 보세요. "
   ]
  },
  {
   "cell_type": "code",
   "execution_count": null,
   "id": "1ac5675e",
   "metadata": {
    "scrolled": true
   },
   "outputs": [],
   "source": [
    "\n"
   ]
  },
  {
   "attachments": {},
   "cell_type": "markdown",
   "id": "ecdb476f",
   "metadata": {},
   "source": [
    "### [실습문제] 커피 자동주문 프로그램 업그레이드\n",
    "앞에서 만들어 본 커피 자동주문 머신 프로그램을 while문을 이용하여 돈을 모두 지불할 때까지 돈을 입력 받도록 프로그램 기능 수정하기"
   ]
  },
  {
   "cell_type": "code",
   "execution_count": null,
   "id": "2ce8fbfc",
   "metadata": {
    "scrolled": true
   },
   "outputs": [],
   "source": [
    "menu = '''[커피 자동주문 머신 메뉴]\n",
    "------------------------------\n",
    "-아메리카노는 2500원\n",
    "-카레라떼는 3000원\n",
    "-카푸치노는 3000원\n",
    "입니다. 원하시는 커피종류와 잔수를 입력하세요.\n",
    "------------------------------'''\n",
    "print(menu)\n",
    "coffee1 = int(input(\"아메리카노 몇잔?\"))\n",
    "coffee2 = int(input(\"카페라떼 몇잔?\"))\n",
    "coffee3 = int(input(\"카푸치노 몇잔?\"))\n",
    "\n",
    "total = coffee1*2500 + coffee2*3000 + coffee3*3000\n",
    "print(\"지불할 총 금액은 \", total, \"원 입니다\")\n",
    "\n",
    "\n",
    "\n",
    "\n"
   ]
  },
  {
   "cell_type": "markdown",
   "id": "af0e48ab",
   "metadata": {},
   "source": [
    "## 3-3.난수(Random Variable)"
   ]
  },
  {
   "cell_type": "markdown",
   "id": "e34c55ca",
   "metadata": {},
   "source": [
    "### [실습문제] 임의의 두 수 합 구하기\n",
    "1부터 10까지의 범위를 갖는 임의의 두 정수 a, b를 더하여 결과 출력하기"
   ]
  },
  {
   "cell_type": "code",
   "execution_count": null,
   "id": "3c007936",
   "metadata": {},
   "outputs": [],
   "source": []
  },
  {
   "cell_type": "markdown",
   "id": "357e1bdd",
   "metadata": {},
   "source": [
    "### [실습문제]\n",
    "주사위를 100번 던져서 나오는 숫자를 각 숫자별로 카운트하고 가장 많이 나온 숫자와 그 숫자의 횟수를 출력하시오."
   ]
  },
  {
   "cell_type": "code",
   "execution_count": null,
   "id": "782da2b4",
   "metadata": {},
   "outputs": [],
   "source": []
  },
  {
   "cell_type": "markdown",
   "id": "45e329e4",
   "metadata": {},
   "source": [
    "------------------------"
   ]
  },
  {
   "cell_type": "markdown",
   "id": "66025633",
   "metadata": {},
   "source": [
    "끝"
   ]
  }
 ],
 "metadata": {
  "kernelspec": {
   "display_name": "Python 3 (ipykernel)",
   "language": "python",
   "name": "python3"
  },
  "language_info": {
   "codemirror_mode": {
    "name": "ipython",
    "version": 3
   },
   "file_extension": ".py",
   "mimetype": "text/x-python",
   "name": "python",
   "nbconvert_exporter": "python",
   "pygments_lexer": "ipython3",
   "version": "3.10.9"
  },
  "vscode": {
   "interpreter": {
    "hash": "b41e41bff03a930185ac2cbea60ce521f7c8c2f5401ceb5c30214081f77ab4f5"
   }
  }
 },
 "nbformat": 4,
 "nbformat_minor": 5
}
